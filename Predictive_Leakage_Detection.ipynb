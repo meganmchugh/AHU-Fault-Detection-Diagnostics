{
 "cells": [
  {
   "cell_type": "markdown",
   "metadata": {},
   "source": [
    "# SBaC Term Project: Predictive Air Handling Unit Valve Leakage\n",
    "## Megan McHugh"
   ]
  },
  {
   "cell_type": "markdown",
   "metadata": {},
   "source": [
    "### Load Packages"
   ]
  },
  {
   "cell_type": "code",
   "execution_count": 8,
   "metadata": {},
   "outputs": [],
   "source": [
    "import pandas as pd\n",
    "import numpy as np\n",
    "import matplotlib.pyplot as plt\n",
    "import seaborn as sns\n",
    "import collections\n",
    "import math\n",
    "import itertools\n",
    "import pickle\n",
    "\n",
    "from matplotlib.patches import Patch\n",
    "from sklearn import (tree, svm, neighbors, neural_network, ensemble, linear_model, naive_bayes)\n",
    "from sklearn.grid_search import RandomizedSearchCV\n",
    "from sklearn.metrics import (accuracy_score, confusion_matrix, classification_report, roc_auc_score)\n",
    "from sklearn.utils import resample\n",
    "from sklearn.model_selection import (cross_validate, GridSearchCV, train_test_split, KFold,\n",
    "                                     TimeSeriesSplit, ShuffleSplit, StratifiedKFold, \n",
    "                                     GroupShuffleSplit, GroupKFold, StratifiedShuffleSplit)\n",
    "\n",
    "%matplotlib inline"
   ]
  },
  {
   "cell_type": "markdown",
   "metadata": {},
   "source": [
    "### Read Data"
   ]
  },
  {
   "cell_type": "code",
   "execution_count": 9,
   "metadata": {},
   "outputs": [
    {
     "name": "stdout",
     "output_type": "stream",
     "text": [
      "chw shape: (108129, 10)\n",
      "stm shape: (468886, 10)\n"
     ]
    }
   ],
   "source": [
    "# preprocessed data in R. valve = 0. colinear columns are removed. near zero variance columns (AHU) is removed.\n",
    "chw = pd.read_csv('chw_data.csv')\n",
    "stm = pd.read_csv('stm_data.csv')\n",
    "\n",
    "# Number of rows and columns\n",
    "print(\"chw shape:\",chw.shape)\n",
    "print(\"stm shape:\",stm.shape)"
   ]
  },
  {
   "cell_type": "code",
   "execution_count": 26,
   "metadata": {
    "scrolled": true
   },
   "outputs": [
    {
     "data": {
      "text/plain": [
       "'CHW Data'"
      ]
     },
     "metadata": {},
     "output_type": "display_data"
    },
    {
     "data": {
      "text/html": [
       "<div>\n",
       "<style scoped>\n",
       "    .dataframe tbody tr th:only-of-type {\n",
       "        vertical-align: middle;\n",
       "    }\n",
       "\n",
       "    .dataframe tbody tr th {\n",
       "        vertical-align: top;\n",
       "    }\n",
       "\n",
       "    .dataframe thead th {\n",
       "        text-align: right;\n",
       "    }\n",
       "</style>\n",
       "<table border=\"1\" class=\"dataframe\">\n",
       "  <thead>\n",
       "    <tr style=\"text-align: right;\">\n",
       "      <th></th>\n",
       "      <th>BldgType</th>\n",
       "      <th>Month</th>\n",
       "      <th>Day</th>\n",
       "      <th>Hour</th>\n",
       "      <th>Fan</th>\n",
       "      <th>MAT</th>\n",
       "      <th>MAH</th>\n",
       "      <th>SAT</th>\n",
       "      <th>SPT</th>\n",
       "      <th>Leakage</th>\n",
       "    </tr>\n",
       "  </thead>\n",
       "  <tbody>\n",
       "    <tr>\n",
       "      <th>0</th>\n",
       "      <td>2</td>\n",
       "      <td>4</td>\n",
       "      <td>2</td>\n",
       "      <td>6</td>\n",
       "      <td>20</td>\n",
       "      <td>70</td>\n",
       "      <td>52</td>\n",
       "      <td>51</td>\n",
       "      <td>58</td>\n",
       "      <td>1</td>\n",
       "    </tr>\n",
       "    <tr>\n",
       "      <th>1</th>\n",
       "      <td>2</td>\n",
       "      <td>4</td>\n",
       "      <td>2</td>\n",
       "      <td>20</td>\n",
       "      <td>20</td>\n",
       "      <td>71</td>\n",
       "      <td>52</td>\n",
       "      <td>57</td>\n",
       "      <td>58</td>\n",
       "      <td>1</td>\n",
       "    </tr>\n",
       "    <tr>\n",
       "      <th>2</th>\n",
       "      <td>2</td>\n",
       "      <td>4</td>\n",
       "      <td>2</td>\n",
       "      <td>21</td>\n",
       "      <td>20</td>\n",
       "      <td>71</td>\n",
       "      <td>52</td>\n",
       "      <td>55</td>\n",
       "      <td>58</td>\n",
       "      <td>1</td>\n",
       "    </tr>\n",
       "    <tr>\n",
       "      <th>3</th>\n",
       "      <td>2</td>\n",
       "      <td>4</td>\n",
       "      <td>2</td>\n",
       "      <td>21</td>\n",
       "      <td>20</td>\n",
       "      <td>71</td>\n",
       "      <td>52</td>\n",
       "      <td>57</td>\n",
       "      <td>58</td>\n",
       "      <td>1</td>\n",
       "    </tr>\n",
       "    <tr>\n",
       "      <th>4</th>\n",
       "      <td>2</td>\n",
       "      <td>4</td>\n",
       "      <td>3</td>\n",
       "      <td>5</td>\n",
       "      <td>20</td>\n",
       "      <td>71</td>\n",
       "      <td>52</td>\n",
       "      <td>56</td>\n",
       "      <td>58</td>\n",
       "      <td>1</td>\n",
       "    </tr>\n",
       "  </tbody>\n",
       "</table>\n",
       "</div>"
      ],
      "text/plain": [
       "   BldgType  Month  Day  Hour  Fan  MAT  MAH  SAT  SPT  Leakage\n",
       "0         2      4    2     6   20   70   52   51   58        1\n",
       "1         2      4    2    20   20   71   52   57   58        1\n",
       "2         2      4    2    21   20   71   52   55   58        1\n",
       "3         2      4    2    21   20   71   52   57   58        1\n",
       "4         2      4    3     5   20   71   52   56   58        1"
      ]
     },
     "metadata": {},
     "output_type": "display_data"
    },
    {
     "data": {
      "text/plain": [
       "'STM Data'"
      ]
     },
     "metadata": {},
     "output_type": "display_data"
    },
    {
     "data": {
      "text/html": [
       "<div>\n",
       "<style scoped>\n",
       "    .dataframe tbody tr th:only-of-type {\n",
       "        vertical-align: middle;\n",
       "    }\n",
       "\n",
       "    .dataframe tbody tr th {\n",
       "        vertical-align: top;\n",
       "    }\n",
       "\n",
       "    .dataframe thead th {\n",
       "        text-align: right;\n",
       "    }\n",
       "</style>\n",
       "<table border=\"1\" class=\"dataframe\">\n",
       "  <thead>\n",
       "    <tr style=\"text-align: right;\">\n",
       "      <th></th>\n",
       "      <th>BldgType</th>\n",
       "      <th>Month</th>\n",
       "      <th>Day</th>\n",
       "      <th>Hour</th>\n",
       "      <th>Fan</th>\n",
       "      <th>MAT</th>\n",
       "      <th>MAH</th>\n",
       "      <th>SAT</th>\n",
       "      <th>SPT</th>\n",
       "      <th>Leakage</th>\n",
       "    </tr>\n",
       "  </thead>\n",
       "  <tbody>\n",
       "    <tr>\n",
       "      <th>0</th>\n",
       "      <td>5</td>\n",
       "      <td>8</td>\n",
       "      <td>6</td>\n",
       "      <td>0</td>\n",
       "      <td>63</td>\n",
       "      <td>73</td>\n",
       "      <td>52</td>\n",
       "      <td>60</td>\n",
       "      <td>60</td>\n",
       "      <td>0</td>\n",
       "    </tr>\n",
       "    <tr>\n",
       "      <th>1</th>\n",
       "      <td>5</td>\n",
       "      <td>8</td>\n",
       "      <td>6</td>\n",
       "      <td>0</td>\n",
       "      <td>63</td>\n",
       "      <td>73</td>\n",
       "      <td>52</td>\n",
       "      <td>60</td>\n",
       "      <td>60</td>\n",
       "      <td>0</td>\n",
       "    </tr>\n",
       "    <tr>\n",
       "      <th>2</th>\n",
       "      <td>5</td>\n",
       "      <td>8</td>\n",
       "      <td>6</td>\n",
       "      <td>0</td>\n",
       "      <td>62</td>\n",
       "      <td>73</td>\n",
       "      <td>52</td>\n",
       "      <td>60</td>\n",
       "      <td>60</td>\n",
       "      <td>0</td>\n",
       "    </tr>\n",
       "    <tr>\n",
       "      <th>3</th>\n",
       "      <td>5</td>\n",
       "      <td>8</td>\n",
       "      <td>6</td>\n",
       "      <td>0</td>\n",
       "      <td>62</td>\n",
       "      <td>73</td>\n",
       "      <td>52</td>\n",
       "      <td>60</td>\n",
       "      <td>60</td>\n",
       "      <td>0</td>\n",
       "    </tr>\n",
       "    <tr>\n",
       "      <th>4</th>\n",
       "      <td>5</td>\n",
       "      <td>8</td>\n",
       "      <td>6</td>\n",
       "      <td>1</td>\n",
       "      <td>62</td>\n",
       "      <td>73</td>\n",
       "      <td>52</td>\n",
       "      <td>60</td>\n",
       "      <td>60</td>\n",
       "      <td>0</td>\n",
       "    </tr>\n",
       "  </tbody>\n",
       "</table>\n",
       "</div>"
      ],
      "text/plain": [
       "   BldgType  Month  Day  Hour  Fan  MAT  MAH  SAT  SPT  Leakage\n",
       "0         5      8    6     0   63   73   52   60   60        0\n",
       "1         5      8    6     0   63   73   52   60   60        0\n",
       "2         5      8    6     0   62   73   52   60   60        0\n",
       "3         5      8    6     0   62   73   52   60   60        0\n",
       "4         5      8    6     1   62   73   52   60   60        0"
      ]
     },
     "metadata": {},
     "output_type": "display_data"
    }
   ],
   "source": [
    "display('CHW Data', chw.head(),\n",
    "       'STM Data', stm.head())"
   ]
  },
  {
   "cell_type": "code",
   "execution_count": null,
   "metadata": {
    "scrolled": true
   },
   "outputs": [],
   "source": [
    "f1 = plt.figure(1)\n",
    "plt.hist(chw['Leakage'], bins = 2)\n",
    "plt.xlabel('CHW Leakage Flags')\n",
    "\n",
    "f2 = plt.figure(2)\n",
    "plt.hist(stm['Leakage'], bins = 2, color = 'red')\n",
    "plt.xlabel('STM Leakage Flags')\n",
    "\n",
    "plt.show()"
   ]
  },
  {
   "cell_type": "markdown",
   "metadata": {},
   "source": [
    "### Predictors/Target Split"
   ]
  },
  {
   "cell_type": "code",
   "execution_count": 10,
   "metadata": {
    "scrolled": true
   },
   "outputs": [
    {
     "data": {
      "text/plain": [
       "'CHW Predictors'"
      ]
     },
     "metadata": {},
     "output_type": "display_data"
    },
    {
     "data": {
      "text/html": [
       "<div>\n",
       "<style scoped>\n",
       "    .dataframe tbody tr th:only-of-type {\n",
       "        vertical-align: middle;\n",
       "    }\n",
       "\n",
       "    .dataframe tbody tr th {\n",
       "        vertical-align: top;\n",
       "    }\n",
       "\n",
       "    .dataframe thead th {\n",
       "        text-align: right;\n",
       "    }\n",
       "</style>\n",
       "<table border=\"1\" class=\"dataframe\">\n",
       "  <thead>\n",
       "    <tr style=\"text-align: right;\">\n",
       "      <th></th>\n",
       "      <th>BldgType</th>\n",
       "      <th>Month</th>\n",
       "      <th>Day</th>\n",
       "      <th>Hour</th>\n",
       "      <th>Fan</th>\n",
       "      <th>MAT</th>\n",
       "      <th>MAH</th>\n",
       "      <th>SAT</th>\n",
       "      <th>SPT</th>\n",
       "    </tr>\n",
       "  </thead>\n",
       "  <tbody>\n",
       "    <tr>\n",
       "      <th>0</th>\n",
       "      <td>2</td>\n",
       "      <td>4</td>\n",
       "      <td>2</td>\n",
       "      <td>6</td>\n",
       "      <td>20</td>\n",
       "      <td>70</td>\n",
       "      <td>52</td>\n",
       "      <td>51</td>\n",
       "      <td>58</td>\n",
       "    </tr>\n",
       "    <tr>\n",
       "      <th>1</th>\n",
       "      <td>2</td>\n",
       "      <td>4</td>\n",
       "      <td>2</td>\n",
       "      <td>20</td>\n",
       "      <td>20</td>\n",
       "      <td>71</td>\n",
       "      <td>52</td>\n",
       "      <td>57</td>\n",
       "      <td>58</td>\n",
       "    </tr>\n",
       "    <tr>\n",
       "      <th>2</th>\n",
       "      <td>2</td>\n",
       "      <td>4</td>\n",
       "      <td>2</td>\n",
       "      <td>21</td>\n",
       "      <td>20</td>\n",
       "      <td>71</td>\n",
       "      <td>52</td>\n",
       "      <td>55</td>\n",
       "      <td>58</td>\n",
       "    </tr>\n",
       "    <tr>\n",
       "      <th>3</th>\n",
       "      <td>2</td>\n",
       "      <td>4</td>\n",
       "      <td>2</td>\n",
       "      <td>21</td>\n",
       "      <td>20</td>\n",
       "      <td>71</td>\n",
       "      <td>52</td>\n",
       "      <td>57</td>\n",
       "      <td>58</td>\n",
       "    </tr>\n",
       "    <tr>\n",
       "      <th>4</th>\n",
       "      <td>2</td>\n",
       "      <td>4</td>\n",
       "      <td>3</td>\n",
       "      <td>5</td>\n",
       "      <td>20</td>\n",
       "      <td>71</td>\n",
       "      <td>52</td>\n",
       "      <td>56</td>\n",
       "      <td>58</td>\n",
       "    </tr>\n",
       "  </tbody>\n",
       "</table>\n",
       "</div>"
      ],
      "text/plain": [
       "   BldgType  Month  Day  Hour  Fan  MAT  MAH  SAT  SPT\n",
       "0         2      4    2     6   20   70   52   51   58\n",
       "1         2      4    2    20   20   71   52   57   58\n",
       "2         2      4    2    21   20   71   52   55   58\n",
       "3         2      4    2    21   20   71   52   57   58\n",
       "4         2      4    3     5   20   71   52   56   58"
      ]
     },
     "metadata": {},
     "output_type": "display_data"
    },
    {
     "data": {
      "text/plain": [
       "'STM Predictors'"
      ]
     },
     "metadata": {},
     "output_type": "display_data"
    },
    {
     "data": {
      "text/html": [
       "<div>\n",
       "<style scoped>\n",
       "    .dataframe tbody tr th:only-of-type {\n",
       "        vertical-align: middle;\n",
       "    }\n",
       "\n",
       "    .dataframe tbody tr th {\n",
       "        vertical-align: top;\n",
       "    }\n",
       "\n",
       "    .dataframe thead th {\n",
       "        text-align: right;\n",
       "    }\n",
       "</style>\n",
       "<table border=\"1\" class=\"dataframe\">\n",
       "  <thead>\n",
       "    <tr style=\"text-align: right;\">\n",
       "      <th></th>\n",
       "      <th>BldgType</th>\n",
       "      <th>Month</th>\n",
       "      <th>Day</th>\n",
       "      <th>Hour</th>\n",
       "      <th>Fan</th>\n",
       "      <th>MAT</th>\n",
       "      <th>MAH</th>\n",
       "      <th>SAT</th>\n",
       "      <th>SPT</th>\n",
       "    </tr>\n",
       "  </thead>\n",
       "  <tbody>\n",
       "    <tr>\n",
       "      <th>0</th>\n",
       "      <td>5</td>\n",
       "      <td>8</td>\n",
       "      <td>6</td>\n",
       "      <td>0</td>\n",
       "      <td>63</td>\n",
       "      <td>73</td>\n",
       "      <td>52</td>\n",
       "      <td>60</td>\n",
       "      <td>60</td>\n",
       "    </tr>\n",
       "    <tr>\n",
       "      <th>1</th>\n",
       "      <td>5</td>\n",
       "      <td>8</td>\n",
       "      <td>6</td>\n",
       "      <td>0</td>\n",
       "      <td>63</td>\n",
       "      <td>73</td>\n",
       "      <td>52</td>\n",
       "      <td>60</td>\n",
       "      <td>60</td>\n",
       "    </tr>\n",
       "    <tr>\n",
       "      <th>2</th>\n",
       "      <td>5</td>\n",
       "      <td>8</td>\n",
       "      <td>6</td>\n",
       "      <td>0</td>\n",
       "      <td>62</td>\n",
       "      <td>73</td>\n",
       "      <td>52</td>\n",
       "      <td>60</td>\n",
       "      <td>60</td>\n",
       "    </tr>\n",
       "    <tr>\n",
       "      <th>3</th>\n",
       "      <td>5</td>\n",
       "      <td>8</td>\n",
       "      <td>6</td>\n",
       "      <td>0</td>\n",
       "      <td>62</td>\n",
       "      <td>73</td>\n",
       "      <td>52</td>\n",
       "      <td>60</td>\n",
       "      <td>60</td>\n",
       "    </tr>\n",
       "    <tr>\n",
       "      <th>4</th>\n",
       "      <td>5</td>\n",
       "      <td>8</td>\n",
       "      <td>6</td>\n",
       "      <td>1</td>\n",
       "      <td>62</td>\n",
       "      <td>73</td>\n",
       "      <td>52</td>\n",
       "      <td>60</td>\n",
       "      <td>60</td>\n",
       "    </tr>\n",
       "  </tbody>\n",
       "</table>\n",
       "</div>"
      ],
      "text/plain": [
       "   BldgType  Month  Day  Hour  Fan  MAT  MAH  SAT  SPT\n",
       "0         5      8    6     0   63   73   52   60   60\n",
       "1         5      8    6     0   63   73   52   60   60\n",
       "2         5      8    6     0   62   73   52   60   60\n",
       "3         5      8    6     0   62   73   52   60   60\n",
       "4         5      8    6     1   62   73   52   60   60"
      ]
     },
     "metadata": {},
     "output_type": "display_data"
    },
    {
     "data": {
      "text/plain": [
       "'CHW Target'"
      ]
     },
     "metadata": {},
     "output_type": "display_data"
    },
    {
     "data": {
      "text/plain": [
       "0    1\n",
       "1    1\n",
       "2    1\n",
       "3    1\n",
       "4    1\n",
       "Name: Leakage, dtype: int64"
      ]
     },
     "metadata": {},
     "output_type": "display_data"
    },
    {
     "data": {
      "text/plain": [
       "'STM Target'"
      ]
     },
     "metadata": {},
     "output_type": "display_data"
    },
    {
     "data": {
      "text/plain": [
       "0    0\n",
       "1    0\n",
       "2    0\n",
       "3    0\n",
       "4    0\n",
       "Name: Leakage, dtype: int64"
      ]
     },
     "metadata": {},
     "output_type": "display_data"
    }
   ],
   "source": [
    "# Predictors\n",
    "X_chw = chw.iloc[:, 0:9]\n",
    "X_stm = stm.iloc[:, 0:9]\n",
    "\n",
    "# Targets\n",
    "Y_chw = chw['Leakage']\n",
    "Y_stm = stm['Leakage']\n",
    "\n",
    "# View\n",
    "display('CHW Predictors', X_chw.head(),\n",
    "       'STM Predictors', X_stm.head(),\n",
    "       'CHW Target', Y_chw.head(),\n",
    "       'STM Target', Y_stm.head())"
   ]
  },
  {
   "cell_type": "code",
   "execution_count": 5,
   "metadata": {},
   "outputs": [
    {
     "name": "stdout",
     "output_type": "stream",
     "text": [
      "CHW Counter({0: 66252, 1: 41877})\n",
      "STM Counter({0: 259129, 1: 209757})\n"
     ]
    }
   ],
   "source": [
    "# Double check target split weight between Leakage flag values\n",
    "set(Y_chw)\n",
    "print('CHW',collections.Counter(Y_chw))\n",
    "set(Y_stm)\n",
    "print('STM',collections.Counter(Y_stm))"
   ]
  },
  {
   "cell_type": "markdown",
   "metadata": {},
   "source": [
    "### Train/Test/Validation Splits\n",
    "(60% / 20% / 20%)"
   ]
  },
  {
   "cell_type": "code",
   "execution_count": 11,
   "metadata": {},
   "outputs": [
    {
     "name": "stdout",
     "output_type": "stream",
     "text": [
      "CHW:\n",
      " X train set: 64877 length ~ 60 % \n",
      " X test set: 21626 length ~ 20 % \n",
      " X validation set: 21626 length ~ 20 % \n",
      " Y train set: 64877 length ~ 60 % \n",
      " Y test set: 21626 length ~ 20 % \n",
      " Y validation set: 21626 length ~ 20 % \n",
      "\n",
      "STM:\n",
      " X train set: 281331 length ~ 60 % \n",
      " X test set: 93778 length ~ 20 % \n",
      " X validation set: 93777 length ~ 20 % \n",
      " Y train set: 281331 length ~ 60 % \n",
      " Y test set: 93778 length ~ 20 % \n",
      " Y validation set: 93777 length ~ 20 %\n"
     ]
    }
   ],
   "source": [
    "# Partial Split/Test Split: 80/20\n",
    "X_chw_split, X_chw_test, Y_chw_split, Y_chw_test = train_test_split(X_chw, Y_chw, test_size = 0.20, train_size = 0.80)\n",
    "X_stm_split, X_stm_test, Y_stm_split, Y_stm_test = train_test_split(X_stm, Y_stm, test_size = 0.20, train_size = 0.80)\n",
    "\n",
    "# Train/Validation Split: 75/25\n",
    "X_chw_train, X_chw_eval, Y_chw_train, Y_chw_eval = train_test_split(X_chw_split, Y_chw_split, test_size = 0.25, train_size = 0.75)\n",
    "X_stm_train, X_stm_eval, Y_stm_train, Y_stm_eval = train_test_split(X_stm_split, Y_stm_split, test_size = 0.25, train_size = 0.75)\n",
    "\n",
    "print(\"CHW:\\n\", \n",
    "      'X train set:', len(X_chw_train), 'length ~', round(len(X_chw_train)/len(X_chw)*100), '% \\n',\n",
    "      'X test set:', len(X_chw_test), 'length ~', round(len(X_chw_test)/len(X_chw)*100), '% \\n',\n",
    "      'X validation set:', len(X_chw_eval), 'length ~', round(len(X_chw_eval)/len(X_chw)*100), '% \\n',\n",
    "      'Y train set:', len(Y_chw_train), 'length ~', round(len(Y_chw_train)/len(Y_chw)*100), '% \\n',\n",
    "      'Y test set:', len(Y_chw_test), 'length ~', round(len(Y_chw_test)/len(Y_chw)*100), '% \\n',\n",
    "      'Y validation set:', len(Y_chw_eval), 'length ~', round(len(Y_chw_eval)/len(Y_chw)*100), '% \\n')\n",
    "print(\"STM:\\n\", \n",
    "      'X train set:', len(X_stm_train), 'length ~', round(len(X_stm_train)/len(X_stm)*100), '% \\n',\n",
    "      'X test set:', len(X_stm_test), 'length ~', round(len(X_stm_test)/len(X_stm)*100), '% \\n',\n",
    "      'X validation set:', len(X_stm_eval), 'length ~', round(len(X_stm_eval)/len(X_stm)*100), '% \\n',\n",
    "      'Y train set:', len(Y_stm_train), 'length ~', round(len(Y_stm_train)/len(Y_stm)*100), '% \\n',\n",
    "      'Y test set:', len(Y_stm_test), 'length ~', round(len(Y_stm_test)/len(Y_stm)*100), '% \\n',\n",
    "      'Y validation set:', len(Y_stm_eval), 'length ~', round(len(Y_stm_eval)/len(Y_stm)*100), '%')"
   ]
  },
  {
   "cell_type": "markdown",
   "metadata": {},
   "source": [
    "### Generate and Fit Models"
   ]
  },
  {
   "cell_type": "code",
   "execution_count": 14,
   "metadata": {},
   "outputs": [],
   "source": [
    "# Create classification models for chw and stm\n",
    "chw_m1 = stm_m1 = linear_model.LogisticRegression()\n",
    "chw_m2 = stm_m2 = neighbors.KNeighborsClassifier(n_neighbors=2)\n",
    "chw_m3 = stm_m3 = svm.LinearSVC()\n",
    "chw_m4 = stm_m4 = naive_bayes.GaussianNB()\n",
    "chw_m5 = stm_m5 = tree.DecisionTreeClassifier()\n",
    "chw_m6 = stm_m6 = neural_network.MLPClassifier()\n",
    "chw_m7 = stm_m7 = ensemble.BaggingClassifier()\n",
    "chw_m8 = stm_m8 = ensemble.RandomForestClassifier()\n",
    "chw_m9 = stm_m9 = ensemble.AdaBoostClassifier()\n",
    "chw_m10 = stm_m10 = ensemble.GradientBoostingClassifier()"
   ]
  },
  {
   "cell_type": "code",
   "execution_count": 15,
   "metadata": {},
   "outputs": [],
   "source": [
    "# Model lists\n",
    "chw_models = [chw_m1,chw_m2,chw_m3,chw_m4,chw_m5,chw_m6,chw_m7,chw_m8,chw_m9,chw_m10]\n",
    "stm_models = [stm_m1,stm_m2,stm_m3,stm_m4,stm_m5,stm_m6,stm_m7,stm_m8,stm_m9,stm_m10]\n",
    "\n",
    "model_names = ['LogisticRegression', 'KNN', 'LinearSVC', 'GaussianNB', 'DecisionTree',\n",
    "                    'MLP', 'Bagging', 'RandomForest', 'AdaBoost', 'GradientBoosting']"
   ]
  },
  {
   "cell_type": "code",
   "execution_count": 16,
   "metadata": {},
   "outputs": [],
   "source": [
    "# Train models\n",
    "for i in range(len(chw_models)):\n",
    "    chw_models[i].fit(X_chw_train, Y_chw_train)\n",
    "    stm_models[i].fit(X_stm_train, Y_stm_train)"
   ]
  },
  {
   "cell_type": "code",
   "execution_count": null,
   "metadata": {},
   "outputs": [],
   "source": [
    "chw_m5 = stm_m5 = tree.DecisionTreeClassifier()\n"
   ]
  },
  {
   "cell_type": "markdown",
   "metadata": {},
   "source": [
    "### Evaluate Models"
   ]
  },
  {
   "cell_type": "code",
   "execution_count": 17,
   "metadata": {
    "scrolled": true
   },
   "outputs": [
    {
     "name": "stdout",
     "output_type": "stream",
     "text": [
      "LogisticRegression accuracy score:\n",
      " CHW: 61.26 % \n",
      " STM: 74.33 % \n",
      "\n",
      "KNN accuracy score:\n",
      " CHW: 52.48 % \n",
      " STM: 96.76 % \n",
      "\n",
      "LinearSVC accuracy score:\n",
      " CHW: 61.14 % \n",
      " STM: 59.03 % \n",
      "\n",
      "GaussianNB accuracy score:\n",
      " CHW: 61.14 % \n",
      " STM: 74.25 % \n",
      "\n",
      "DecisionTree accuracy score:\n",
      " CHW: 60.62 % \n",
      " STM: 97.29 % \n",
      "\n",
      "MLP accuracy score:\n",
      " CHW: 59.74 % \n",
      " STM: 94.89 % \n",
      "\n",
      "Bagging accuracy score:\n",
      " CHW: 60.39 % \n",
      " STM: 97.43 % \n",
      "\n",
      "RandomForest accuracy score:\n",
      " CHW: 59.57 % \n",
      " STM: 97.52 % \n",
      "\n",
      "AdaBoost accuracy score:\n",
      " CHW: 60.97 % \n",
      " STM: 85.12 % \n",
      "\n",
      "GradientBoosting accuracy score:\n",
      " CHW: 60.71 % \n",
      " STM: 93.87 % \n",
      "\n"
     ]
    }
   ],
   "source": [
    "# Predictions\n",
    "chw_preds = []\n",
    "stm_preds = []\n",
    "\n",
    "for i in range(len(chw_models)):\n",
    "    chw_preds.append(chw_models[i].predict(X_chw_test))\n",
    "    stm_preds.append(stm_models[i].predict(X_stm_test))\n",
    "    print(model_names[i],'accuracy score:\\n',\n",
    "      'CHW:', round(accuracy_score(Y_chw_test, chw_preds[i])*100, 2), '%', '\\n',\n",
    "      'STM:', round(accuracy_score(Y_stm_test, stm_preds[i])*100, 2), '%', '\\n')"
   ]
  },
  {
   "cell_type": "code",
   "execution_count": null,
   "metadata": {},
   "outputs": [],
   "source": [
    "# Plot accuracy scores\n",
    "chw_acc_scores = []\n",
    "stm_acc_scores = []\n",
    "\n",
    "for i in range(len(chw_preds)):\n",
    "    chw_acc_scores.append(accuracy_score(Y_chw_test, chw_preds[i])*100)\n",
    "    stm_acc_scores.append(accuracy_score(Y_stm_test, stm_preds[i])*100)\n",
    "\n",
    "N = 10\n",
    "\n",
    "fig1, ax1 = plt.subplots(figsize=(9,6))\n",
    "\n",
    "ind = np.arange(N)    # the x locations for the groups\n",
    "p1 = ax1.scatter(ind, chw_acc_scores, color='blue')\n",
    "p2 = ax1.scatter(ind, stm_acc_scores, color='red')\n",
    "\n",
    "ax1.set_title('Leakage Model Accuracy Scores by Classifier')\n",
    "ax1.set_xticks(ind)\n",
    "ax1.set_yticks(np.arange(50, 100, 5))\n",
    "ax1.set_xticklabels(('Logistic \\nRegression', 'KNN', 'Linear \\nSVC', 'Gaussian \\nNB', 'Decision \\nTree',\n",
    "                    'MLP', 'Bagging', 'Random \\nForest', 'AdaBoost', 'Gradient \\nBoosting'))\n",
    "\n",
    "ax1.legend((p1, p2), ('Chilled Water Model Fits', 'Steam Model Fits'), loc='upper center', \n",
    "           bbox_to_anchor=(0.5, -0.08), fancybox=True, ncol=2)\n",
    "ax1.autoscale_view()\n",
    "\n",
    "plt.grid(True)\n",
    "plt.show()"
   ]
  },
  {
   "cell_type": "code",
   "execution_count": 38,
   "metadata": {},
   "outputs": [],
   "source": [
    "# Define confusion matrix plot\n",
    "def plot_confusion_matrix(cm, classes, \n",
    "                          normalize=False,\n",
    "                          title='Confusion matrix',\n",
    "                          cmap=plt.cm.Blues):\n",
    "\n",
    "    if normalize:\n",
    "        cm = cm.astype('float') / cm.sum(axis=1)[:, np.newaxis]\n",
    "        #print(\"Normalized confusion matrix\")\n",
    "    #else:\n",
    "        #print('Confusion matrix, without normalization')\n",
    "\n",
    "    #print(cm)\n",
    "    \n",
    "    cm = cm.astype('float') / cm.sum(axis=1)[:, np.newaxis]\n",
    "    accuracy = np.trace(cm) / float(np.sum(cm))\n",
    "    misclass = 1 - accuracy\n",
    "    \n",
    "    plt.imshow(cm, interpolation='nearest', cmap=cmap, size=(10,10))\n",
    "    plt.title(title)\n",
    "    plt.colorbar()\n",
    "    tick_marks = np.arange(len(classes))\n",
    "    plt.xticks(tick_marks, classes)\n",
    "    plt.yticks(tick_marks, classes, rotation=90, verticalalignment=\"center\")\n",
    "\n",
    "    fmt = '.2f' if normalize else 'd'\n",
    "    thresh = cm.max() / 2.\n",
    "    for i, j in itertools.product(range(cm.shape[0]), range(cm.shape[1])):\n",
    "        plt.text(j, i, format(cm[i, j], fmt),\n",
    "                 horizontalalignment=\"center\",\n",
    "                 color=\"white\" if cm[i, j] > thresh else \"black\")\n",
    "\n",
    "    plt.ylabel('True label')\n",
    "    plt.xlabel('Predicted label\\naccuracy = {:0.4f}; misclass = {:0.4f}'.format(accuracy, misclass))\n",
    "    plt.tight_layout()"
   ]
  },
  {
   "cell_type": "code",
   "execution_count": 19,
   "metadata": {},
   "outputs": [],
   "source": [
    "def plot_confusion_matrix(cm, classes,\n",
    "                          normalize=False,\n",
    "                          title='Confusion matrix',\n",
    "                          cmap=plt.cm.Blues):\n",
    "    \"\"\"\n",
    "    This function prints and plots the confusion matrix.\n",
    "    Normalization can be applied by setting `normalize=True`.\n",
    "    \"\"\"\n",
    "    if normalize:\n",
    "        cm = cm.astype('float') / cm.sum(axis=1)[:, np.newaxis]\n",
    "        print(\"Normalized confusion matrix\")\n",
    "    else:\n",
    "        print('Confusion matrix, without normalization')\n",
    "\n",
    "    print(cm)\n",
    "    \n",
    "    accuracy = np.trace(cm) / float(np.sum(cm))\n",
    "    misclass = 1 - accuracy\n",
    "\n",
    "    plt.imshow(cm, interpolation='nearest', cmap=cmap)\n",
    "    plt.title(title)\n",
    "    plt.colorbar()\n",
    "    tick_marks = np.arange(len(classes))\n",
    "    plt.xticks(tick_marks, classes)\n",
    "    plt.yticks(tick_marks, classes, rotation=90)\n",
    "\n",
    "    fmt = '.2f' if normalize else 'd'\n",
    "    thresh = cm.max() / 2.\n",
    "    for i, j in itertools.product(range(cm.shape[0]), range(cm.shape[1])):\n",
    "        plt.text(j, i, format(cm[i, j], fmt),\n",
    "                 horizontalalignment=\"center\",\n",
    "                 color=\"white\" if cm[i, j] > thresh else \"black\")\n",
    "\n",
    "    plt.ylabel('True label')\n",
    "    plt.xlabel('Predicted label\\naccuracy = {:0.4f}; misclass = {:0.4f}'.format(accuracy, misclass))\n",
    "    plt.tight_layout()\n"
   ]
  },
  {
   "cell_type": "code",
   "execution_count": null,
   "metadata": {
    "scrolled": true
   },
   "outputs": [],
   "source": [
    "# Plot confusion matrices\n",
    "class_names = ['Normal','Leakage']\n",
    "\n",
    "titles = ['Logistic Regression \\nNormalized Confusion Matrix', \n",
    "          'KNN \\nNormalized Confusion Matrix', \n",
    "          'Linear SVC \\nNormalized Confusion Matrix', \n",
    "          'Gaussian NB \\nNormalized Confusion Matrix', \n",
    "          'Decision Tree \\nNormalized Confusion Matrix',\n",
    "          'MLP \\nNormalized Confusion Matrix', \n",
    "          'Bagging \\nNormalized Confusion Matrix', \n",
    "          'Random Forest \\nNormalized Confusion Matrix', \n",
    "          'AdaBoost \\nNormalized Confusion Matrix', \n",
    "          'Gradient Boosting \\nNormalized Confusion Matrix']\n",
    "\n",
    "w = 10\n",
    "h = 10\n",
    "columns = 4\n",
    "rows = 5\n",
    "\n",
    "np.set_printoptions(precision=2)\n",
    "\n",
    "for ii in range(len(chw_preds)):\n",
    "    chw_cnf_matrix = confusion_matrix(Y_chw_test, chw_preds[ii])\n",
    "    stm_cnf_matrix = confusion_matrix(Y_stm_test, stm_preds[ii])\n",
    "    print(chw_cnf_matrix)\n",
    "    print(stm_cnf_matrix)\n",
    "#     fig = plt.figure()\n",
    "#     fig.add_subplot(rows, columns, ii+1)\n",
    "\n",
    "#     plot_confusion_matrix(chw_cnf_matrix, classes=class_names, \n",
    "#                           normalize=True, title=\" \".join(['Chilled Water',titles[ii]]))\n",
    "\n",
    "# plt.show()\n",
    "\n",
    "# for i in range(1, columns*rows +1):\n",
    "#     img = np.random.randint(10, size=(h,w))\n",
    "#     fig.add_subplot(rows, columns, i)\n",
    "#     plt.imshow(img)\n",
    "# plt.show()"
   ]
  },
  {
   "cell_type": "code",
   "execution_count": null,
   "metadata": {},
   "outputs": [],
   "source": [
    "# Classification reports\n",
    "for i in range(len(chw_preds)):\n",
    "    print(model_names[i],'classification reports:\\n',\n",
    "          'CHW:\\n', classification_report(Y_chw_test, chw_preds[i]),'\\n',\n",
    "          'STM:\\n', classification_report(Y_stm_test, stm_preds[i]),'\\n')"
   ]
  },
  {
   "cell_type": "markdown",
   "metadata": {},
   "source": [
    "## Cross Validation"
   ]
  },
  {
   "cell_type": "code",
   "execution_count": 18,
   "metadata": {},
   "outputs": [],
   "source": [
    "np.random.seed(1004)\n",
    "cmap_data = plt.cm.Paired\n",
    "cmap_cv = plt.cm.coolwarm\n",
    "n_splits = 5"
   ]
  },
  {
   "cell_type": "code",
   "execution_count": 19,
   "metadata": {},
   "outputs": [],
   "source": [
    "# Model lists\n",
    "chw_models = [chw_m1,chw_m2,chw_m3,chw_m4,chw_m5,chw_m6,chw_m7,chw_m8,chw_m9,chw_m10]\n",
    "stm_models = [stm_m1,stm_m2,stm_m3,stm_m4,stm_m5,stm_m6,stm_m7,stm_m8,stm_m9,stm_m10]\n",
    "\n",
    "model_names = ['LogisticRegression', 'kNN', 'LinearSVC', 'GaussianNB', 'DecisionTree',\n",
    "                    'MLP', 'Bagging', 'RandomForest', 'AdaBoost', 'GradientBoosting']"
   ]
  },
  {
   "cell_type": "code",
   "execution_count": null,
   "metadata": {
    "scrolled": true
   },
   "outputs": [
    {
     "name": "stdout",
     "output_type": "stream",
     "text": [
      "LogisticRegression cross validation mean test scores:\n",
      " CHW:\n",
      " 97.26 % \n",
      " STM:\n",
      " 70.66 % \n",
      "\n",
      "kNN cross validation mean test scores:\n",
      " CHW:\n",
      " 91.36 % \n",
      " STM:\n",
      " 67.06 % \n",
      "\n"
     ]
    },
    {
     "name": "stderr",
     "output_type": "stream",
     "text": [
      "/anaconda3/lib/python3.6/site-packages/sklearn/metrics/classification.py:1135: UndefinedMetricWarning: Precision is ill-defined and being set to 0.0 in labels with no predicted samples.\n",
      "  'precision', 'predicted', average, warn_for)\n"
     ]
    }
   ],
   "source": [
    "chw_cvs = []\n",
    "stm_cvs = []\n",
    "\n",
    "chw_test_scores = []\n",
    "stm_test_scores = []\n",
    "\n",
    "for i in range(len(chw_models)):\n",
    "    chw_cvs.append(cross_validate(chw_models[i], X_chw_train, Y_chw_train, scoring = 'precision_macro', cv = 5))\n",
    "    stm_cvs.append(cross_validate(stm_models[i], X_stm_train, Y_stm_train, scoring = 'precision_macro', cv = 5))\n",
    "    chw_test_scores.append(np.mean(chw_cvs[i]['test_score']))\n",
    "    stm_test_scores.append(np.mean(stm_cvs[i]['test_score']))\n",
    "    print(model_names[i],'cross validation mean test scores:\\n',\n",
    "          'CHW:\\n', round(chw_test_scores[i]*100, 2), '%','\\n',\n",
    "          'STM:\\n', round(stm_test_scores[i]*100, 2), '%','\\n')"
   ]
  },
  {
   "cell_type": "code",
   "execution_count": null,
   "metadata": {},
   "outputs": [],
   "source": [
    "# Plot test scores\n",
    "N = 10\n",
    "\n",
    "fig1, ax1 = plt.subplots(figsize=(9,6))\n",
    "\n",
    "ind = np.arange(N)    # the x locations for the groups\n",
    "p1 = ax1.scatter(ind, chw_test_scores, color='blue')\n",
    "p2 = ax1.scatter(ind, stm_test_scores, color='red')\n",
    "\n",
    "ax1.set_title('Leakage Model Cross Validation Mean Test Scores by Classifier')\n",
    "ax1.set_xticks(ind)\n",
    "ax1.set_xticklabels(('Logistic \\nRegression', 'kNN', 'Linear \\nSVC', 'Gaussian \\nNB', 'Decision \\nTree',\n",
    "                    'MLP', 'Bagging', 'Random \\nForest', 'AdaBoost', 'Gradient \\nBoosting'))\n",
    "\n",
    "ax1.legend((p1, p2), ('Chilled Water Model Fits', 'Steam Model Fits'), loc='upper center', \n",
    "           bbox_to_anchor=(0.5, -0.08), fancybox=True, ncol=2)\n",
    "ax1.autoscale_view()\n",
    "\n",
    "plt.grid(True)\n",
    "plt.show()"
   ]
  },
  {
   "cell_type": "markdown",
   "metadata": {},
   "source": [
    "## Grid Search"
   ]
  },
  {
   "cell_type": "markdown",
   "metadata": {},
   "source": [
    "__Logistic Regression__"
   ]
  },
  {
   "cell_type": "code",
   "execution_count": 54,
   "metadata": {},
   "outputs": [],
   "source": [
    "# Create regularization penalty space\n",
    "penalty = ['l1', 'l2']\n",
    "\n",
    "# Create regularization hyperparameter space\n",
    "C = np.logspace(0, 4, 10)\n",
    "\n",
    "# Create hyperparameter options\n",
    "m1_params = dict(C=C, penalty=penalty)\n",
    "\n",
    "# Create grid search using 5-fold cross validation\n",
    "chw_m1_GS = GridSearchCV(chw_m1, m1_params, cv=5, verbose=0)\n",
    "stm_m1_GS = GridSearchCV(stm_m1, m1_params, cv=5, verbose=0)"
   ]
  },
  {
   "cell_type": "code",
   "execution_count": 55,
   "metadata": {},
   "outputs": [
    {
     "name": "stdout",
     "output_type": "stream",
     "text": [
      "Best CHW Penalty: l2\n",
      "Best CHW C: 21.544346900318832\n",
      "Best STM Penalty: l2\n",
      "Best STM C: 1.0\n"
     ]
    }
   ],
   "source": [
    "# Fit grid search\n",
    "chw_m1_GS_fit = chw_m1_GS.fit(X_chw_train, Y_chw_train)\n",
    "stm_m1_GS_fit = stm_m1_GS.fit(X_stm_train, Y_stm_train)\n",
    "\n",
    "# View best hyperparameters\n",
    "print('Best CHW Penalty:', chw_m1_GS_fit.best_estimator_.get_params()['penalty'])\n",
    "print('Best CHW C:', chw_m1_GS_fit.best_estimator_.get_params()['C'])\n",
    "print('Best STM Penalty:', stm_m1_GS_fit.best_estimator_.get_params()['penalty'])\n",
    "print('Best STM C:', stm_m1_GS_fit.best_estimator_.get_params()['C'])"
   ]
  },
  {
   "cell_type": "code",
   "execution_count": 56,
   "metadata": {},
   "outputs": [
    {
     "name": "stdout",
     "output_type": "stream",
     "text": [
      "CHW Logistic Regression Hyperparameter Tuning Results:\n",
      " Best parameters: {'C': 21.544346900318832, 'penalty': 'l2'} \n",
      " Best score: 0.9821662530634894 \n",
      " Best estimator: LogisticRegression(C=21.544346900318832, class_weight=None, dual=False,\n",
      "          fit_intercept=True, intercept_scaling=1, max_iter=100,\n",
      "          multi_class='ovr', n_jobs=1, penalty='l2', random_state=None,\n",
      "          solver='liblinear', tol=0.0001, verbose=0, warm_start=False) \n",
      "\n",
      "STM Logistic Regression Hyperparameter Tuning Results:\n",
      " Best parameters: {'C': 1.0, 'penalty': 'l2'} \n",
      " Best score: 0.743743135310364 \n",
      " Best estimator: LogisticRegression(C=1.0, class_weight=None, dual=False, fit_intercept=True,\n",
      "          intercept_scaling=1, max_iter=100, multi_class='ovr', n_jobs=1,\n",
      "          penalty='l2', random_state=None, solver='liblinear', tol=0.0001,\n",
      "          verbose=0, warm_start=False) \n",
      "\n"
     ]
    }
   ],
   "source": [
    "# Check Model Results\n",
    "print(\"CHW Logistic Regression Hyperparameter Tuning Results:\\n\", \n",
    "      'Best parameters:', chw_m1_GS.best_params_, '\\n',\n",
    "      'Best score:', chw_m1_GS.best_score_, '\\n',\n",
    "      'Best estimator:', chw_m1_GS.best_estimator_, '\\n')\n",
    "print(\"STM Logistic Regression Hyperparameter Tuning Results:\\n\", \n",
    "      'Best parameters:', stm_m1_GS.best_params_, '\\n',\n",
    "      'Best score:', stm_m1_GS.best_score_, '\\n',\n",
    "      'Best estimator:', stm_m1_GS.best_estimator_, '\\n')"
   ]
  },
  {
   "cell_type": "code",
   "execution_count": 57,
   "metadata": {
    "collapsed": true
   },
   "outputs": [
    {
     "ename": "ValueError",
     "evalue": "x and y must be the same size",
     "output_type": "error",
     "traceback": [
      "\u001b[0;31m---------------------------------------------------------------------------\u001b[0m",
      "\u001b[0;31mValueError\u001b[0m                                Traceback (most recent call last)",
      "\u001b[0;32m<ipython-input-57-49026458bdcd>\u001b[0m in \u001b[0;36m<module>\u001b[0;34m()\u001b[0m\n\u001b[1;32m      1\u001b[0m \u001b[0;31m# Plots\u001b[0m\u001b[0;34m\u001b[0m\u001b[0;34m\u001b[0m\u001b[0m\n\u001b[0;32m----> 2\u001b[0;31m \u001b[0mplt\u001b[0m\u001b[0;34m.\u001b[0m\u001b[0mscatter\u001b[0m\u001b[0;34m(\u001b[0m\u001b[0mx\u001b[0m \u001b[0;34m=\u001b[0m \u001b[0mnp\u001b[0m\u001b[0;34m.\u001b[0m\u001b[0mlogspace\u001b[0m\u001b[0;34m(\u001b[0m\u001b[0;36m0\u001b[0m\u001b[0;34m,\u001b[0m \u001b[0;36m4\u001b[0m\u001b[0;34m,\u001b[0m \u001b[0;36m10\u001b[0m\u001b[0;34m)\u001b[0m\u001b[0;34m,\u001b[0m \u001b[0my\u001b[0m \u001b[0;34m=\u001b[0m \u001b[0mchw_m1_GS\u001b[0m\u001b[0;34m.\u001b[0m\u001b[0mcv_results_\u001b[0m\u001b[0;34m[\u001b[0m\u001b[0;34m'mean_test_score'\u001b[0m\u001b[0;34m]\u001b[0m\u001b[0;34m)\u001b[0m\u001b[0;34m\u001b[0m\u001b[0m\n\u001b[0m\u001b[1;32m      3\u001b[0m \u001b[0mplt\u001b[0m\u001b[0;34m.\u001b[0m\u001b[0mscatter\u001b[0m\u001b[0;34m(\u001b[0m\u001b[0mx\u001b[0m \u001b[0;34m=\u001b[0m \u001b[0mnp\u001b[0m\u001b[0;34m.\u001b[0m\u001b[0mlogspace\u001b[0m\u001b[0;34m(\u001b[0m\u001b[0;36m0\u001b[0m\u001b[0;34m,\u001b[0m \u001b[0;36m4\u001b[0m\u001b[0;34m,\u001b[0m \u001b[0;36m10\u001b[0m\u001b[0;34m)\u001b[0m\u001b[0;34m,\u001b[0m \u001b[0my\u001b[0m \u001b[0;34m=\u001b[0m \u001b[0mstm_m1_GS\u001b[0m\u001b[0;34m.\u001b[0m\u001b[0mcv_results_\u001b[0m\u001b[0;34m[\u001b[0m\u001b[0;34m'mean_test_score'\u001b[0m\u001b[0;34m]\u001b[0m\u001b[0;34m,\u001b[0m \u001b[0mcolor\u001b[0m\u001b[0;34m=\u001b[0m\u001b[0;34m'red'\u001b[0m\u001b[0;34m)\u001b[0m\u001b[0;34m\u001b[0m\u001b[0m\n\u001b[1;32m      4\u001b[0m \u001b[0mplt\u001b[0m\u001b[0;34m.\u001b[0m\u001b[0mtitle\u001b[0m\u001b[0;34m(\u001b[0m\u001b[0;34m\"Logistic Regression Grid Search Hyperparameter Mean Test Scores\"\u001b[0m\u001b[0;34m)\u001b[0m\u001b[0;34m\u001b[0m\u001b[0m\n\u001b[1;32m      5\u001b[0m \u001b[0mplt\u001b[0m\u001b[0;34m.\u001b[0m\u001b[0mlegend\u001b[0m\u001b[0;34m(\u001b[0m\u001b[0;34m)\u001b[0m\u001b[0;34m\u001b[0m\u001b[0m\n",
      "\u001b[0;32m/anaconda3/lib/python3.6/site-packages/matplotlib/pyplot.py\u001b[0m in \u001b[0;36mscatter\u001b[0;34m(x, y, s, c, marker, cmap, norm, vmin, vmax, alpha, linewidths, verts, edgecolors, hold, data, **kwargs)\u001b[0m\n\u001b[1;32m   3468\u001b[0m                          \u001b[0mvmin\u001b[0m\u001b[0;34m=\u001b[0m\u001b[0mvmin\u001b[0m\u001b[0;34m,\u001b[0m \u001b[0mvmax\u001b[0m\u001b[0;34m=\u001b[0m\u001b[0mvmax\u001b[0m\u001b[0;34m,\u001b[0m \u001b[0malpha\u001b[0m\u001b[0;34m=\u001b[0m\u001b[0malpha\u001b[0m\u001b[0;34m,\u001b[0m\u001b[0;34m\u001b[0m\u001b[0m\n\u001b[1;32m   3469\u001b[0m                          \u001b[0mlinewidths\u001b[0m\u001b[0;34m=\u001b[0m\u001b[0mlinewidths\u001b[0m\u001b[0;34m,\u001b[0m \u001b[0mverts\u001b[0m\u001b[0;34m=\u001b[0m\u001b[0mverts\u001b[0m\u001b[0;34m,\u001b[0m\u001b[0;34m\u001b[0m\u001b[0m\n\u001b[0;32m-> 3470\u001b[0;31m                          edgecolors=edgecolors, data=data, **kwargs)\n\u001b[0m\u001b[1;32m   3471\u001b[0m     \u001b[0;32mfinally\u001b[0m\u001b[0;34m:\u001b[0m\u001b[0;34m\u001b[0m\u001b[0m\n\u001b[1;32m   3472\u001b[0m         \u001b[0max\u001b[0m\u001b[0;34m.\u001b[0m\u001b[0m_hold\u001b[0m \u001b[0;34m=\u001b[0m \u001b[0mwashold\u001b[0m\u001b[0;34m\u001b[0m\u001b[0m\n",
      "\u001b[0;32m/anaconda3/lib/python3.6/site-packages/matplotlib/__init__.py\u001b[0m in \u001b[0;36minner\u001b[0;34m(ax, *args, **kwargs)\u001b[0m\n\u001b[1;32m   1853\u001b[0m                         \u001b[0;34m\"the Matplotlib list!)\"\u001b[0m \u001b[0;34m%\u001b[0m \u001b[0;34m(\u001b[0m\u001b[0mlabel_namer\u001b[0m\u001b[0;34m,\u001b[0m \u001b[0mfunc\u001b[0m\u001b[0;34m.\u001b[0m\u001b[0m__name__\u001b[0m\u001b[0;34m)\u001b[0m\u001b[0;34m,\u001b[0m\u001b[0;34m\u001b[0m\u001b[0m\n\u001b[1;32m   1854\u001b[0m                         RuntimeWarning, stacklevel=2)\n\u001b[0;32m-> 1855\u001b[0;31m             \u001b[0;32mreturn\u001b[0m \u001b[0mfunc\u001b[0m\u001b[0;34m(\u001b[0m\u001b[0max\u001b[0m\u001b[0;34m,\u001b[0m \u001b[0;34m*\u001b[0m\u001b[0margs\u001b[0m\u001b[0;34m,\u001b[0m \u001b[0;34m**\u001b[0m\u001b[0mkwargs\u001b[0m\u001b[0;34m)\u001b[0m\u001b[0;34m\u001b[0m\u001b[0m\n\u001b[0m\u001b[1;32m   1856\u001b[0m \u001b[0;34m\u001b[0m\u001b[0m\n\u001b[1;32m   1857\u001b[0m         inner.__doc__ = _add_data_doc(inner.__doc__,\n",
      "\u001b[0;32m/anaconda3/lib/python3.6/site-packages/matplotlib/axes/_axes.py\u001b[0m in \u001b[0;36mscatter\u001b[0;34m(self, x, y, s, c, marker, cmap, norm, vmin, vmax, alpha, linewidths, verts, edgecolors, **kwargs)\u001b[0m\n\u001b[1;32m   4241\u001b[0m         \u001b[0my\u001b[0m \u001b[0;34m=\u001b[0m \u001b[0mnp\u001b[0m\u001b[0;34m.\u001b[0m\u001b[0mma\u001b[0m\u001b[0;34m.\u001b[0m\u001b[0mravel\u001b[0m\u001b[0;34m(\u001b[0m\u001b[0my\u001b[0m\u001b[0;34m)\u001b[0m\u001b[0;34m\u001b[0m\u001b[0m\n\u001b[1;32m   4242\u001b[0m         \u001b[0;32mif\u001b[0m \u001b[0mx\u001b[0m\u001b[0;34m.\u001b[0m\u001b[0msize\u001b[0m \u001b[0;34m!=\u001b[0m \u001b[0my\u001b[0m\u001b[0;34m.\u001b[0m\u001b[0msize\u001b[0m\u001b[0;34m:\u001b[0m\u001b[0;34m\u001b[0m\u001b[0m\n\u001b[0;32m-> 4243\u001b[0;31m             \u001b[0;32mraise\u001b[0m \u001b[0mValueError\u001b[0m\u001b[0;34m(\u001b[0m\u001b[0;34m\"x and y must be the same size\"\u001b[0m\u001b[0;34m)\u001b[0m\u001b[0;34m\u001b[0m\u001b[0m\n\u001b[0m\u001b[1;32m   4244\u001b[0m \u001b[0;34m\u001b[0m\u001b[0m\n\u001b[1;32m   4245\u001b[0m         \u001b[0;32mif\u001b[0m \u001b[0ms\u001b[0m \u001b[0;32mis\u001b[0m \u001b[0;32mNone\u001b[0m\u001b[0;34m:\u001b[0m\u001b[0;34m\u001b[0m\u001b[0m\n",
      "\u001b[0;31mValueError\u001b[0m: x and y must be the same size"
     ]
    },
    {
     "data": {
      "image/png": "[encoded data removed]",
      "text/plain": [
       "<Figure size 432x288 with 1 Axes>"
      ]
     },
     "metadata": {},
     "output_type": "display_data"
    }
   ],
   "source": [
    "# Plots\n",
    "plt.scatter(chw_m1_GS.cv_results_['mean_test_score'])\n",
    "plt.scatter(stm_m1_GS.cv_results_['mean_test_score'], color='red')\n",
    "plt.title(\"Logistic Regression Grid Search Hyperparameter Mean Test Scores\")\n",
    "plt.legend()\n",
    "plt.grid(True)\n",
    "plt.show()"
   ]
  },
  {
   "cell_type": "code",
   "execution_count": null,
   "metadata": {},
   "outputs": [],
   "source": [
    "# chw_m1_GS_file = 'chw_m1_GS'\n",
    "# chw_m1_GS_out = open(chw_m1_GS_file,'wb')\n",
    "# pickle.dump(chw_m1_GS,chw_m1_GS_out)\n",
    "# chw_m1_GS_out.close()\n",
    "\n",
    "# chw_m1_GS_fit_file = 'chw_m1_GS_fit'\n",
    "# chw_m1_GS_fit_out = open(chw_m1_GS_fit_file,'wb')\n",
    "# pickle.dump(chw_m1_GS_fit,chw_m1_GS_fit_out)\n",
    "# chw_m1_GS_fit_out.close()\n",
    "\n",
    "# stm_m1_GS_file = 'stm_m1_GS'\n",
    "# stm_m1_GS_out = open(stm_m1_GS_file,'wb')\n",
    "# pickle.dump(stm_m1_GS,stm_m1_GS_out)\n",
    "# stm_m1_GS_out.close()\n",
    "\n",
    "# stm_m1_GS_fit_file = 'stm_m1_GS_fit'\n",
    "# stm_m1_GS_fit_out = open(stm_m1_GS_fit_file,'wb')\n",
    "# pickle.dump(stm_m1_GS_fit,stm_m1_GS_fit_out)\n",
    "# stm_m1_GS_fit_out.close()"
   ]
  },
  {
   "cell_type": "markdown",
   "metadata": {},
   "source": [
    "__kNN__"
   ]
  },
  {
   "cell_type": "code",
   "execution_count": 58,
   "metadata": {},
   "outputs": [],
   "source": [
    "# Parameter options\n",
    "m2_params = {'n_neighbors':range(1,21)}\n",
    "\n",
    "# Grid Search\n",
    "chw_m2_GS = GridSearchCV(chw_m2, m2_params, cv = 5, scoring = 'precision_macro')\n",
    "stm_m2_GS = GridSearchCV(stm_m2, m2_params, cv = 5, scoring = 'precision_macro')"
   ]
  },
  {
   "cell_type": "code",
   "execution_count": null,
   "metadata": {},
   "outputs": [],
   "source": [
    "# Fit Models\n",
    "chw_m2_GS_fit = chw_m2_GS.fit(X_chw_train, Y_chw_train)\n",
    "stm_m2_GS_fit = stm_m2_GS.fit(X_stm_train, Y_stm_train)\n",
    "\n",
    "# Model Results\n",
    "print(\"CHW kNN Hyperparameter Tuning Results:\\n\", \n",
    "      'Best parameters:', chw_m2_GS.best_params_, '\\n',\n",
    "      'Best score:', chw_m2_GS.best_score_, '\\n',\n",
    "      'Best estimator:', chw_m2_GS.best_estimator_, '\\n')\n",
    "print(\"STM kNN Hyperparameter Tuning Results:\\n\", \n",
    "      'Best parameters:', stm_m2_GS.best_params_, '\\n',\n",
    "      'Best score:', stm_m2_GS.best_score_, '\\n',\n",
    "      'Best estimator:', stm_m2_GS.best_estimator_, '\\n')"
   ]
  },
  {
   "cell_type": "code",
   "execution_count": null,
   "metadata": {},
   "outputs": [],
   "source": [
    "plt.scatter(x = range(1,21), y = chw_m2_GS.cv_results_['mean_test_score'])\n",
    "plt.scatter(x = range(1,21), y = stm_m2_GS.cv_results_['mean_test_score'], color='red')\n",
    "plt.title(\"kNN Grid Search Hyperparameter Mean Test Scores\")\n",
    "plt.legend()\n",
    "plt.grid(True)\n",
    "plt.show()"
   ]
  },
  {
   "cell_type": "code",
   "execution_count": null,
   "metadata": {},
   "outputs": [],
   "source": [
    "# chw_m2_GS_file = 'chw_m2_GS'\n",
    "# chw_m2_GS_out = open(chw_m2_GS_file,'wb')\n",
    "# pickle.dump(chw_m2_GS,chw_m2_GS_out)\n",
    "# chw_m2_GS_out.close()\n",
    "\n",
    "# chw_m2_GS_fit_file = 'chw_m2_GS_fit'\n",
    "# chw_m2_GS_fit_out = open(chw_m2_GS_fit_file,'wb')\n",
    "# pickle.dump(chw_m2_GS_fit,chw_m2_GS_fit_out)\n",
    "# chw_m2_GS_fit_out.close()\n",
    "\n",
    "# stm_m2_GS_file = 'stm_m2_GS'\n",
    "# stm_m2_GS_out = open(stm_m2_GS_file,'wb')\n",
    "# pickle.dump(stm_m2_GS,stm_m2_GS_out)\n",
    "# stm_m2_GS_out.close()\n",
    "\n",
    "# stm_m2_GS_fit_file = 'stm_m2_GS_fit'\n",
    "# stm_m2_GS_fit_out = open(stm_m2_GS_fit_file,'wb')\n",
    "# pickle.dump(stm_m2_GS_fit,stm_m2_GS_fit_out)\n",
    "# stm_m2_GS_fit_out.close()"
   ]
  },
  {
   "cell_type": "markdown",
   "metadata": {},
   "source": [
    "__Linear SVC__"
   ]
  },
  {
   "cell_type": "code",
   "execution_count": 11,
   "metadata": {},
   "outputs": [],
   "source": [
    "# Parameter options\n",
    "m3_params = {'C':[1,10,100,1000],'gamma':[1,0.1,0.001,0.0001], 'kernel':['linear','rbf']}\n",
    "\n",
    "# Grid Search\n",
    "chw_m3_RS = RandomizedSearchCV(chw_m3, m3_params, cv = 5, scoring = 'precision_macro', n_iter=10)\n",
    "stm_m3_RS = RandomizedSearchCV(stm_m3, m3_params, cv = 5, scoring = 'precision_macro', n_iter=10)"
   ]
  },
  {
   "cell_type": "code",
   "execution_count": 12,
   "metadata": {
    "collapsed": true
   },
   "outputs": [
    {
     "ename": "ValueError",
     "evalue": "Invalid parameter kernel for estimator LinearSVC(C=1.0, class_weight=None, dual=True, fit_intercept=True,\n     intercept_scaling=1, loss='squared_hinge', max_iter=1000,\n     multi_class='ovr', penalty='l2', random_state=None, tol=0.0001,\n     verbose=0). Check the list of available parameters with `estimator.get_params().keys()`.",
     "output_type": "error",
     "traceback": [
      "\u001b[0;31m---------------------------------------------------------------------------\u001b[0m",
      "\u001b[0;31mValueError\u001b[0m                                Traceback (most recent call last)",
      "\u001b[0;32m<ipython-input-12-f5967d31d97b>\u001b[0m in \u001b[0;36m<module>\u001b[0;34m()\u001b[0m\n\u001b[1;32m      1\u001b[0m \u001b[0;31m# Fit grid search\u001b[0m\u001b[0;34m\u001b[0m\u001b[0;34m\u001b[0m\u001b[0m\n\u001b[0;32m----> 2\u001b[0;31m \u001b[0mchw_m3_RS\u001b[0m\u001b[0;34m.\u001b[0m\u001b[0mfit\u001b[0m\u001b[0;34m(\u001b[0m\u001b[0mX_chw_train\u001b[0m\u001b[0;34m,\u001b[0m \u001b[0mY_chw_train\u001b[0m\u001b[0;34m)\u001b[0m\u001b[0;34m\u001b[0m\u001b[0m\n\u001b[0m\u001b[1;32m      3\u001b[0m \u001b[0mstm_m3_RS\u001b[0m\u001b[0;34m.\u001b[0m\u001b[0mfit\u001b[0m\u001b[0;34m(\u001b[0m\u001b[0mX_stm_train\u001b[0m\u001b[0;34m,\u001b[0m \u001b[0mY_stm_train\u001b[0m\u001b[0;34m)\u001b[0m\u001b[0;34m\u001b[0m\u001b[0m\n\u001b[1;32m      4\u001b[0m \u001b[0;34m\u001b[0m\u001b[0m\n\u001b[1;32m      5\u001b[0m \u001b[0;31m# View best hyperparameters\u001b[0m\u001b[0;34m\u001b[0m\u001b[0;34m\u001b[0m\u001b[0m\n",
      "\u001b[0;32m/anaconda3/lib/python3.6/site-packages/sklearn/grid_search.py\u001b[0m in \u001b[0;36mfit\u001b[0;34m(self, X, y)\u001b[0m\n\u001b[1;32m   1044\u001b[0m                                           \u001b[0mself\u001b[0m\u001b[0;34m.\u001b[0m\u001b[0mn_iter\u001b[0m\u001b[0;34m,\u001b[0m\u001b[0;34m\u001b[0m\u001b[0m\n\u001b[1;32m   1045\u001b[0m                                           random_state=self.random_state)\n\u001b[0;32m-> 1046\u001b[0;31m         \u001b[0;32mreturn\u001b[0m \u001b[0mself\u001b[0m\u001b[0;34m.\u001b[0m\u001b[0m_fit\u001b[0m\u001b[0;34m(\u001b[0m\u001b[0mX\u001b[0m\u001b[0;34m,\u001b[0m \u001b[0my\u001b[0m\u001b[0;34m,\u001b[0m \u001b[0msampled_params\u001b[0m\u001b[0;34m)\u001b[0m\u001b[0;34m\u001b[0m\u001b[0m\n\u001b[0m",
      "\u001b[0;32m/anaconda3/lib/python3.6/site-packages/sklearn/grid_search.py\u001b[0m in \u001b[0;36m_fit\u001b[0;34m(self, X, y, parameter_iterable)\u001b[0m\n\u001b[1;32m    572\u001b[0m                                     \u001b[0mself\u001b[0m\u001b[0;34m.\u001b[0m\u001b[0mfit_params\u001b[0m\u001b[0;34m,\u001b[0m \u001b[0mreturn_parameters\u001b[0m\u001b[0;34m=\u001b[0m\u001b[0;32mTrue\u001b[0m\u001b[0;34m,\u001b[0m\u001b[0;34m\u001b[0m\u001b[0m\n\u001b[1;32m    573\u001b[0m                                     error_score=self.error_score)\n\u001b[0;32m--> 574\u001b[0;31m                 \u001b[0;32mfor\u001b[0m \u001b[0mparameters\u001b[0m \u001b[0;32min\u001b[0m \u001b[0mparameter_iterable\u001b[0m\u001b[0;34m\u001b[0m\u001b[0m\n\u001b[0m\u001b[1;32m    575\u001b[0m                 for train, test in cv)\n\u001b[1;32m    576\u001b[0m \u001b[0;34m\u001b[0m\u001b[0m\n",
      "\u001b[0;32m/anaconda3/lib/python3.6/site-packages/sklearn/externals/joblib/parallel.py\u001b[0m in \u001b[0;36m__call__\u001b[0;34m(self, iterable)\u001b[0m\n\u001b[1;32m    777\u001b[0m             \u001b[0;31m# was dispatched. In particular this covers the edge\u001b[0m\u001b[0;34m\u001b[0m\u001b[0;34m\u001b[0m\u001b[0m\n\u001b[1;32m    778\u001b[0m             \u001b[0;31m# case of Parallel used with an exhausted iterator.\u001b[0m\u001b[0;34m\u001b[0m\u001b[0;34m\u001b[0m\u001b[0m\n\u001b[0;32m--> 779\u001b[0;31m             \u001b[0;32mwhile\u001b[0m \u001b[0mself\u001b[0m\u001b[0;34m.\u001b[0m\u001b[0mdispatch_one_batch\u001b[0m\u001b[0;34m(\u001b[0m\u001b[0miterator\u001b[0m\u001b[0;34m)\u001b[0m\u001b[0;34m:\u001b[0m\u001b[0;34m\u001b[0m\u001b[0m\n\u001b[0m\u001b[1;32m    780\u001b[0m                 \u001b[0mself\u001b[0m\u001b[0;34m.\u001b[0m\u001b[0m_iterating\u001b[0m \u001b[0;34m=\u001b[0m \u001b[0;32mTrue\u001b[0m\u001b[0;34m\u001b[0m\u001b[0m\n\u001b[1;32m    781\u001b[0m             \u001b[0;32melse\u001b[0m\u001b[0;34m:\u001b[0m\u001b[0;34m\u001b[0m\u001b[0m\n",
      "\u001b[0;32m/anaconda3/lib/python3.6/site-packages/sklearn/externals/joblib/parallel.py\u001b[0m in \u001b[0;36mdispatch_one_batch\u001b[0;34m(self, iterator)\u001b[0m\n\u001b[1;32m    623\u001b[0m                 \u001b[0;32mreturn\u001b[0m \u001b[0;32mFalse\u001b[0m\u001b[0;34m\u001b[0m\u001b[0m\n\u001b[1;32m    624\u001b[0m             \u001b[0;32melse\u001b[0m\u001b[0;34m:\u001b[0m\u001b[0;34m\u001b[0m\u001b[0m\n\u001b[0;32m--> 625\u001b[0;31m                 \u001b[0mself\u001b[0m\u001b[0;34m.\u001b[0m\u001b[0m_dispatch\u001b[0m\u001b[0;34m(\u001b[0m\u001b[0mtasks\u001b[0m\u001b[0;34m)\u001b[0m\u001b[0;34m\u001b[0m\u001b[0m\n\u001b[0m\u001b[1;32m    626\u001b[0m                 \u001b[0;32mreturn\u001b[0m \u001b[0;32mTrue\u001b[0m\u001b[0;34m\u001b[0m\u001b[0m\n\u001b[1;32m    627\u001b[0m \u001b[0;34m\u001b[0m\u001b[0m\n",
      "\u001b[0;32m/anaconda3/lib/python3.6/site-packages/sklearn/externals/joblib/parallel.py\u001b[0m in \u001b[0;36m_dispatch\u001b[0;34m(self, batch)\u001b[0m\n\u001b[1;32m    586\u001b[0m         \u001b[0mdispatch_timestamp\u001b[0m \u001b[0;34m=\u001b[0m \u001b[0mtime\u001b[0m\u001b[0;34m.\u001b[0m\u001b[0mtime\u001b[0m\u001b[0;34m(\u001b[0m\u001b[0;34m)\u001b[0m\u001b[0;34m\u001b[0m\u001b[0m\n\u001b[1;32m    587\u001b[0m         \u001b[0mcb\u001b[0m \u001b[0;34m=\u001b[0m \u001b[0mBatchCompletionCallBack\u001b[0m\u001b[0;34m(\u001b[0m\u001b[0mdispatch_timestamp\u001b[0m\u001b[0;34m,\u001b[0m \u001b[0mlen\u001b[0m\u001b[0;34m(\u001b[0m\u001b[0mbatch\u001b[0m\u001b[0;34m)\u001b[0m\u001b[0;34m,\u001b[0m \u001b[0mself\u001b[0m\u001b[0;34m)\u001b[0m\u001b[0;34m\u001b[0m\u001b[0m\n\u001b[0;32m--> 588\u001b[0;31m         \u001b[0mjob\u001b[0m \u001b[0;34m=\u001b[0m \u001b[0mself\u001b[0m\u001b[0;34m.\u001b[0m\u001b[0m_backend\u001b[0m\u001b[0;34m.\u001b[0m\u001b[0mapply_async\u001b[0m\u001b[0;34m(\u001b[0m\u001b[0mbatch\u001b[0m\u001b[0;34m,\u001b[0m \u001b[0mcallback\u001b[0m\u001b[0;34m=\u001b[0m\u001b[0mcb\u001b[0m\u001b[0;34m)\u001b[0m\u001b[0;34m\u001b[0m\u001b[0m\n\u001b[0m\u001b[1;32m    589\u001b[0m         \u001b[0mself\u001b[0m\u001b[0;34m.\u001b[0m\u001b[0m_jobs\u001b[0m\u001b[0;34m.\u001b[0m\u001b[0mappend\u001b[0m\u001b[0;34m(\u001b[0m\u001b[0mjob\u001b[0m\u001b[0;34m)\u001b[0m\u001b[0;34m\u001b[0m\u001b[0m\n\u001b[1;32m    590\u001b[0m \u001b[0;34m\u001b[0m\u001b[0m\n",
      "\u001b[0;32m/anaconda3/lib/python3.6/site-packages/sklearn/externals/joblib/_parallel_backends.py\u001b[0m in \u001b[0;36mapply_async\u001b[0;34m(self, func, callback)\u001b[0m\n\u001b[1;32m    109\u001b[0m     \u001b[0;32mdef\u001b[0m \u001b[0mapply_async\u001b[0m\u001b[0;34m(\u001b[0m\u001b[0mself\u001b[0m\u001b[0;34m,\u001b[0m \u001b[0mfunc\u001b[0m\u001b[0;34m,\u001b[0m \u001b[0mcallback\u001b[0m\u001b[0;34m=\u001b[0m\u001b[0;32mNone\u001b[0m\u001b[0;34m)\u001b[0m\u001b[0;34m:\u001b[0m\u001b[0;34m\u001b[0m\u001b[0m\n\u001b[1;32m    110\u001b[0m         \u001b[0;34m\"\"\"Schedule a func to be run\"\"\"\u001b[0m\u001b[0;34m\u001b[0m\u001b[0m\n\u001b[0;32m--> 111\u001b[0;31m         \u001b[0mresult\u001b[0m \u001b[0;34m=\u001b[0m \u001b[0mImmediateResult\u001b[0m\u001b[0;34m(\u001b[0m\u001b[0mfunc\u001b[0m\u001b[0;34m)\u001b[0m\u001b[0;34m\u001b[0m\u001b[0m\n\u001b[0m\u001b[1;32m    112\u001b[0m         \u001b[0;32mif\u001b[0m \u001b[0mcallback\u001b[0m\u001b[0;34m:\u001b[0m\u001b[0;34m\u001b[0m\u001b[0m\n\u001b[1;32m    113\u001b[0m             \u001b[0mcallback\u001b[0m\u001b[0;34m(\u001b[0m\u001b[0mresult\u001b[0m\u001b[0;34m)\u001b[0m\u001b[0;34m\u001b[0m\u001b[0m\n",
      "\u001b[0;32m/anaconda3/lib/python3.6/site-packages/sklearn/externals/joblib/_parallel_backends.py\u001b[0m in \u001b[0;36m__init__\u001b[0;34m(self, batch)\u001b[0m\n\u001b[1;32m    330\u001b[0m         \u001b[0;31m# Don't delay the application, to avoid keeping the input\u001b[0m\u001b[0;34m\u001b[0m\u001b[0;34m\u001b[0m\u001b[0m\n\u001b[1;32m    331\u001b[0m         \u001b[0;31m# arguments in memory\u001b[0m\u001b[0;34m\u001b[0m\u001b[0;34m\u001b[0m\u001b[0m\n\u001b[0;32m--> 332\u001b[0;31m         \u001b[0mself\u001b[0m\u001b[0;34m.\u001b[0m\u001b[0mresults\u001b[0m \u001b[0;34m=\u001b[0m \u001b[0mbatch\u001b[0m\u001b[0;34m(\u001b[0m\u001b[0;34m)\u001b[0m\u001b[0;34m\u001b[0m\u001b[0m\n\u001b[0m\u001b[1;32m    333\u001b[0m \u001b[0;34m\u001b[0m\u001b[0m\n\u001b[1;32m    334\u001b[0m     \u001b[0;32mdef\u001b[0m \u001b[0mget\u001b[0m\u001b[0;34m(\u001b[0m\u001b[0mself\u001b[0m\u001b[0;34m)\u001b[0m\u001b[0;34m:\u001b[0m\u001b[0;34m\u001b[0m\u001b[0m\n",
      "\u001b[0;32m/anaconda3/lib/python3.6/site-packages/sklearn/externals/joblib/parallel.py\u001b[0m in \u001b[0;36m__call__\u001b[0;34m(self)\u001b[0m\n\u001b[1;32m    129\u001b[0m \u001b[0;34m\u001b[0m\u001b[0m\n\u001b[1;32m    130\u001b[0m     \u001b[0;32mdef\u001b[0m \u001b[0m__call__\u001b[0m\u001b[0;34m(\u001b[0m\u001b[0mself\u001b[0m\u001b[0;34m)\u001b[0m\u001b[0;34m:\u001b[0m\u001b[0;34m\u001b[0m\u001b[0m\n\u001b[0;32m--> 131\u001b[0;31m         \u001b[0;32mreturn\u001b[0m \u001b[0;34m[\u001b[0m\u001b[0mfunc\u001b[0m\u001b[0;34m(\u001b[0m\u001b[0;34m*\u001b[0m\u001b[0margs\u001b[0m\u001b[0;34m,\u001b[0m \u001b[0;34m**\u001b[0m\u001b[0mkwargs\u001b[0m\u001b[0;34m)\u001b[0m \u001b[0;32mfor\u001b[0m \u001b[0mfunc\u001b[0m\u001b[0;34m,\u001b[0m \u001b[0margs\u001b[0m\u001b[0;34m,\u001b[0m \u001b[0mkwargs\u001b[0m \u001b[0;32min\u001b[0m \u001b[0mself\u001b[0m\u001b[0;34m.\u001b[0m\u001b[0mitems\u001b[0m\u001b[0;34m]\u001b[0m\u001b[0;34m\u001b[0m\u001b[0m\n\u001b[0m\u001b[1;32m    132\u001b[0m \u001b[0;34m\u001b[0m\u001b[0m\n\u001b[1;32m    133\u001b[0m     \u001b[0;32mdef\u001b[0m \u001b[0m__len__\u001b[0m\u001b[0;34m(\u001b[0m\u001b[0mself\u001b[0m\u001b[0;34m)\u001b[0m\u001b[0;34m:\u001b[0m\u001b[0;34m\u001b[0m\u001b[0m\n",
      "\u001b[0;32m/anaconda3/lib/python3.6/site-packages/sklearn/externals/joblib/parallel.py\u001b[0m in \u001b[0;36m<listcomp>\u001b[0;34m(.0)\u001b[0m\n\u001b[1;32m    129\u001b[0m \u001b[0;34m\u001b[0m\u001b[0m\n\u001b[1;32m    130\u001b[0m     \u001b[0;32mdef\u001b[0m \u001b[0m__call__\u001b[0m\u001b[0;34m(\u001b[0m\u001b[0mself\u001b[0m\u001b[0;34m)\u001b[0m\u001b[0;34m:\u001b[0m\u001b[0;34m\u001b[0m\u001b[0m\n\u001b[0;32m--> 131\u001b[0;31m         \u001b[0;32mreturn\u001b[0m \u001b[0;34m[\u001b[0m\u001b[0mfunc\u001b[0m\u001b[0;34m(\u001b[0m\u001b[0;34m*\u001b[0m\u001b[0margs\u001b[0m\u001b[0;34m,\u001b[0m \u001b[0;34m**\u001b[0m\u001b[0mkwargs\u001b[0m\u001b[0;34m)\u001b[0m \u001b[0;32mfor\u001b[0m \u001b[0mfunc\u001b[0m\u001b[0;34m,\u001b[0m \u001b[0margs\u001b[0m\u001b[0;34m,\u001b[0m \u001b[0mkwargs\u001b[0m \u001b[0;32min\u001b[0m \u001b[0mself\u001b[0m\u001b[0;34m.\u001b[0m\u001b[0mitems\u001b[0m\u001b[0;34m]\u001b[0m\u001b[0;34m\u001b[0m\u001b[0m\n\u001b[0m\u001b[1;32m    132\u001b[0m \u001b[0;34m\u001b[0m\u001b[0m\n\u001b[1;32m    133\u001b[0m     \u001b[0;32mdef\u001b[0m \u001b[0m__len__\u001b[0m\u001b[0;34m(\u001b[0m\u001b[0mself\u001b[0m\u001b[0;34m)\u001b[0m\u001b[0;34m:\u001b[0m\u001b[0;34m\u001b[0m\u001b[0m\n",
      "\u001b[0;32m/anaconda3/lib/python3.6/site-packages/sklearn/cross_validation.py\u001b[0m in \u001b[0;36m_fit_and_score\u001b[0;34m(estimator, X, y, scorer, train, test, verbose, parameters, fit_params, return_train_score, return_parameters, error_score)\u001b[0m\n\u001b[1;32m   1662\u001b[0m \u001b[0;34m\u001b[0m\u001b[0m\n\u001b[1;32m   1663\u001b[0m     \u001b[0;32mif\u001b[0m \u001b[0mparameters\u001b[0m \u001b[0;32mis\u001b[0m \u001b[0;32mnot\u001b[0m \u001b[0;32mNone\u001b[0m\u001b[0;34m:\u001b[0m\u001b[0;34m\u001b[0m\u001b[0m\n\u001b[0;32m-> 1664\u001b[0;31m         \u001b[0mestimator\u001b[0m\u001b[0;34m.\u001b[0m\u001b[0mset_params\u001b[0m\u001b[0;34m(\u001b[0m\u001b[0;34m**\u001b[0m\u001b[0mparameters\u001b[0m\u001b[0;34m)\u001b[0m\u001b[0;34m\u001b[0m\u001b[0m\n\u001b[0m\u001b[1;32m   1665\u001b[0m \u001b[0;34m\u001b[0m\u001b[0m\n\u001b[1;32m   1666\u001b[0m     \u001b[0mstart_time\u001b[0m \u001b[0;34m=\u001b[0m \u001b[0mtime\u001b[0m\u001b[0;34m.\u001b[0m\u001b[0mtime\u001b[0m\u001b[0;34m(\u001b[0m\u001b[0;34m)\u001b[0m\u001b[0;34m\u001b[0m\u001b[0m\n",
      "\u001b[0;32m/anaconda3/lib/python3.6/site-packages/sklearn/base.py\u001b[0m in \u001b[0;36mset_params\u001b[0;34m(self, **params)\u001b[0m\n\u001b[1;32m    272\u001b[0m                                  \u001b[0;34m'Check the list of available parameters '\u001b[0m\u001b[0;34m\u001b[0m\u001b[0m\n\u001b[1;32m    273\u001b[0m                                  \u001b[0;34m'with `estimator.get_params().keys()`.'\u001b[0m \u001b[0;34m%\u001b[0m\u001b[0;34m\u001b[0m\u001b[0m\n\u001b[0;32m--> 274\u001b[0;31m                                  (key, self))\n\u001b[0m\u001b[1;32m    275\u001b[0m \u001b[0;34m\u001b[0m\u001b[0m\n\u001b[1;32m    276\u001b[0m             \u001b[0;32mif\u001b[0m \u001b[0mdelim\u001b[0m\u001b[0;34m:\u001b[0m\u001b[0;34m\u001b[0m\u001b[0m\n",
      "\u001b[0;31mValueError\u001b[0m: Invalid parameter kernel for estimator LinearSVC(C=1.0, class_weight=None, dual=True, fit_intercept=True,\n     intercept_scaling=1, loss='squared_hinge', max_iter=1000,\n     multi_class='ovr', penalty='l2', random_state=None, tol=0.0001,\n     verbose=0). Check the list of available parameters with `estimator.get_params().keys()`."
     ]
    }
   ],
   "source": [
    "# Fit grid search\n",
    "chw_m3_RS.fit(X_chw_train, Y_chw_train)\n",
    "stm_m3_RS.fit(X_stm_train, Y_stm_train)\n",
    "\n",
    "# View best hyperparameters\n",
    "print('Best CHW gamma:', chw_m3_RS_fit.best_estimator_.get_params()['gamma'])\n",
    "print('Best CHW kernel:', chw_m3_RS_fit.best_estimator_.get_params()['kernel'])\n",
    "print('Best CHW C:', chw_m3_RS_fit.best_estimator_.get_params()['C'])\n",
    "print('Best STM gamma:', stm_m3_RS_fit.best_estimator_.get_params()['gamma'])\n",
    "print('Best STM kernel:', stm_m3_RS_fit.best_estimator_.get_params()['kernel'])\n",
    "print('Best STM C:', stm_m3_RS_fit.best_estimator_.get_params()['C'])"
   ]
  },
  {
   "cell_type": "code",
   "execution_count": null,
   "metadata": {},
   "outputs": [],
   "source": [
    "# Check Model Results\n",
    "print(\"CHW Linear SVC Hyperparameter Tuning Results:\\n\", \n",
    "      'Best parameters:', chw_m3_RS.best_params_, '\\n',\n",
    "      'Best score:', chw_m3_RS.best_score_, '\\n',\n",
    "      'Best estimator:', chw_m3_RS.best_estimator_, '\\n')\n",
    "print(\"STM Linear SVC Hyperparameter Tuning Results:\\n\", \n",
    "      'Best parameters:', stm_m3_RS.best_params_, '\\n',\n",
    "      'Best score:', stm_m3_RS.best_score_, '\\n',\n",
    "      'Best estimator:', stm_m3_RS.best_estimator_, '\\n')"
   ]
  },
  {
   "cell_type": "code",
   "execution_count": null,
   "metadata": {},
   "outputs": [],
   "source": [
    "plt.scatter(x = range(1,1001), y = chw_m3_RS.cv_results_['mean_test_score'])\n",
    "plt.scatter(x = range(1,1001), y = stm_m3_RS.cv_results_['mean_test_score'], color = 'red')\n",
    "plt.title(\"Linear SVC Grid Search Hyperparameter Mean Test Scores\")\n",
    "plt.legend()\n",
    "plt.grid(True)\n",
    "plt.show()"
   ]
  },
  {
   "cell_type": "code",
   "execution_count": null,
   "metadata": {},
   "outputs": [],
   "source": [
    "# chw_m3_GS_file = 'chw_m3_GS'\n",
    "# chw_m3_GS_out = open(chw_m3_GS_file,'wb')\n",
    "# pickle.dump(chw_m3_GS,chw_m3_GS_out)\n",
    "# chw_m3_GS_out.close()\n",
    "\n",
    "# chw_m3_GS_fit_file = 'chw_m3_GS_fit'\n",
    "# chw_m3_GS_fit_out = open(chw_m3_GS_fit_file,'wb')\n",
    "# pickle.dump(chw_m3_GS_fit,chw_m3_GS_fit_out)\n",
    "# chw_m3_GS_fit_out.close()\n",
    "\n",
    "# stm_m3_GS_file = 'stm_m3_GS'\n",
    "# stm_m3_GS_out = open(stm_m3_GS_file,'wb')\n",
    "# pickle.dump(stm_m3_GS,stm_m3_GS_out)\n",
    "# stm_m3_GS_out.close()\n",
    "\n",
    "# stm_m3_GS_fit_file = 'stm_m3_GS_fit'\n",
    "# stm_m3_GS_fit_out = open(stm_m3_GS_fit_file,'wb')\n",
    "# pickle.dump(stm_m3_GS_fit,stm_m3_GS_fit_out)\n",
    "# stm_m3_GS_fit_out.close()"
   ]
  },
  {
   "cell_type": "markdown",
   "metadata": {},
   "source": [
    "__Decision Tree__"
   ]
  },
  {
   "cell_type": "code",
   "execution_count": null,
   "metadata": {},
   "outputs": [],
   "source": [
    "m5_params = {'min_samples_split' : range(10,500,20), 'max_depth': range(1,20,2)}\n",
    "\n",
    "chw_m5_GS = GridSearchCV(chw_m5, m5_params, cv=5, scoring='precision_macro')\n",
    "stm_m5_GS = GridSearchCV(stm_m5, m5_params, cv=5, scoring='precision_macro')"
   ]
  },
  {
   "cell_type": "code",
   "execution_count": null,
   "metadata": {},
   "outputs": [],
   "source": [
    "chw_m5_GS_fit = chw_m5_GS.fit(X_chw_train, Y_chw_train)\n",
    "stm_m5_GS_fit = stm_m5_GS.fit(X_stm_train, Y_stm_train)\n",
    "\n",
    "print('Best CHW min_samples_split:', chw_m3_GS_fit.best_estimator_.get_params()['min_samples_split'])\n",
    "print('Best CHW max_depth:', chw_m3_GS_fit.best_estimator_.get_params()['max_depth'])\n",
    "print('Best STM min_samples_split:', stm_m3_GS_fit.best_estimator_.get_params()['min_samples_split'])\n",
    "print('Best STM max_depth:', stm_m3_GS_fit.best_estimator_.get_params()['max_depth'])"
   ]
  },
  {
   "cell_type": "code",
   "execution_count": null,
   "metadata": {},
   "outputs": [],
   "source": [
    "print(\"CHW Decision Tree Hyperparameter Tuning Results:\\n\", \n",
    "      'Best parameters:', chw_m5_GS.best_params_, '\\n',\n",
    "      'Best score:', chw_m5_GS.best_score_, '\\n',\n",
    "      'Best estimator:', chw_m5_GS.best_estimator_, '\\n')\n",
    "print(\"STM Decision Tree Hyperparameter Tuning Results:\\n\", \n",
    "      'Best parameters:', stm_m5_GS.best_params_, '\\n',\n",
    "      'Best score:', stm_m5_GS.best_score_, '\\n',\n",
    "      'Best estimator:', stm_m5_GS.best_estimator_, '\\n')"
   ]
  },
  {
   "cell_type": "code",
   "execution_count": null,
   "metadata": {},
   "outputs": [],
   "source": [
    "plt.scatter(x = range(1,501), y = chw_m5_GS.cv_results_['mean_test_score'])\n",
    "plt.scatter(x = range(1,501), y = stm_m5_GS.cv_results_['mean_test_score'], color = 'red')\n",
    "plt.title(\"Decision Tree Grid Search Hyperparameter Mean Test Scores\")\n",
    "plt.legend()\n",
    "plt.grid(True)\n",
    "plt.show()"
   ]
  },
  {
   "cell_type": "code",
   "execution_count": null,
   "metadata": {},
   "outputs": [],
   "source": [
    "# chw_m5_GS_file = 'chw_m5_GS'\n",
    "# chw_m5_GS_out = open(chw_m5_GS_file,'wb')\n",
    "# pickle.dump(chw_m5_GS,chw_m5_GS_out)\n",
    "# chw_m5_GS_out.close()\n",
    "\n",
    "# chw_m5_GS_fit_file = 'chw_m5_GS_fit'\n",
    "# chw_m5_GS_fit_out = open(chw_m5_GS_fit_file,'wb')\n",
    "# pickle.dump(chw_m5_GS_fit,chw_m5_GS_fit_out)\n",
    "# chw_m5_GS_fit_out.close()\n",
    "\n",
    "# stm_m5_GS_file = 'stm_m5_GS'\n",
    "# stm_m5_GS_out = open(stm_m5_GS_file,'wb')\n",
    "# pickle.dump(stm_m5_GS,stm_m5_GS_out)\n",
    "# stm_m5_GS_out.close()\n",
    "\n",
    "# stm_m5_GS_fit_file = 'stm_m5_GS_fit'\n",
    "# stm_m5_GS_fit_out = open(stm_m5_GS_fit_file,'wb')\n",
    "# pickle.dump(stm_m5_GS_fit,stm_m5_GS_fit_out)\n",
    "# stm_m5_GS_fit_out.close()"
   ]
  },
  {
   "cell_type": "markdown",
   "metadata": {},
   "source": [
    "__MLP Neural Network__"
   ]
  },
  {
   "cell_type": "code",
   "execution_count": 15,
   "metadata": {},
   "outputs": [],
   "source": [
    "m6_params = {'hidden_layer_sizes':range(1,101,5),'activation':['identity','logistic','tanh','relu']}"
   ]
  },
  {
   "cell_type": "code",
   "execution_count": 28,
   "metadata": {},
   "outputs": [
    {
     "name": "stdout",
     "output_type": "stream",
     "text": [
      "Best CHW hidden_layer_sizes: 26\n",
      "Best CHW activation: relu\n"
     ]
    }
   ],
   "source": [
    "chw_m6_RS = RandomizedSearchCV(chw_m6, m6_params, cv=5, scoring = 'precision_macro', n_iter=10)\n",
    "chw_m6_RS_fit = chw_m6_RS.fit(X_chw_train, Y_chw_train)\n",
    "\n",
    "print('Best CHW hidden_layer_sizes:', chw_m6_RS_fit.best_estimator_.get_params()['hidden_layer_sizes'])\n",
    "print('Best CHW activation:', chw_m6_RS_fit.best_estimator_.get_params()['activation'])"
   ]
  },
  {
   "cell_type": "code",
   "execution_count": 17,
   "metadata": {},
   "outputs": [
    {
     "name": "stdout",
     "output_type": "stream",
     "text": [
      "Best STM hidden_layer_sizes: 51\n",
      "Best STM activation: tanh\n"
     ]
    }
   ],
   "source": [
    "stm_m6_RS = RandomizedSearchCV(stm_m6, m6_params, cv=5, scoring = 'precision_macro', n_iter=10)\n",
    "stm_m6_RS_fit = stm_m6_RS.fit(X_stm_train, Y_stm_train)\n",
    "\n",
    "print('Best STM hidden_layer_sizes:', stm_m6_RS_fit.best_estimator_.get_params()['hidden_layer_sizes'])\n",
    "print('Best STM activation:', stm_m6_RS_fit.best_estimator_.get_params()['activation'])"
   ]
  },
  {
   "cell_type": "code",
   "execution_count": 18,
   "metadata": {},
   "outputs": [
    {
     "name": "stdout",
     "output_type": "stream",
     "text": [
      "CHW MLP ANN Hyperparameter Tuning Results:\n",
      " Best parameters: {'hidden_layer_sizes': 51, 'activation': 'logistic'} \n",
      " Best score: 0.9875137688570418 \n",
      " Best estimator: MLPClassifier(activation='logistic', alpha=0.0001, batch_size='auto',\n",
      "       beta_1=0.9, beta_2=0.999, early_stopping=False, epsilon=1e-08,\n",
      "       hidden_layer_sizes=51, learning_rate='constant',\n",
      "       learning_rate_init=0.001, max_iter=200, momentum=0.9,\n",
      "       nesterovs_momentum=True, power_t=0.5, random_state=None,\n",
      "       shuffle=True, solver='adam', tol=0.0001, validation_fraction=0.1,\n",
      "       verbose=False, warm_start=False) \n",
      "\n",
      "STM MLP ANN Hyperparameter Tuning Results:\n",
      " Best parameters: {'hidden_layer_sizes': 51, 'activation': 'tanh'} \n",
      " Best score: 0.9471430787165506 \n",
      " Best estimator: MLPClassifier(activation='tanh', alpha=0.0001, batch_size='auto', beta_1=0.9,\n",
      "       beta_2=0.999, early_stopping=False, epsilon=1e-08,\n",
      "       hidden_layer_sizes=51, learning_rate='constant',\n",
      "       learning_rate_init=0.001, max_iter=200, momentum=0.9,\n",
      "       nesterovs_momentum=True, power_t=0.5, random_state=None,\n",
      "       shuffle=True, solver='adam', tol=0.0001, validation_fraction=0.1,\n",
      "       verbose=False, warm_start=False) \n",
      "\n"
     ]
    }
   ],
   "source": [
    "# Check Model Results\n",
    "print(\"CHW MLP ANN Hyperparameter Tuning Results:\\n\", \n",
    "      'Best parameters:', chw_m6_RS.best_params_, '\\n',\n",
    "      'Best score:', chw_m6_RS.best_score_, '\\n',\n",
    "      'Best estimator:', chw_m6_RS.best_estimator_, '\\n')\n",
    "print(\"STM MLP ANN Hyperparameter Tuning Results:\\n\", \n",
    "      'Best parameters:', stm_m6_RS.best_params_, '\\n',\n",
    "      'Best score:', stm_m6_RS.best_score_, '\\n',\n",
    "      'Best estimator:', stm_m6_RS.best_estimator_, '\\n')"
   ]
  },
  {
   "cell_type": "code",
   "execution_count": 19,
   "metadata": {
    "collapsed": true
   },
   "outputs": [
    {
     "ename": "AttributeError",
     "evalue": "'RandomizedSearchCV' object has no attribute 'cv_results_'",
     "output_type": "error",
     "traceback": [
      "\u001b[0;31m---------------------------------------------------------------------------\u001b[0m",
      "\u001b[0;31mAttributeError\u001b[0m                            Traceback (most recent call last)",
      "\u001b[0;32m<ipython-input-19-45561e72e029>\u001b[0m in \u001b[0;36m<module>\u001b[0;34m()\u001b[0m\n\u001b[0;32m----> 1\u001b[0;31m \u001b[0mplt\u001b[0m\u001b[0;34m.\u001b[0m\u001b[0mscatter\u001b[0m\u001b[0;34m(\u001b[0m\u001b[0mx\u001b[0m \u001b[0;34m=\u001b[0m \u001b[0mrange\u001b[0m\u001b[0;34m(\u001b[0m\u001b[0;36m1\u001b[0m\u001b[0;34m,\u001b[0m\u001b[0;36m101\u001b[0m\u001b[0;34m)\u001b[0m\u001b[0;34m,\u001b[0m \u001b[0my\u001b[0m \u001b[0;34m=\u001b[0m \u001b[0mchw_m6_RS\u001b[0m\u001b[0;34m.\u001b[0m\u001b[0mcv_results_\u001b[0m\u001b[0;34m[\u001b[0m\u001b[0;34m'mean_test_score'\u001b[0m\u001b[0;34m]\u001b[0m\u001b[0;34m)\u001b[0m\u001b[0;34m\u001b[0m\u001b[0m\n\u001b[0m\u001b[1;32m      2\u001b[0m \u001b[0mplt\u001b[0m\u001b[0;34m.\u001b[0m\u001b[0mscatter\u001b[0m\u001b[0;34m(\u001b[0m\u001b[0mx\u001b[0m \u001b[0;34m=\u001b[0m \u001b[0mrange\u001b[0m\u001b[0;34m(\u001b[0m\u001b[0;36m1\u001b[0m\u001b[0;34m,\u001b[0m\u001b[0;36m101\u001b[0m\u001b[0;34m)\u001b[0m\u001b[0;34m,\u001b[0m \u001b[0my\u001b[0m \u001b[0;34m=\u001b[0m \u001b[0mstm_m6_RS\u001b[0m\u001b[0;34m.\u001b[0m\u001b[0mcv_results_\u001b[0m\u001b[0;34m[\u001b[0m\u001b[0;34m'mean_test_score'\u001b[0m\u001b[0;34m]\u001b[0m\u001b[0;34m,\u001b[0m \u001b[0mcolor\u001b[0m \u001b[0;34m=\u001b[0m \u001b[0;34m'red'\u001b[0m\u001b[0;34m)\u001b[0m\u001b[0;34m\u001b[0m\u001b[0m\n\u001b[1;32m      3\u001b[0m \u001b[0mplt\u001b[0m\u001b[0;34m.\u001b[0m\u001b[0mtitle\u001b[0m\u001b[0;34m(\u001b[0m\u001b[0;34m\"MLP ANN Grid Search Hyperparameter Mean Test Scores\"\u001b[0m\u001b[0;34m)\u001b[0m\u001b[0;34m\u001b[0m\u001b[0m\n\u001b[1;32m      4\u001b[0m \u001b[0mplt\u001b[0m\u001b[0;34m.\u001b[0m\u001b[0mlegend\u001b[0m\u001b[0;34m(\u001b[0m\u001b[0;34m)\u001b[0m\u001b[0;34m\u001b[0m\u001b[0m\n\u001b[1;32m      5\u001b[0m \u001b[0mplt\u001b[0m\u001b[0;34m.\u001b[0m\u001b[0mshow\u001b[0m\u001b[0;34m(\u001b[0m\u001b[0;34m)\u001b[0m\u001b[0;34m\u001b[0m\u001b[0m\n",
      "\u001b[0;31mAttributeError\u001b[0m: 'RandomizedSearchCV' object has no attribute 'cv_results_'"
     ]
    }
   ],
   "source": [
    "plt.scatter(x = range(1,101), y = chw_m6_RS.cv_results_['mean_test_score'])\n",
    "plt.scatter(x = range(1,101), y = stm_m6_RS.cv_results_['mean_test_score'], color = 'red')\n",
    "plt.title(\"MLP ANN Grid Search Hyperparameter Mean Test Scores\")\n",
    "plt.legend()\n",
    "plt.show()"
   ]
  },
  {
   "cell_type": "code",
   "execution_count": null,
   "metadata": {},
   "outputs": [],
   "source": [
    "# chw_m6_GS_file = 'chw_m6_GS'\n",
    "# chw_m6_GS_out = open(chw_m6_GS_file,'wb')\n",
    "# pickle.dump(chw_m6_GS,chw_m6_GS_out)\n",
    "# chw_m6_GS_out.close()\n",
    "\n",
    "# chw_m6_GS_fit_file = 'chw_m6_GS_fit'\n",
    "# chw_m6_GS_fit_out = open(chw_m6_GS_fit_file,'wb')\n",
    "# pickle.dump(chw_m6_GS_fit,chw_m6_GS_fit_out)\n",
    "# chw_m6_GS_fit_out.close()\n",
    "\n",
    "# stm_m6_GS_file = 'stm_m6_GS'\n",
    "# stm_m6_GS_out = open(stm_m6_GS_file,'wb')\n",
    "# pickle.dump(stm_m6_GS,stm_m6_GS_out)\n",
    "# stm_m6_GS_out.close()\n",
    "\n",
    "# stm_m6_GS_fit_file = 'stm_m6_GS_fit'\n",
    "# stm_m6_GS_fit_out = open(stm_m6_GS_fit_file,'wb')\n",
    "# pickle.dump(stm_m6_GS_fit,stm_m6_GS_fit_out)\n",
    "# stm_m6_GS_fit_out.close()"
   ]
  },
  {
   "cell_type": "markdown",
   "metadata": {},
   "source": [
    "__Bagged Trees__"
   ]
  },
  {
   "cell_type": "code",
   "execution_count": 22,
   "metadata": {},
   "outputs": [],
   "source": [
    "m7_params = {'base_estimator__max_depth' : [1, 2, 3, 4, 5], 'max_samples' : [0.05, 0.1, 0.2, 0.5]}\n",
    "\n",
    "chw_m7_RS = RandomizedSearchCV(ensemble.BaggingClassifier(tree.DecisionTreeClassifier(),\n",
    "                                     n_estimators = 100, max_features = 0.5),\n",
    "                     m7_params, scoring = 'precision_macro', n_iter=10)\n",
    "stm_m7_RS = RandomizedSearchCV(ensemble.BaggingClassifier(tree.DecisionTreeClassifier(),\n",
    "                                     n_estimators = 100, max_features = 0.5),\n",
    "                     m7_params, scoring = 'precision_macro', n_iter=10)"
   ]
  },
  {
   "cell_type": "code",
   "execution_count": 23,
   "metadata": {},
   "outputs": [
    {
     "data": {
      "text/plain": [
       "RandomizedSearchCV(cv=None, error_score='raise',\n",
       "          estimator=BaggingClassifier(base_estimator=DecisionTreeClassifier(class_weight=None, criterion='gini', max_depth=None,\n",
       "            max_features=None, max_leaf_nodes=None,\n",
       "            min_impurity_decrease=0.0, min_impurity_split=None,\n",
       "            min_samples_leaf=1, min_samples_split=2,\n",
       "            ..._estimators=100, n_jobs=1, oob_score=False,\n",
       "         random_state=None, verbose=0, warm_start=False),\n",
       "          fit_params={}, iid=True, n_iter=10, n_jobs=1,\n",
       "          param_distributions={'base_estimator__max_depth': [1, 2, 3, 4, 5], 'max_samples': [0.05, 0.1, 0.2, 0.5]},\n",
       "          pre_dispatch='2*n_jobs', random_state=None, refit=True,\n",
       "          scoring='precision_macro', verbose=0)"
      ]
     },
     "execution_count": 23,
     "metadata": {},
     "output_type": "execute_result"
    }
   ],
   "source": [
    "chw_m7_RS.fit(X_chw_train, Y_chw_train)\n",
    "stm_m7_RS.fit(X_stm_train, Y_stm_train)"
   ]
  },
  {
   "cell_type": "code",
   "execution_count": 25,
   "metadata": {},
   "outputs": [
    {
     "name": "stdout",
     "output_type": "stream",
     "text": [
      "CHW Bagged Trees Hyperparameter Tuning Results:\n",
      " Best parameters: {'max_samples': 0.05, 'base_estimator__max_depth': 5} \n",
      " Best score: 0.9749824508779769 \n",
      " Best estimator: BaggingClassifier(base_estimator=DecisionTreeClassifier(class_weight=None, criterion='gini', max_depth=5,\n",
      "            max_features=None, max_leaf_nodes=None,\n",
      "            min_impurity_decrease=0.0, min_impurity_split=None,\n",
      "            min_samples_leaf=1, min_samples_split=2,\n",
      "            min_weight_fraction_leaf=0.0, presort=False, random_state=None,\n",
      "            splitter='best'),\n",
      "         bootstrap=True, bootstrap_features=False, max_features=0.5,\n",
      "         max_samples=0.05, n_estimators=100, n_jobs=1, oob_score=False,\n",
      "         random_state=None, verbose=0, warm_start=False) \n",
      "\n",
      "STM Bagged Trees Hyperparameter Tuning Results:\n",
      " Best parameters: {'max_samples': 0.1, 'base_estimator__max_depth': 5} \n",
      " Best score: 0.8796518238992674 \n",
      " Best estimator: BaggingClassifier(base_estimator=DecisionTreeClassifier(class_weight=None, criterion='gini', max_depth=5,\n",
      "            max_features=None, max_leaf_nodes=None,\n",
      "            min_impurity_decrease=0.0, min_impurity_split=None,\n",
      "            min_samples_leaf=1, min_samples_split=2,\n",
      "            min_weight_fraction_leaf=0.0, presort=False, random_state=None,\n",
      "            splitter='best'),\n",
      "         bootstrap=True, bootstrap_features=False, max_features=0.5,\n",
      "         max_samples=0.1, n_estimators=100, n_jobs=1, oob_score=False,\n",
      "         random_state=None, verbose=0, warm_start=False) \n",
      "\n"
     ]
    }
   ],
   "source": [
    "# Check Model Results\n",
    "print(\"CHW Bagged Trees Hyperparameter Tuning Results:\\n\", \n",
    "      'Best parameters:', chw_m7_RS.best_params_, '\\n',\n",
    "      'Best score:', chw_m7_RS.best_score_, '\\n',\n",
    "      'Best estimator:', chw_m7_RS.best_estimator_, '\\n')\n",
    "print(\"STM Bagged Trees Hyperparameter Tuning Results:\\n\", \n",
    "      'Best parameters:', stm_m7_RS.best_params_, '\\n',\n",
    "      'Best score:', stm_m7_RS.best_score_, '\\n',\n",
    "      'Best estimator:', stm_m7_RS.best_estimator_, '\\n')"
   ]
  },
  {
   "cell_type": "code",
   "execution_count": null,
   "metadata": {},
   "outputs": [],
   "source": [
    "# chw_m7_GS_file = 'chw_m7_GS'\n",
    "# chw_m7_GS_out = open(chw_m7_GS_file,'wb')\n",
    "# pickle.dump(chw_m7_GS,chw_m7_GS_out)\n",
    "# chw_m7_GS_out.close()\n",
    "\n",
    "# chw_m7_GS_fit_file = 'chw_m7_GS_fit'\n",
    "# chw_m7_GS_fit_out = open(chw_m7_GS_fit_file,'wb')\n",
    "# pickle.dump(chw_m7_GS_fit,chw_m7_GS_fit_out)\n",
    "# chw_m7_GS_fit_out.close()\n",
    "\n",
    "# stm_m7_GS_file = 'stm_m7_GS'\n",
    "# stm_m7_GS_out = open(stm_m7_GS_file,'wb')\n",
    "# pickle.dump(stm_m7_GS,stm_m7_GS_out)\n",
    "# stm_m7_GS_out.close()\n",
    "\n",
    "# stm_m7_GS_fit_file = 'stm_m7_GS_fit'\n",
    "# stm_m7_GS_fit_out = open(stm_m7_GS_fit_file,'wb')\n",
    "# pickle.dump(stm_m7_GS_fit,stm_m7_GS_fit_out)\n",
    "# stm_m7_GS_fit_out.close()"
   ]
  },
  {
   "cell_type": "markdown",
   "metadata": {},
   "source": [
    "__Random Forest__"
   ]
  },
  {
   "cell_type": "code",
   "execution_count": null,
   "metadata": {},
   "outputs": [],
   "source": [
    "m8_params = {'n_estimators':range(1,100,1),'criterion':['gini','entropy']}\n",
    "\n",
    "chw_m8_RS = RandomizedSearchCV(chw_m8, m8_params, cv=5, scoring='precision_macro',n_iter = 10)\n",
    "stm_m8_RS = RandomizedSearchCV(stm_m8, m8_params, cv=5, scoring='precision_macro',n_iter = 10)"
   ]
  },
  {
   "cell_type": "code",
   "execution_count": null,
   "metadata": {},
   "outputs": [],
   "source": [
    "# Fit grid search\n",
    "chw_m8_RS_fit = chw_m8_RS.fit(X_chw_train, Y_chw_train)\n",
    "stm_m8_RS_fit = stm_m8_RS.fit(X_stm_train, Y_stm_train)\n",
    "\n",
    "print('Best CHW n_estimators:', chw_m3_GS_fit.best_estimator_.get_params()['n_estimators'])\n",
    "print('Best CHW criterion:', chw_m3_GS_fit.best_estimator_.get_params()['criterion'])\n",
    "print('Best STM n_estimators:', stm_m3_GS_fit.best_estimator_.get_params()['n_estimators'])\n",
    "print('Best STM criterion:', stm_m3_GS_fit.best_estimator_.get_params()['criterion'])"
   ]
  },
  {
   "cell_type": "code",
   "execution_count": null,
   "metadata": {},
   "outputs": [],
   "source": [
    "# Check Model Results\n",
    "print(\"CHW Random Forest Hyperparameter Tuning Results:\\n\", \n",
    "      'Best parameters:', chw_m8_RS.best_params_, '\\n',\n",
    "      'Best score:', chw_m8_RS.best_score_, '\\n',\n",
    "      'Best estimator:', chw_m8_RS.best_estimator_, '\\n')\n",
    "print(\"STM Random Forest Hyperparameter Tuning Results:\\n\", \n",
    "      'Best parameters:', stm_m8_RS.best_params_, '\\n',\n",
    "      'Best score:', stm_m8_RS.best_score_, '\\n',\n",
    "      'Best estimator:', stm_m8_RS.best_estimator_, '\\n')"
   ]
  },
  {
   "cell_type": "code",
   "execution_count": null,
   "metadata": {},
   "outputs": [],
   "source": [
    "plt.scatter(x = range(1,101), y = chw_m8_RS.cv_results_['mean_test_score'])\n",
    "plt.scatter(x = range(1,101), y = stm_m8_RS.cv_results_['mean_test_score'], color = 'red')\n",
    "plt.title(\"Random Forest Grid Search Hyperparameter Mean Test Scores\")\n",
    "plt.legend()\n",
    "plt.grid(True)\n",
    "plt.show()"
   ]
  },
  {
   "cell_type": "code",
   "execution_count": null,
   "metadata": {},
   "outputs": [],
   "source": [
    "# chw_m8_RS_file = 'chw_m8_RS'\n",
    "# chw_m8_RS_out = open(chw_m8_RS_file,'wb')\n",
    "# pickle.dump(chw_m8_RS,chw_m8_RS_out)\n",
    "# chw_m8_RS_out.close()\n",
    "\n",
    "# chw_m8_RS_fit_file = 'chw_m8_RS_fit'\n",
    "# chw_m8_RS_fit_out = open(chw_m8_RS_fit_file,'wb')\n",
    "# pickle.dump(chw_m8_RS_fit,chw_m8_RS_fit_out)\n",
    "# chw_m8_RS_fit_out.close()\n",
    "\n",
    "# stm_m8_RS_file = 'stm_m8_RS'\n",
    "# stm_m8_RS_out = open(stm_m8_RS_file,'wb')\n",
    "# pickle.dump(stm_m8_RS,stm_m8_RS_out)\n",
    "# stm_m8_RS_out.close()\n",
    "\n",
    "# stm_m8_RS_fit_file = 'stm_m8_RS_fit'\n",
    "# stm_m8_RS_fit_out = open(stm_m8_RS_fit_file,'wb')\n",
    "# pickle.dump(stm_m8_RS_fit,stm_m8_RS_fit_out)\n",
    "# stm_m8_RS_fit_out.close()"
   ]
  },
  {
   "cell_type": "markdown",
   "metadata": {},
   "source": [
    "__AdaBoost Trees__"
   ]
  },
  {
   "cell_type": "code",
   "execution_count": 31,
   "metadata": {},
   "outputs": [],
   "source": [
    "#from evolutionary_search import EvolutionaryAlgorithmSearchCV\n",
    "m9_params = {\n",
    "     'base_estimator__max_depth':(1, 2, 4, 8),\n",
    "     'base_estimator__min_samples_split': (2, 4, 8),\n",
    "     'base_estimator__min_samples_leaf': (16, 12, 8, 4),\n",
    "     'n_estimators': (50, 100, 200, 500),\n",
    "     'learning_rate': (1, 0.1, 0.01, 10)\n",
    "}\n",
    "\n",
    "chw_m9_RS = RandomizedSearchCV(ensemble.AdaBoostClassifier(tree.DecisionTreeClassifier()),\n",
    "                     m9_params, cv=5, scoring = 'precision_macro', n_iter=10)\n",
    "stm_m9_RS = RandomizedSearchCV(ensemble.AdaBoostClassifier(tree.DecisionTreeClassifier()),\n",
    "                     m9_params, cv=5, scoring = 'precision_macro', n_iter=10)"
   ]
  },
  {
   "cell_type": "code",
   "execution_count": 32,
   "metadata": {},
   "outputs": [
    {
     "name": "stdout",
     "output_type": "stream",
     "text": [
      "CHW AdaBoost Hyperparameter Tuning Results:\n",
      " Best parameters: {'n_estimators': 200, 'learning_rate': 0.1, 'base_estimator__min_samples_split': 8, 'base_estimator__min_samples_leaf': 8, 'base_estimator__max_depth': 4} \n",
      " Best score: 0.9883671016980425 \n",
      " Best estimator: AdaBoostClassifier(algorithm='SAMME.R',\n",
      "          base_estimator=DecisionTreeClassifier(class_weight=None, criterion='gini', max_depth=4,\n",
      "            max_features=None, max_leaf_nodes=None,\n",
      "            min_impurity_decrease=0.0, min_impurity_split=None,\n",
      "            min_samples_leaf=8, min_samples_split=8,\n",
      "            min_weight_fraction_leaf=0.0, presort=False, random_state=None,\n",
      "            splitter='best'),\n",
      "          learning_rate=0.1, n_estimators=200, random_state=None) \n",
      "\n"
     ]
    }
   ],
   "source": [
    "chw_m9_RS_fit = chw_m9_RS.fit(X_chw_train, Y_chw_train)\n",
    "print(\"CHW AdaBoost Hyperparameter Tuning Results:\\n\", \n",
    "      'Best parameters:', chw_m9_RS.best_params_, '\\n',\n",
    "      'Best score:', chw_m9_RS.best_score_, '\\n',\n",
    "      'Best estimator:', chw_m9_RS.best_estimator_, '\\n')"
   ]
  },
  {
   "cell_type": "code",
   "execution_count": 33,
   "metadata": {},
   "outputs": [
    {
     "name": "stderr",
     "output_type": "stream",
     "text": [
      "/anaconda3/lib/python3.6/site-packages/sklearn/metrics/classification.py:1135: UndefinedMetricWarning: Precision is ill-defined and being set to 0.0 in labels with no predicted samples.\n",
      "  'precision', 'predicted', average, warn_for)\n",
      "/anaconda3/lib/python3.6/site-packages/sklearn/metrics/classification.py:1135: UndefinedMetricWarning: Precision is ill-defined and being set to 0.0 in labels with no predicted samples.\n",
      "  'precision', 'predicted', average, warn_for)\n",
      "/anaconda3/lib/python3.6/site-packages/sklearn/metrics/classification.py:1135: UndefinedMetricWarning: Precision is ill-defined and being set to 0.0 in labels with no predicted samples.\n",
      "  'precision', 'predicted', average, warn_for)\n",
      "/anaconda3/lib/python3.6/site-packages/sklearn/metrics/classification.py:1135: UndefinedMetricWarning: Precision is ill-defined and being set to 0.0 in labels with no predicted samples.\n",
      "  'precision', 'predicted', average, warn_for)\n",
      "/anaconda3/lib/python3.6/site-packages/sklearn/metrics/classification.py:1135: UndefinedMetricWarning: Precision is ill-defined and being set to 0.0 in labels with no predicted samples.\n",
      "  'precision', 'predicted', average, warn_for)\n",
      "/anaconda3/lib/python3.6/site-packages/sklearn/metrics/classification.py:1135: UndefinedMetricWarning: Precision is ill-defined and being set to 0.0 in labels with no predicted samples.\n",
      "  'precision', 'predicted', average, warn_for)\n"
     ]
    },
    {
     "name": "stdout",
     "output_type": "stream",
     "text": [
      "STM AdaBoost Hyperparameter Tuning Results:\n",
      " Best parameters: {'n_estimators': 200, 'learning_rate': 1, 'base_estimator__min_samples_split': 2, 'base_estimator__min_samples_leaf': 12, 'base_estimator__max_depth': 4} \n",
      " Best score: 0.9667184847292065 \n",
      " Best estimator: AdaBoostClassifier(algorithm='SAMME.R',\n",
      "          base_estimator=DecisionTreeClassifier(class_weight=None, criterion='gini', max_depth=4,\n",
      "            max_features=None, max_leaf_nodes=None,\n",
      "            min_impurity_decrease=0.0, min_impurity_split=None,\n",
      "            min_samples_leaf=12, min_samples_split=2,\n",
      "            min_weight_fraction_leaf=0.0, presort=False, random_state=None,\n",
      "            splitter='best'),\n",
      "          learning_rate=1, n_estimators=200, random_state=None) \n",
      "\n"
     ]
    }
   ],
   "source": [
    "stm_m9_RS_fit = stm_m9_RS.fit(X_stm_train, Y_stm_train)\n",
    "print(\"STM AdaBoost Hyperparameter Tuning Results:\\n\", \n",
    "      'Best parameters:', stm_m9_RS.best_params_, '\\n',\n",
    "      'Best score:', stm_m9_RS.best_score_, '\\n',\n",
    "      'Best estimator:', stm_m9_RS.best_estimator_, '\\n')"
   ]
  },
  {
   "cell_type": "code",
   "execution_count": 34,
   "metadata": {},
   "outputs": [
    {
     "ename": "AttributeError",
     "evalue": "'RandomizedSearchCV' object has no attribute 'cv_results_'",
     "output_type": "error",
     "traceback": [
      "\u001b[0;31m---------------------------------------------------------------------------\u001b[0m",
      "\u001b[0;31mAttributeError\u001b[0m                            Traceback (most recent call last)",
      "\u001b[0;32m<ipython-input-34-64c17ba049ad>\u001b[0m in \u001b[0;36m<module>\u001b[0;34m()\u001b[0m\n\u001b[0;32m----> 1\u001b[0;31m \u001b[0mplt\u001b[0m\u001b[0;34m.\u001b[0m\u001b[0mscatter\u001b[0m\u001b[0;34m(\u001b[0m\u001b[0mchw_m9_RS\u001b[0m\u001b[0;34m.\u001b[0m\u001b[0mcv_results_\u001b[0m\u001b[0;34m[\u001b[0m\u001b[0;34m'mean_test_score'\u001b[0m\u001b[0;34m]\u001b[0m\u001b[0;34m)\u001b[0m\u001b[0;34m\u001b[0m\u001b[0m\n\u001b[0m\u001b[1;32m      2\u001b[0m \u001b[0mplt\u001b[0m\u001b[0;34m.\u001b[0m\u001b[0mscatter\u001b[0m\u001b[0;34m(\u001b[0m\u001b[0mstm_m9_RS\u001b[0m\u001b[0;34m.\u001b[0m\u001b[0mcv_results_\u001b[0m\u001b[0;34m[\u001b[0m\u001b[0;34m'mean_test_score'\u001b[0m\u001b[0;34m]\u001b[0m\u001b[0;34m,\u001b[0m \u001b[0mcolor\u001b[0m \u001b[0;34m=\u001b[0m \u001b[0;34m'red'\u001b[0m\u001b[0;34m)\u001b[0m\u001b[0;34m\u001b[0m\u001b[0m\n\u001b[1;32m      3\u001b[0m \u001b[0mplt\u001b[0m\u001b[0;34m.\u001b[0m\u001b[0mtitle\u001b[0m\u001b[0;34m(\u001b[0m\u001b[0;34m\"AdaBoost Grid Search Hyperparameter Mean Test Scores\"\u001b[0m\u001b[0;34m)\u001b[0m\u001b[0;34m\u001b[0m\u001b[0m\n\u001b[1;32m      4\u001b[0m \u001b[0mplt\u001b[0m\u001b[0;34m.\u001b[0m\u001b[0mlegend\u001b[0m\u001b[0;34m(\u001b[0m\u001b[0;34m)\u001b[0m\u001b[0;34m\u001b[0m\u001b[0m\n\u001b[1;32m      5\u001b[0m \u001b[0mplt\u001b[0m\u001b[0;34m.\u001b[0m\u001b[0mgrid\u001b[0m\u001b[0;34m(\u001b[0m\u001b[0;32mTrue\u001b[0m\u001b[0;34m)\u001b[0m\u001b[0;34m\u001b[0m\u001b[0m\n",
      "\u001b[0;31mAttributeError\u001b[0m: 'RandomizedSearchCV' object has no attribute 'cv_results_'"
     ]
    }
   ],
   "source": [
    "plt.scatter(chw_m9_RS.cv_results_['mean_test_score'])\n",
    "plt.scatter(stm_m9_RS.cv_results_['mean_test_score'], color = 'red')\n",
    "plt.title(\"AdaBoost Grid Search Hyperparameter Mean Test Scores\")\n",
    "plt.legend()\n",
    "plt.grid(True)\n",
    "plt.show()"
   ]
  },
  {
   "cell_type": "code",
   "execution_count": null,
   "metadata": {},
   "outputs": [],
   "source": [
    "# chw_m9_GS_file = 'chw_m9_GS'\n",
    "# chw_m9_GS_out = open(chw_m9_GS_file,'wb')\n",
    "# pickle.dump(chw_m9_GS,chw_m9_GS_out)\n",
    "# chw_m9_GS_out.close()\n",
    "\n",
    "# chw_m9_GS_fit_file = 'chw_m9_GS_fit'\n",
    "# chw_m9_GS_fit_out = open(chw_m9_GS_fit_file,'wb')\n",
    "# pickle.dump(chw_m9_GS_fit,chw_m9_GS_fit_out)\n",
    "# chw_m9_GS_fit_out.close()\n",
    "\n",
    "# stm_m9_GS_file = 'stm_m9_GS'\n",
    "# stm_m9_GS_out = open(stm_m9_GS_file,'wb')\n",
    "# pickle.dump(stm_m9_GS,stm_m9_GS_out)\n",
    "# stm_m9_GS_out.close()\n",
    "\n",
    "# stm_m9_GS_fit_file = 'stm_m9_GS_fit'\n",
    "# stm_m9_GS_fit_out = open(stm_m9_GS_fit_file,'wb')\n",
    "# pickle.dump(stm_m9_GS_fit,stm_m9_GS_fit_out)\n",
    "# stm_m9_GS_fit_out.close()"
   ]
  },
  {
   "cell_type": "markdown",
   "metadata": {},
   "source": [
    "__Gradient Boosting__"
   ]
  },
  {
   "cell_type": "code",
   "execution_count": 35,
   "metadata": {},
   "outputs": [],
   "source": [
    "m10_params = {\n",
    "    \"loss\":[\"deviance\"],\n",
    "    \"learning_rate\": [0.01, 0.025, 0.05, 0.075, 0.1, 0.15, 0.2],\n",
    "    \"min_samples_split\": np.linspace(0.1, 0.5, 12),\n",
    "    \"min_samples_leaf\": np.linspace(0.1, 0.5, 12),\n",
    "    \"max_depth\":[3,5,8],\n",
    "    \"max_features\":[\"log2\",\"sqrt\"],\n",
    "    \"criterion\": [\"friedman_mse\",  \"mae\"],\n",
    "    \"subsample\":[0.5, 0.618, 0.8, 0.85, 0.9, 0.95, 1.0],\n",
    "    \"n_estimators\":[10]\n",
    "    }\n",
    "\n",
    "chw_m10_RS = RandomizedSearchCV(ensemble.GradientBoostingClassifier(tree.DecisionTreeClassifier()),\n",
    "                     m10_params, cv=5, scoring = 'precision_macro', n_iter=10)\n",
    "stm_m10_RS = RandomizedSearchCV(ensemble.GradientBoostingClassifier(tree.DecisionTreeClassifier()),\n",
    "                     m10_params, cv=5, scoring = 'precision_macro', n_iter=10)"
   ]
  },
  {
   "cell_type": "code",
   "execution_count": 36,
   "metadata": {
    "scrolled": true
   },
   "outputs": [
    {
     "name": "stderr",
     "output_type": "stream",
     "text": [
      "/anaconda3/lib/python3.6/site-packages/sklearn/metrics/classification.py:1135: UndefinedMetricWarning: Precision is ill-defined and being set to 0.0 in labels with no predicted samples.\n",
      "  'precision', 'predicted', average, warn_for)\n",
      "/anaconda3/lib/python3.6/site-packages/sklearn/metrics/classification.py:1135: UndefinedMetricWarning: Precision is ill-defined and being set to 0.0 in labels with no predicted samples.\n",
      "  'precision', 'predicted', average, warn_for)\n",
      "/anaconda3/lib/python3.6/site-packages/sklearn/metrics/classification.py:1135: UndefinedMetricWarning: Precision is ill-defined and being set to 0.0 in labels with no predicted samples.\n",
      "  'precision', 'predicted', average, warn_for)\n",
      "/anaconda3/lib/python3.6/site-packages/sklearn/metrics/classification.py:1135: UndefinedMetricWarning: Precision is ill-defined and being set to 0.0 in labels with no predicted samples.\n",
      "  'precision', 'predicted', average, warn_for)\n",
      "/anaconda3/lib/python3.6/site-packages/sklearn/metrics/classification.py:1135: UndefinedMetricWarning: Precision is ill-defined and being set to 0.0 in labels with no predicted samples.\n",
      "  'precision', 'predicted', average, warn_for)\n",
      "/anaconda3/lib/python3.6/site-packages/sklearn/metrics/classification.py:1135: UndefinedMetricWarning: Precision is ill-defined and being set to 0.0 in labels with no predicted samples.\n",
      "  'precision', 'predicted', average, warn_for)\n",
      "/anaconda3/lib/python3.6/site-packages/sklearn/metrics/classification.py:1135: UndefinedMetricWarning: Precision is ill-defined and being set to 0.0 in labels with no predicted samples.\n",
      "  'precision', 'predicted', average, warn_for)\n",
      "/anaconda3/lib/python3.6/site-packages/sklearn/metrics/classification.py:1135: UndefinedMetricWarning: Precision is ill-defined and being set to 0.0 in labels with no predicted samples.\n",
      "  'precision', 'predicted', average, warn_for)\n",
      "/anaconda3/lib/python3.6/site-packages/sklearn/metrics/classification.py:1135: UndefinedMetricWarning: Precision is ill-defined and being set to 0.0 in labels with no predicted samples.\n",
      "  'precision', 'predicted', average, warn_for)\n",
      "/anaconda3/lib/python3.6/site-packages/sklearn/metrics/classification.py:1135: UndefinedMetricWarning: Precision is ill-defined and being set to 0.0 in labels with no predicted samples.\n",
      "  'precision', 'predicted', average, warn_for)\n",
      "/anaconda3/lib/python3.6/site-packages/sklearn/metrics/classification.py:1135: UndefinedMetricWarning: Precision is ill-defined and being set to 0.0 in labels with no predicted samples.\n",
      "  'precision', 'predicted', average, warn_for)\n",
      "/anaconda3/lib/python3.6/site-packages/sklearn/metrics/classification.py:1135: UndefinedMetricWarning: Precision is ill-defined and being set to 0.0 in labels with no predicted samples.\n",
      "  'precision', 'predicted', average, warn_for)\n",
      "/anaconda3/lib/python3.6/site-packages/sklearn/metrics/classification.py:1135: UndefinedMetricWarning: Precision is ill-defined and being set to 0.0 in labels with no predicted samples.\n",
      "  'precision', 'predicted', average, warn_for)\n",
      "/anaconda3/lib/python3.6/site-packages/sklearn/metrics/classification.py:1135: UndefinedMetricWarning: Precision is ill-defined and being set to 0.0 in labels with no predicted samples.\n",
      "  'precision', 'predicted', average, warn_for)\n",
      "/anaconda3/lib/python3.6/site-packages/sklearn/metrics/classification.py:1135: UndefinedMetricWarning: Precision is ill-defined and being set to 0.0 in labels with no predicted samples.\n",
      "  'precision', 'predicted', average, warn_for)\n"
     ]
    },
    {
     "name": "stdout",
     "output_type": "stream",
     "text": [
      "CHW Gradient Boosting Hyperparameter Tuning Results:\n",
      " Best parameters: {'subsample': 0.9, 'n_estimators': 10, 'min_samples_split': 0.24545454545454548, 'min_samples_leaf': 0.1, 'max_features': 'sqrt', 'max_depth': 3, 'loss': 'deviance', 'learning_rate': 0.075, 'criterion': 'mae'} \n",
      " Best score: 0.9461832318975325 \n",
      " Best estimator: GradientBoostingClassifier(criterion='mae', init=None, learning_rate=0.075,\n",
      "              loss='deviance', max_depth=3, max_features='sqrt',\n",
      "              max_leaf_nodes=None, min_impurity_decrease=0.0,\n",
      "              min_impurity_split=None, min_samples_leaf=0.1,\n",
      "              min_samples_split=0.24545454545454548,\n",
      "              min_weight_fraction_leaf=0.0, n_estimators=10,\n",
      "              presort='auto', random_state=None, subsample=0.9, verbose=0,\n",
      "              warm_start=False) \n",
      "\n"
     ]
    }
   ],
   "source": [
    "chw_m10_RS.fit(X_chw_train, Y_chw_train)\n",
    "\n",
    "print(\"CHW Gradient Boosting Hyperparameter Tuning Results:\\n\", \n",
    "      'Best parameters:', chw_m10_RS.best_params_, '\\n',\n",
    "      'Best score:', chw_m10_RS.best_score_, '\\n',\n",
    "      'Best estimator:', chw_m10_RS.best_estimator_, '\\n')"
   ]
  },
  {
   "cell_type": "code",
   "execution_count": 37,
   "metadata": {
    "scrolled": true
   },
   "outputs": [
    {
     "name": "stderr",
     "output_type": "stream",
     "text": [
      "/anaconda3/lib/python3.6/site-packages/sklearn/metrics/classification.py:1135: UndefinedMetricWarning: Precision is ill-defined and being set to 0.0 in labels with no predicted samples.\n",
      "  'precision', 'predicted', average, warn_for)\n",
      "/anaconda3/lib/python3.6/site-packages/sklearn/metrics/classification.py:1135: UndefinedMetricWarning: Precision is ill-defined and being set to 0.0 in labels with no predicted samples.\n",
      "  'precision', 'predicted', average, warn_for)\n",
      "/anaconda3/lib/python3.6/site-packages/sklearn/metrics/classification.py:1135: UndefinedMetricWarning: Precision is ill-defined and being set to 0.0 in labels with no predicted samples.\n",
      "  'precision', 'predicted', average, warn_for)\n",
      "/anaconda3/lib/python3.6/site-packages/sklearn/metrics/classification.py:1135: UndefinedMetricWarning: Precision is ill-defined and being set to 0.0 in labels with no predicted samples.\n",
      "  'precision', 'predicted', average, warn_for)\n",
      "/anaconda3/lib/python3.6/site-packages/sklearn/metrics/classification.py:1135: UndefinedMetricWarning: Precision is ill-defined and being set to 0.0 in labels with no predicted samples.\n",
      "  'precision', 'predicted', average, warn_for)\n",
      "/anaconda3/lib/python3.6/site-packages/sklearn/metrics/classification.py:1135: UndefinedMetricWarning: Precision is ill-defined and being set to 0.0 in labels with no predicted samples.\n",
      "  'precision', 'predicted', average, warn_for)\n",
      "/anaconda3/lib/python3.6/site-packages/sklearn/metrics/classification.py:1135: UndefinedMetricWarning: Precision is ill-defined and being set to 0.0 in labels with no predicted samples.\n",
      "  'precision', 'predicted', average, warn_for)\n",
      "/anaconda3/lib/python3.6/site-packages/sklearn/metrics/classification.py:1135: UndefinedMetricWarning: Precision is ill-defined and being set to 0.0 in labels with no predicted samples.\n",
      "  'precision', 'predicted', average, warn_for)\n",
      "/anaconda3/lib/python3.6/site-packages/sklearn/metrics/classification.py:1135: UndefinedMetricWarning: Precision is ill-defined and being set to 0.0 in labels with no predicted samples.\n",
      "  'precision', 'predicted', average, warn_for)\n",
      "/anaconda3/lib/python3.6/site-packages/sklearn/metrics/classification.py:1135: UndefinedMetricWarning: Precision is ill-defined and being set to 0.0 in labels with no predicted samples.\n",
      "  'precision', 'predicted', average, warn_for)\n",
      "/anaconda3/lib/python3.6/site-packages/sklearn/metrics/classification.py:1135: UndefinedMetricWarning: Precision is ill-defined and being set to 0.0 in labels with no predicted samples.\n",
      "  'precision', 'predicted', average, warn_for)\n",
      "/anaconda3/lib/python3.6/site-packages/sklearn/metrics/classification.py:1135: UndefinedMetricWarning: Precision is ill-defined and being set to 0.0 in labels with no predicted samples.\n",
      "  'precision', 'predicted', average, warn_for)\n",
      "/anaconda3/lib/python3.6/site-packages/sklearn/metrics/classification.py:1135: UndefinedMetricWarning: Precision is ill-defined and being set to 0.0 in labels with no predicted samples.\n",
      "  'precision', 'predicted', average, warn_for)\n",
      "/anaconda3/lib/python3.6/site-packages/sklearn/metrics/classification.py:1135: UndefinedMetricWarning: Precision is ill-defined and being set to 0.0 in labels with no predicted samples.\n",
      "  'precision', 'predicted', average, warn_for)\n",
      "/anaconda3/lib/python3.6/site-packages/sklearn/metrics/classification.py:1135: UndefinedMetricWarning: Precision is ill-defined and being set to 0.0 in labels with no predicted samples.\n",
      "  'precision', 'predicted', average, warn_for)\n",
      "/anaconda3/lib/python3.6/site-packages/sklearn/metrics/classification.py:1135: UndefinedMetricWarning: Precision is ill-defined and being set to 0.0 in labels with no predicted samples.\n",
      "  'precision', 'predicted', average, warn_for)\n",
      "/anaconda3/lib/python3.6/site-packages/sklearn/metrics/classification.py:1135: UndefinedMetricWarning: Precision is ill-defined and being set to 0.0 in labels with no predicted samples.\n",
      "  'precision', 'predicted', average, warn_for)\n",
      "/anaconda3/lib/python3.6/site-packages/sklearn/metrics/classification.py:1135: UndefinedMetricWarning: Precision is ill-defined and being set to 0.0 in labels with no predicted samples.\n",
      "  'precision', 'predicted', average, warn_for)\n",
      "/anaconda3/lib/python3.6/site-packages/sklearn/metrics/classification.py:1135: UndefinedMetricWarning: Precision is ill-defined and being set to 0.0 in labels with no predicted samples.\n",
      "  'precision', 'predicted', average, warn_for)\n",
      "/anaconda3/lib/python3.6/site-packages/sklearn/metrics/classification.py:1135: UndefinedMetricWarning: Precision is ill-defined and being set to 0.0 in labels with no predicted samples.\n",
      "  'precision', 'predicted', average, warn_for)\n",
      "/anaconda3/lib/python3.6/site-packages/sklearn/metrics/classification.py:1135: UndefinedMetricWarning: Precision is ill-defined and being set to 0.0 in labels with no predicted samples.\n",
      "  'precision', 'predicted', average, warn_for)\n",
      "/anaconda3/lib/python3.6/site-packages/sklearn/metrics/classification.py:1135: UndefinedMetricWarning: Precision is ill-defined and being set to 0.0 in labels with no predicted samples.\n",
      "  'precision', 'predicted', average, warn_for)\n",
      "/anaconda3/lib/python3.6/site-packages/sklearn/metrics/classification.py:1135: UndefinedMetricWarning: Precision is ill-defined and being set to 0.0 in labels with no predicted samples.\n",
      "  'precision', 'predicted', average, warn_for)\n",
      "/anaconda3/lib/python3.6/site-packages/sklearn/metrics/classification.py:1135: UndefinedMetricWarning: Precision is ill-defined and being set to 0.0 in labels with no predicted samples.\n",
      "  'precision', 'predicted', average, warn_for)\n",
      "/anaconda3/lib/python3.6/site-packages/sklearn/metrics/classification.py:1135: UndefinedMetricWarning: Precision is ill-defined and being set to 0.0 in labels with no predicted samples.\n",
      "  'precision', 'predicted', average, warn_for)\n",
      "/anaconda3/lib/python3.6/site-packages/sklearn/metrics/classification.py:1135: UndefinedMetricWarning: Precision is ill-defined and being set to 0.0 in labels with no predicted samples.\n",
      "  'precision', 'predicted', average, warn_for)\n",
      "/anaconda3/lib/python3.6/site-packages/sklearn/metrics/classification.py:1135: UndefinedMetricWarning: Precision is ill-defined and being set to 0.0 in labels with no predicted samples.\n",
      "  'precision', 'predicted', average, warn_for)\n",
      "/anaconda3/lib/python3.6/site-packages/sklearn/metrics/classification.py:1135: UndefinedMetricWarning: Precision is ill-defined and being set to 0.0 in labels with no predicted samples.\n",
      "  'precision', 'predicted', average, warn_for)\n",
      "/anaconda3/lib/python3.6/site-packages/sklearn/metrics/classification.py:1135: UndefinedMetricWarning: Precision is ill-defined and being set to 0.0 in labels with no predicted samples.\n",
      "  'precision', 'predicted', average, warn_for)\n",
      "/anaconda3/lib/python3.6/site-packages/sklearn/metrics/classification.py:1135: UndefinedMetricWarning: Precision is ill-defined and being set to 0.0 in labels with no predicted samples.\n",
      "  'precision', 'predicted', average, warn_for)\n"
     ]
    },
    {
     "ename": "KeyboardInterrupt",
     "evalue": "",
     "output_type": "error",
     "traceback": [
      "\u001b[0;31m---------------------------------------------------------------------------\u001b[0m",
      "\u001b[0;31mKeyboardInterrupt\u001b[0m                         Traceback (most recent call last)",
      "\u001b[0;32m<ipython-input-37-b3cd04287662>\u001b[0m in \u001b[0;36m<module>\u001b[0;34m()\u001b[0m\n\u001b[0;32m----> 1\u001b[0;31m \u001b[0mstm_m10_RS\u001b[0m\u001b[0;34m.\u001b[0m\u001b[0mfit\u001b[0m\u001b[0;34m(\u001b[0m\u001b[0mX_stm_train\u001b[0m\u001b[0;34m,\u001b[0m \u001b[0mY_stm_train\u001b[0m\u001b[0;34m)\u001b[0m\u001b[0;34m\u001b[0m\u001b[0m\n\u001b[0m\u001b[1;32m      2\u001b[0m \u001b[0;34m\u001b[0m\u001b[0m\n\u001b[1;32m      3\u001b[0m print(\"STM Gradient Boosting Hyperparameter Tuning Results:\\n\", \n\u001b[1;32m      4\u001b[0m       \u001b[0;34m'Best parameters:'\u001b[0m\u001b[0;34m,\u001b[0m \u001b[0mstm_m10_RS\u001b[0m\u001b[0;34m.\u001b[0m\u001b[0mbest_params_\u001b[0m\u001b[0;34m,\u001b[0m \u001b[0;34m'\\n'\u001b[0m\u001b[0;34m,\u001b[0m\u001b[0;34m\u001b[0m\u001b[0m\n\u001b[1;32m      5\u001b[0m       \u001b[0;34m'Best score:'\u001b[0m\u001b[0;34m,\u001b[0m \u001b[0mstm_m10_RS\u001b[0m\u001b[0;34m.\u001b[0m\u001b[0mbest_score_\u001b[0m\u001b[0;34m,\u001b[0m \u001b[0;34m'\\n'\u001b[0m\u001b[0;34m,\u001b[0m\u001b[0;34m\u001b[0m\u001b[0m\n",
      "\u001b[0;32m/anaconda3/lib/python3.6/site-packages/sklearn/grid_search.py\u001b[0m in \u001b[0;36mfit\u001b[0;34m(self, X, y)\u001b[0m\n\u001b[1;32m   1044\u001b[0m                                           \u001b[0mself\u001b[0m\u001b[0;34m.\u001b[0m\u001b[0mn_iter\u001b[0m\u001b[0;34m,\u001b[0m\u001b[0;34m\u001b[0m\u001b[0m\n\u001b[1;32m   1045\u001b[0m                                           random_state=self.random_state)\n\u001b[0;32m-> 1046\u001b[0;31m         \u001b[0;32mreturn\u001b[0m \u001b[0mself\u001b[0m\u001b[0;34m.\u001b[0m\u001b[0m_fit\u001b[0m\u001b[0;34m(\u001b[0m\u001b[0mX\u001b[0m\u001b[0;34m,\u001b[0m \u001b[0my\u001b[0m\u001b[0;34m,\u001b[0m \u001b[0msampled_params\u001b[0m\u001b[0;34m)\u001b[0m\u001b[0;34m\u001b[0m\u001b[0m\n\u001b[0m",
      "\u001b[0;32m/anaconda3/lib/python3.6/site-packages/sklearn/grid_search.py\u001b[0m in \u001b[0;36m_fit\u001b[0;34m(self, X, y, parameter_iterable)\u001b[0m\n\u001b[1;32m    572\u001b[0m                                     \u001b[0mself\u001b[0m\u001b[0;34m.\u001b[0m\u001b[0mfit_params\u001b[0m\u001b[0;34m,\u001b[0m \u001b[0mreturn_parameters\u001b[0m\u001b[0;34m=\u001b[0m\u001b[0;32mTrue\u001b[0m\u001b[0;34m,\u001b[0m\u001b[0;34m\u001b[0m\u001b[0m\n\u001b[1;32m    573\u001b[0m                                     error_score=self.error_score)\n\u001b[0;32m--> 574\u001b[0;31m                 \u001b[0;32mfor\u001b[0m \u001b[0mparameters\u001b[0m \u001b[0;32min\u001b[0m \u001b[0mparameter_iterable\u001b[0m\u001b[0;34m\u001b[0m\u001b[0m\n\u001b[0m\u001b[1;32m    575\u001b[0m                 for train, test in cv)\n\u001b[1;32m    576\u001b[0m \u001b[0;34m\u001b[0m\u001b[0m\n",
      "\u001b[0;32m/anaconda3/lib/python3.6/site-packages/sklearn/externals/joblib/parallel.py\u001b[0m in \u001b[0;36m__call__\u001b[0;34m(self, iterable)\u001b[0m\n\u001b[1;32m    777\u001b[0m             \u001b[0;31m# was dispatched. In particular this covers the edge\u001b[0m\u001b[0;34m\u001b[0m\u001b[0;34m\u001b[0m\u001b[0m\n\u001b[1;32m    778\u001b[0m             \u001b[0;31m# case of Parallel used with an exhausted iterator.\u001b[0m\u001b[0;34m\u001b[0m\u001b[0;34m\u001b[0m\u001b[0m\n\u001b[0;32m--> 779\u001b[0;31m             \u001b[0;32mwhile\u001b[0m \u001b[0mself\u001b[0m\u001b[0;34m.\u001b[0m\u001b[0mdispatch_one_batch\u001b[0m\u001b[0;34m(\u001b[0m\u001b[0miterator\u001b[0m\u001b[0;34m)\u001b[0m\u001b[0;34m:\u001b[0m\u001b[0;34m\u001b[0m\u001b[0m\n\u001b[0m\u001b[1;32m    780\u001b[0m                 \u001b[0mself\u001b[0m\u001b[0;34m.\u001b[0m\u001b[0m_iterating\u001b[0m \u001b[0;34m=\u001b[0m \u001b[0;32mTrue\u001b[0m\u001b[0;34m\u001b[0m\u001b[0m\n\u001b[1;32m    781\u001b[0m             \u001b[0;32melse\u001b[0m\u001b[0;34m:\u001b[0m\u001b[0;34m\u001b[0m\u001b[0m\n",
      "\u001b[0;32m/anaconda3/lib/python3.6/site-packages/sklearn/externals/joblib/parallel.py\u001b[0m in \u001b[0;36mdispatch_one_batch\u001b[0;34m(self, iterator)\u001b[0m\n\u001b[1;32m    623\u001b[0m                 \u001b[0;32mreturn\u001b[0m \u001b[0;32mFalse\u001b[0m\u001b[0;34m\u001b[0m\u001b[0m\n\u001b[1;32m    624\u001b[0m             \u001b[0;32melse\u001b[0m\u001b[0;34m:\u001b[0m\u001b[0;34m\u001b[0m\u001b[0m\n\u001b[0;32m--> 625\u001b[0;31m                 \u001b[0mself\u001b[0m\u001b[0;34m.\u001b[0m\u001b[0m_dispatch\u001b[0m\u001b[0;34m(\u001b[0m\u001b[0mtasks\u001b[0m\u001b[0;34m)\u001b[0m\u001b[0;34m\u001b[0m\u001b[0m\n\u001b[0m\u001b[1;32m    626\u001b[0m                 \u001b[0;32mreturn\u001b[0m \u001b[0;32mTrue\u001b[0m\u001b[0;34m\u001b[0m\u001b[0m\n\u001b[1;32m    627\u001b[0m \u001b[0;34m\u001b[0m\u001b[0m\n",
      "\u001b[0;32m/anaconda3/lib/python3.6/site-packages/sklearn/externals/joblib/parallel.py\u001b[0m in \u001b[0;36m_dispatch\u001b[0;34m(self, batch)\u001b[0m\n\u001b[1;32m    586\u001b[0m         \u001b[0mdispatch_timestamp\u001b[0m \u001b[0;34m=\u001b[0m \u001b[0mtime\u001b[0m\u001b[0;34m.\u001b[0m\u001b[0mtime\u001b[0m\u001b[0;34m(\u001b[0m\u001b[0;34m)\u001b[0m\u001b[0;34m\u001b[0m\u001b[0m\n\u001b[1;32m    587\u001b[0m         \u001b[0mcb\u001b[0m \u001b[0;34m=\u001b[0m \u001b[0mBatchCompletionCallBack\u001b[0m\u001b[0;34m(\u001b[0m\u001b[0mdispatch_timestamp\u001b[0m\u001b[0;34m,\u001b[0m \u001b[0mlen\u001b[0m\u001b[0;34m(\u001b[0m\u001b[0mbatch\u001b[0m\u001b[0;34m)\u001b[0m\u001b[0;34m,\u001b[0m \u001b[0mself\u001b[0m\u001b[0;34m)\u001b[0m\u001b[0;34m\u001b[0m\u001b[0m\n\u001b[0;32m--> 588\u001b[0;31m         \u001b[0mjob\u001b[0m \u001b[0;34m=\u001b[0m \u001b[0mself\u001b[0m\u001b[0;34m.\u001b[0m\u001b[0m_backend\u001b[0m\u001b[0;34m.\u001b[0m\u001b[0mapply_async\u001b[0m\u001b[0;34m(\u001b[0m\u001b[0mbatch\u001b[0m\u001b[0;34m,\u001b[0m \u001b[0mcallback\u001b[0m\u001b[0;34m=\u001b[0m\u001b[0mcb\u001b[0m\u001b[0;34m)\u001b[0m\u001b[0;34m\u001b[0m\u001b[0m\n\u001b[0m\u001b[1;32m    589\u001b[0m         \u001b[0mself\u001b[0m\u001b[0;34m.\u001b[0m\u001b[0m_jobs\u001b[0m\u001b[0;34m.\u001b[0m\u001b[0mappend\u001b[0m\u001b[0;34m(\u001b[0m\u001b[0mjob\u001b[0m\u001b[0;34m)\u001b[0m\u001b[0;34m\u001b[0m\u001b[0m\n\u001b[1;32m    590\u001b[0m \u001b[0;34m\u001b[0m\u001b[0m\n",
      "\u001b[0;32m/anaconda3/lib/python3.6/site-packages/sklearn/externals/joblib/_parallel_backends.py\u001b[0m in \u001b[0;36mapply_async\u001b[0;34m(self, func, callback)\u001b[0m\n\u001b[1;32m    109\u001b[0m     \u001b[0;32mdef\u001b[0m \u001b[0mapply_async\u001b[0m\u001b[0;34m(\u001b[0m\u001b[0mself\u001b[0m\u001b[0;34m,\u001b[0m \u001b[0mfunc\u001b[0m\u001b[0;34m,\u001b[0m \u001b[0mcallback\u001b[0m\u001b[0;34m=\u001b[0m\u001b[0;32mNone\u001b[0m\u001b[0;34m)\u001b[0m\u001b[0;34m:\u001b[0m\u001b[0;34m\u001b[0m\u001b[0m\n\u001b[1;32m    110\u001b[0m         \u001b[0;34m\"\"\"Schedule a func to be run\"\"\"\u001b[0m\u001b[0;34m\u001b[0m\u001b[0m\n\u001b[0;32m--> 111\u001b[0;31m         \u001b[0mresult\u001b[0m \u001b[0;34m=\u001b[0m \u001b[0mImmediateResult\u001b[0m\u001b[0;34m(\u001b[0m\u001b[0mfunc\u001b[0m\u001b[0;34m)\u001b[0m\u001b[0;34m\u001b[0m\u001b[0m\n\u001b[0m\u001b[1;32m    112\u001b[0m         \u001b[0;32mif\u001b[0m \u001b[0mcallback\u001b[0m\u001b[0;34m:\u001b[0m\u001b[0;34m\u001b[0m\u001b[0m\n\u001b[1;32m    113\u001b[0m             \u001b[0mcallback\u001b[0m\u001b[0;34m(\u001b[0m\u001b[0mresult\u001b[0m\u001b[0;34m)\u001b[0m\u001b[0;34m\u001b[0m\u001b[0m\n",
      "\u001b[0;32m/anaconda3/lib/python3.6/site-packages/sklearn/externals/joblib/_parallel_backends.py\u001b[0m in \u001b[0;36m__init__\u001b[0;34m(self, batch)\u001b[0m\n\u001b[1;32m    330\u001b[0m         \u001b[0;31m# Don't delay the application, to avoid keeping the input\u001b[0m\u001b[0;34m\u001b[0m\u001b[0;34m\u001b[0m\u001b[0m\n\u001b[1;32m    331\u001b[0m         \u001b[0;31m# arguments in memory\u001b[0m\u001b[0;34m\u001b[0m\u001b[0;34m\u001b[0m\u001b[0m\n\u001b[0;32m--> 332\u001b[0;31m         \u001b[0mself\u001b[0m\u001b[0;34m.\u001b[0m\u001b[0mresults\u001b[0m \u001b[0;34m=\u001b[0m \u001b[0mbatch\u001b[0m\u001b[0;34m(\u001b[0m\u001b[0;34m)\u001b[0m\u001b[0;34m\u001b[0m\u001b[0m\n\u001b[0m\u001b[1;32m    333\u001b[0m \u001b[0;34m\u001b[0m\u001b[0m\n\u001b[1;32m    334\u001b[0m     \u001b[0;32mdef\u001b[0m \u001b[0mget\u001b[0m\u001b[0;34m(\u001b[0m\u001b[0mself\u001b[0m\u001b[0;34m)\u001b[0m\u001b[0;34m:\u001b[0m\u001b[0;34m\u001b[0m\u001b[0m\n",
      "\u001b[0;32m/anaconda3/lib/python3.6/site-packages/sklearn/externals/joblib/parallel.py\u001b[0m in \u001b[0;36m__call__\u001b[0;34m(self)\u001b[0m\n\u001b[1;32m    129\u001b[0m \u001b[0;34m\u001b[0m\u001b[0m\n\u001b[1;32m    130\u001b[0m     \u001b[0;32mdef\u001b[0m \u001b[0m__call__\u001b[0m\u001b[0;34m(\u001b[0m\u001b[0mself\u001b[0m\u001b[0;34m)\u001b[0m\u001b[0;34m:\u001b[0m\u001b[0;34m\u001b[0m\u001b[0m\n\u001b[0;32m--> 131\u001b[0;31m         \u001b[0;32mreturn\u001b[0m \u001b[0;34m[\u001b[0m\u001b[0mfunc\u001b[0m\u001b[0;34m(\u001b[0m\u001b[0;34m*\u001b[0m\u001b[0margs\u001b[0m\u001b[0;34m,\u001b[0m \u001b[0;34m**\u001b[0m\u001b[0mkwargs\u001b[0m\u001b[0;34m)\u001b[0m \u001b[0;32mfor\u001b[0m \u001b[0mfunc\u001b[0m\u001b[0;34m,\u001b[0m \u001b[0margs\u001b[0m\u001b[0;34m,\u001b[0m \u001b[0mkwargs\u001b[0m \u001b[0;32min\u001b[0m \u001b[0mself\u001b[0m\u001b[0;34m.\u001b[0m\u001b[0mitems\u001b[0m\u001b[0;34m]\u001b[0m\u001b[0;34m\u001b[0m\u001b[0m\n\u001b[0m\u001b[1;32m    132\u001b[0m \u001b[0;34m\u001b[0m\u001b[0m\n\u001b[1;32m    133\u001b[0m     \u001b[0;32mdef\u001b[0m \u001b[0m__len__\u001b[0m\u001b[0;34m(\u001b[0m\u001b[0mself\u001b[0m\u001b[0;34m)\u001b[0m\u001b[0;34m:\u001b[0m\u001b[0;34m\u001b[0m\u001b[0m\n",
      "\u001b[0;32m/anaconda3/lib/python3.6/site-packages/sklearn/externals/joblib/parallel.py\u001b[0m in \u001b[0;36m<listcomp>\u001b[0;34m(.0)\u001b[0m\n\u001b[1;32m    129\u001b[0m \u001b[0;34m\u001b[0m\u001b[0m\n\u001b[1;32m    130\u001b[0m     \u001b[0;32mdef\u001b[0m \u001b[0m__call__\u001b[0m\u001b[0;34m(\u001b[0m\u001b[0mself\u001b[0m\u001b[0;34m)\u001b[0m\u001b[0;34m:\u001b[0m\u001b[0;34m\u001b[0m\u001b[0m\n\u001b[0;32m--> 131\u001b[0;31m         \u001b[0;32mreturn\u001b[0m \u001b[0;34m[\u001b[0m\u001b[0mfunc\u001b[0m\u001b[0;34m(\u001b[0m\u001b[0;34m*\u001b[0m\u001b[0margs\u001b[0m\u001b[0;34m,\u001b[0m \u001b[0;34m**\u001b[0m\u001b[0mkwargs\u001b[0m\u001b[0;34m)\u001b[0m \u001b[0;32mfor\u001b[0m \u001b[0mfunc\u001b[0m\u001b[0;34m,\u001b[0m \u001b[0margs\u001b[0m\u001b[0;34m,\u001b[0m \u001b[0mkwargs\u001b[0m \u001b[0;32min\u001b[0m \u001b[0mself\u001b[0m\u001b[0;34m.\u001b[0m\u001b[0mitems\u001b[0m\u001b[0;34m]\u001b[0m\u001b[0;34m\u001b[0m\u001b[0m\n\u001b[0m\u001b[1;32m    132\u001b[0m \u001b[0;34m\u001b[0m\u001b[0m\n\u001b[1;32m    133\u001b[0m     \u001b[0;32mdef\u001b[0m \u001b[0m__len__\u001b[0m\u001b[0;34m(\u001b[0m\u001b[0mself\u001b[0m\u001b[0;34m)\u001b[0m\u001b[0;34m:\u001b[0m\u001b[0;34m\u001b[0m\u001b[0m\n",
      "\u001b[0;32m/anaconda3/lib/python3.6/site-packages/sklearn/cross_validation.py\u001b[0m in \u001b[0;36m_fit_and_score\u001b[0;34m(estimator, X, y, scorer, train, test, verbose, parameters, fit_params, return_train_score, return_parameters, error_score)\u001b[0m\n\u001b[1;32m   1673\u001b[0m             \u001b[0mestimator\u001b[0m\u001b[0;34m.\u001b[0m\u001b[0mfit\u001b[0m\u001b[0;34m(\u001b[0m\u001b[0mX_train\u001b[0m\u001b[0;34m,\u001b[0m \u001b[0;34m**\u001b[0m\u001b[0mfit_params\u001b[0m\u001b[0;34m)\u001b[0m\u001b[0;34m\u001b[0m\u001b[0m\n\u001b[1;32m   1674\u001b[0m         \u001b[0;32melse\u001b[0m\u001b[0;34m:\u001b[0m\u001b[0;34m\u001b[0m\u001b[0m\n\u001b[0;32m-> 1675\u001b[0;31m             \u001b[0mestimator\u001b[0m\u001b[0;34m.\u001b[0m\u001b[0mfit\u001b[0m\u001b[0;34m(\u001b[0m\u001b[0mX_train\u001b[0m\u001b[0;34m,\u001b[0m \u001b[0my_train\u001b[0m\u001b[0;34m,\u001b[0m \u001b[0;34m**\u001b[0m\u001b[0mfit_params\u001b[0m\u001b[0;34m)\u001b[0m\u001b[0;34m\u001b[0m\u001b[0m\n\u001b[0m\u001b[1;32m   1676\u001b[0m \u001b[0;34m\u001b[0m\u001b[0m\n\u001b[1;32m   1677\u001b[0m     \u001b[0;32mexcept\u001b[0m \u001b[0mException\u001b[0m \u001b[0;32mas\u001b[0m \u001b[0me\u001b[0m\u001b[0;34m:\u001b[0m\u001b[0;34m\u001b[0m\u001b[0m\n",
      "\u001b[0;32m/anaconda3/lib/python3.6/site-packages/sklearn/ensemble/gradient_boosting.py\u001b[0m in \u001b[0;36mfit\u001b[0;34m(self, X, y, sample_weight, monitor)\u001b[0m\n\u001b[1;32m   1032\u001b[0m         \u001b[0;31m# fit the boosting stages\u001b[0m\u001b[0;34m\u001b[0m\u001b[0;34m\u001b[0m\u001b[0m\n\u001b[1;32m   1033\u001b[0m         n_stages = self._fit_stages(X, y, y_pred, sample_weight, random_state,\n\u001b[0;32m-> 1034\u001b[0;31m                                     begin_at_stage, monitor, X_idx_sorted)\n\u001b[0m\u001b[1;32m   1035\u001b[0m         \u001b[0;31m# change shape of arrays after fit (early-stopping or additional ests)\u001b[0m\u001b[0;34m\u001b[0m\u001b[0;34m\u001b[0m\u001b[0m\n\u001b[1;32m   1036\u001b[0m         \u001b[0;32mif\u001b[0m \u001b[0mn_stages\u001b[0m \u001b[0;34m!=\u001b[0m \u001b[0mself\u001b[0m\u001b[0;34m.\u001b[0m\u001b[0mestimators_\u001b[0m\u001b[0;34m.\u001b[0m\u001b[0mshape\u001b[0m\u001b[0;34m[\u001b[0m\u001b[0;36m0\u001b[0m\u001b[0;34m]\u001b[0m\u001b[0;34m:\u001b[0m\u001b[0;34m\u001b[0m\u001b[0m\n",
      "\u001b[0;32m/anaconda3/lib/python3.6/site-packages/sklearn/ensemble/gradient_boosting.py\u001b[0m in \u001b[0;36m_fit_stages\u001b[0;34m(self, X, y, y_pred, sample_weight, random_state, begin_at_stage, monitor, X_idx_sorted)\u001b[0m\n\u001b[1;32m   1087\u001b[0m             y_pred = self._fit_stage(i, X, y, y_pred, sample_weight,\n\u001b[1;32m   1088\u001b[0m                                      \u001b[0msample_mask\u001b[0m\u001b[0;34m,\u001b[0m \u001b[0mrandom_state\u001b[0m\u001b[0;34m,\u001b[0m \u001b[0mX_idx_sorted\u001b[0m\u001b[0;34m,\u001b[0m\u001b[0;34m\u001b[0m\u001b[0m\n\u001b[0;32m-> 1089\u001b[0;31m                                      X_csc, X_csr)\n\u001b[0m\u001b[1;32m   1090\u001b[0m \u001b[0;34m\u001b[0m\u001b[0m\n\u001b[1;32m   1091\u001b[0m             \u001b[0;31m# track deviance (= loss)\u001b[0m\u001b[0;34m\u001b[0m\u001b[0;34m\u001b[0m\u001b[0m\n",
      "\u001b[0;32m/anaconda3/lib/python3.6/site-packages/sklearn/ensemble/gradient_boosting.py\u001b[0m in \u001b[0;36m_fit_stage\u001b[0;34m(self, i, X, y, y_pred, sample_weight, sample_mask, random_state, X_idx_sorted, X_csc, X_csr)\u001b[0m\n\u001b[1;32m    786\u001b[0m             \u001b[0;32melse\u001b[0m\u001b[0;34m:\u001b[0m\u001b[0;34m\u001b[0m\u001b[0m\n\u001b[1;32m    787\u001b[0m                 tree.fit(X, residual, sample_weight=sample_weight,\n\u001b[0;32m--> 788\u001b[0;31m                          check_input=False, X_idx_sorted=X_idx_sorted)\n\u001b[0m\u001b[1;32m    789\u001b[0m \u001b[0;34m\u001b[0m\u001b[0m\n\u001b[1;32m    790\u001b[0m             \u001b[0;31m# update tree leaves\u001b[0m\u001b[0;34m\u001b[0m\u001b[0;34m\u001b[0m\u001b[0m\n",
      "\u001b[0;32m/anaconda3/lib/python3.6/site-packages/sklearn/tree/tree.py\u001b[0m in \u001b[0;36mfit\u001b[0;34m(self, X, y, sample_weight, check_input, X_idx_sorted)\u001b[0m\n\u001b[1;32m   1122\u001b[0m             \u001b[0msample_weight\u001b[0m\u001b[0;34m=\u001b[0m\u001b[0msample_weight\u001b[0m\u001b[0;34m,\u001b[0m\u001b[0;34m\u001b[0m\u001b[0m\n\u001b[1;32m   1123\u001b[0m             \u001b[0mcheck_input\u001b[0m\u001b[0;34m=\u001b[0m\u001b[0mcheck_input\u001b[0m\u001b[0;34m,\u001b[0m\u001b[0;34m\u001b[0m\u001b[0m\n\u001b[0;32m-> 1124\u001b[0;31m             X_idx_sorted=X_idx_sorted)\n\u001b[0m\u001b[1;32m   1125\u001b[0m         \u001b[0;32mreturn\u001b[0m \u001b[0mself\u001b[0m\u001b[0;34m\u001b[0m\u001b[0m\n\u001b[1;32m   1126\u001b[0m \u001b[0;34m\u001b[0m\u001b[0m\n",
      "\u001b[0;32m/anaconda3/lib/python3.6/site-packages/sklearn/tree/tree.py\u001b[0m in \u001b[0;36mfit\u001b[0;34m(self, X, y, sample_weight, check_input, X_idx_sorted)\u001b[0m\n\u001b[1;32m    360\u001b[0m                                            min_impurity_split)\n\u001b[1;32m    361\u001b[0m \u001b[0;34m\u001b[0m\u001b[0m\n\u001b[0;32m--> 362\u001b[0;31m         \u001b[0mbuilder\u001b[0m\u001b[0;34m.\u001b[0m\u001b[0mbuild\u001b[0m\u001b[0;34m(\u001b[0m\u001b[0mself\u001b[0m\u001b[0;34m.\u001b[0m\u001b[0mtree_\u001b[0m\u001b[0;34m,\u001b[0m \u001b[0mX\u001b[0m\u001b[0;34m,\u001b[0m \u001b[0my\u001b[0m\u001b[0;34m,\u001b[0m \u001b[0msample_weight\u001b[0m\u001b[0;34m,\u001b[0m \u001b[0mX_idx_sorted\u001b[0m\u001b[0;34m)\u001b[0m\u001b[0;34m\u001b[0m\u001b[0m\n\u001b[0m\u001b[1;32m    363\u001b[0m \u001b[0;34m\u001b[0m\u001b[0m\n\u001b[1;32m    364\u001b[0m         \u001b[0;32mif\u001b[0m \u001b[0mself\u001b[0m\u001b[0;34m.\u001b[0m\u001b[0mn_outputs_\u001b[0m \u001b[0;34m==\u001b[0m \u001b[0;36m1\u001b[0m\u001b[0;34m:\u001b[0m\u001b[0;34m\u001b[0m\u001b[0m\n",
      "\u001b[0;31mKeyboardInterrupt\u001b[0m: "
     ]
    }
   ],
   "source": [
    "stm_m10_RS.fit(X_stm_train, Y_stm_train)\n",
    "\n",
    "print(\"STM Gradient Boosting Hyperparameter Tuning Results:\\n\", \n",
    "      'Best parameters:', stm_m10_RS.best_params_, '\\n',\n",
    "      'Best score:', stm_m10_RS.best_score_, '\\n',\n",
    "      'Best estimator:', stm_m10_RS.best_estimator_, '\\n')"
   ]
  },
  {
   "cell_type": "code",
   "execution_count": null,
   "metadata": {},
   "outputs": [],
   "source": [
    "plt.scatter(chw_m10_RS.cv_results_['mean_test_score'])\n",
    "plt.scatter(stm_m10_RS.cv_results_['mean_test_score'], color = 'red')\n",
    "plt.title(\"Gradient Boosting Grid Search Hyperparameter Mean Test Scores\")\n",
    "plt.legend()\n",
    "plt.show()"
   ]
  },
  {
   "cell_type": "code",
   "execution_count": null,
   "metadata": {},
   "outputs": [],
   "source": [
    "# chw_m10_GS_file = 'chw_m10_GS'\n",
    "# chw_m10_GS_out = open(chw_m10_GS_file,'wb')\n",
    "# pickle.dump(chw_m10_GS,chw_m10_GS_out)\n",
    "# chw_m10_GS_out.close()\n",
    "\n",
    "# chw_m10_GS_fit_file = 'chw_m10_GS_fit'\n",
    "# chw_m10_GS_fit_out = open(chw_m10_GS_fit_file,'wb')\n",
    "# pickle.dump(chw_m10_GS_fit,chw_m10_GS_fit_out)\n",
    "# chw_m10_GS_fit_out.close()\n",
    "\n",
    "# stm_m10_GS_file = 'stm_m10_GS'\n",
    "# stm_m10_GS_out = open(stm_m10_GS_file,'wb')\n",
    "# pickle.dump(stm_m10_GS,stm_m10_GS_out)\n",
    "# stm_m10_GS_out.close()\n",
    "\n",
    "# stm_m10_GS_fit_file = 'stm_m10_GS_fit'\n",
    "# stm_m10_GS_fit_out = open(stm_m10_GS_fit_file,'wb')\n",
    "# pickle.dump(stm_m10_GS_fit,stm_m10_GS_fit_out)\n",
    "# stm_m10_GS_fit_out.close()"
   ]
  },
  {
   "cell_type": "markdown",
   "metadata": {},
   "source": [
    "## Tuned Parameter Models"
   ]
  },
  {
   "cell_type": "markdown",
   "metadata": {},
   "source": [
    "__Logistic Regression__"
   ]
  },
  {
   "cell_type": "code",
   "execution_count": 38,
   "metadata": {},
   "outputs": [],
   "source": [
    "chw_lr = linear_model.LogisticRegression(C=166.81005372000593, class_weight=None, dual=False,\n",
    "          fit_intercept=True, intercept_scaling=1, max_iter=100,\n",
    "          multi_class='ovr', n_jobs=1, penalty='l2', random_state=None,\n",
    "          solver='liblinear', tol=0.0001, verbose=0, warm_start=False)\n",
    "stm_lr = linear_model.LogisticRegression(C=464.15888336127773, class_weight=None, dual=False,\n",
    "          fit_intercept=True, intercept_scaling=1, max_iter=100,\n",
    "          multi_class='ovr', n_jobs=1, penalty='l2', random_state=None,\n",
    "          solver='liblinear', tol=0.0001, verbose=0, warm_start=False)"
   ]
  },
  {
   "cell_type": "code",
   "execution_count": 39,
   "metadata": {},
   "outputs": [
    {
     "data": {
      "text/plain": [
       "LogisticRegression(C=464.15888336127773, class_weight=None, dual=False,\n",
       "          fit_intercept=True, intercept_scaling=1, max_iter=100,\n",
       "          multi_class='ovr', n_jobs=1, penalty='l2', random_state=None,\n",
       "          solver='liblinear', tol=0.0001, verbose=0, warm_start=False)"
      ]
     },
     "execution_count": 39,
     "metadata": {},
     "output_type": "execute_result"
    }
   ],
   "source": [
    "chw_lr.fit(X_chw_train, Y_chw_train)\n",
    "stm_lr.fit(X_stm_train, Y_stm_train)"
   ]
  },
  {
   "cell_type": "code",
   "execution_count": 40,
   "metadata": {},
   "outputs": [],
   "source": [
    "chw_lr_pred = chw_lr.predict(X_chw_test)\n",
    "stm_lr_pred = stm_lr.predict(X_stm_test)"
   ]
  },
  {
   "cell_type": "code",
   "execution_count": 41,
   "metadata": {},
   "outputs": [
    {
     "name": "stdout",
     "output_type": "stream",
     "text": [
      "CHW Tuned Logistic Regression Accuracy Score: 0.9819199112179784 \n",
      " STM Tuned Logistic Regression Accuracy Score: 0.7417411333148499 \n",
      "\n"
     ]
    }
   ],
   "source": [
    "chw_lr_acc = accuracy_score(Y_chw_test, chw_lr_pred)\n",
    "stm_lr_acc = accuracy_score(Y_stm_test, stm_lr_pred)\n",
    "\n",
    "print('CHW Tuned Logistic Regression Accuracy Score:', chw_lr_acc, '\\n',\n",
    "     'STM Tuned Logistic Regression Accuracy Score:', stm_lr_acc, '\\n')"
   ]
  },
  {
   "cell_type": "code",
   "execution_count": 45,
   "metadata": {},
   "outputs": [
    {
     "name": "stdout",
     "output_type": "stream",
     "text": [
      "[[ 8297    69]\n",
      " [  322 12938]] \n",
      " [[31847  9836]\n",
      " [14383 37712]]\n"
     ]
    }
   ],
   "source": [
    "print(confusion_matrix(Y_chw_test, chw_lr_pred),'\\n',\n",
    "confusion_matrix(Y_stm_test, stm_lr_pred))"
   ]
  },
  {
   "cell_type": "code",
   "execution_count": 43,
   "metadata": {},
   "outputs": [],
   "source": [
    "chw_lr_cv = cross_validate(chw_lr, X_chw, Y_chw, scoring = 'precision_macro', cv = 5)\n",
    "stm_lr_cv = cross_validate(stm_lr, X_stm, Y_stm, scoring = 'precision_macro', cv = 5)"
   ]
  },
  {
   "cell_type": "code",
   "execution_count": 44,
   "metadata": {},
   "outputs": [
    {
     "name": "stdout",
     "output_type": "stream",
     "text": [
      "CHW Tuned Logistic Regression Cross Validation Mean Test Score: 0.9726031429745859 \n",
      " STM Tuned Logistic Regression Cross Validation Mean Test Score: 0.9726031429745859 \n",
      "\n"
     ]
    }
   ],
   "source": [
    "chw_lr_cv_ts = np.mean(chw_lr_cv['test_score'])\n",
    "stm_lr_cv_ts = np.mean(chw_lr_cv['test_score'])\n",
    "\n",
    "print('CHW Tuned Logistic Regression Cross Validation Mean Test Score:', chw_lr_cv_ts, '\\n',\n",
    "     'STM Tuned Logistic Regression Cross Validation Mean Test Score:', stm_lr_cv_ts, '\\n')"
   ]
  },
  {
   "cell_type": "markdown",
   "metadata": {},
   "source": [
    "__Decision Tree__"
   ]
  },
  {
   "cell_type": "code",
   "execution_count": 46,
   "metadata": {},
   "outputs": [],
   "source": [
    "chw_dt = tree.DecisionTreeClassifier(class_weight=None, criterion='gini', max_depth=13,\n",
    "            max_features=None, max_leaf_nodes=None,\n",
    "            min_impurity_decrease=0.0, min_impurity_split=None,\n",
    "            min_samples_leaf=1, min_samples_split=30,\n",
    "            min_weight_fraction_leaf=0.0, presort=False, random_state=None,\n",
    "            splitter='best')\n",
    "\n",
    "stm_dt = tree.DecisionTreeClassifier(class_weight=None, criterion='gini', max_depth=19,\n",
    "            max_features=None, max_leaf_nodes=None,\n",
    "            min_impurity_decrease=0.0, min_impurity_split=None,\n",
    "            min_samples_leaf=1, min_samples_split=10,\n",
    "            min_weight_fraction_leaf=0.0, presort=False, random_state=None,\n",
    "            splitter='best')"
   ]
  },
  {
   "cell_type": "code",
   "execution_count": 47,
   "metadata": {},
   "outputs": [
    {
     "data": {
      "text/plain": [
       "DecisionTreeClassifier(class_weight=None, criterion='gini', max_depth=19,\n",
       "            max_features=None, max_leaf_nodes=None,\n",
       "            min_impurity_decrease=0.0, min_impurity_split=None,\n",
       "            min_samples_leaf=1, min_samples_split=10,\n",
       "            min_weight_fraction_leaf=0.0, presort=False, random_state=None,\n",
       "            splitter='best')"
      ]
     },
     "execution_count": 47,
     "metadata": {},
     "output_type": "execute_result"
    }
   ],
   "source": [
    "chw_dt.fit(X_chw_train, Y_chw_train)\n",
    "stm_dt.fit(X_stm_train, Y_stm_train)"
   ]
  },
  {
   "cell_type": "code",
   "execution_count": 48,
   "metadata": {},
   "outputs": [],
   "source": [
    "chw_dt_pred = chw_dt.predict(X_chw_test)\n",
    "stm_dt_pred = stm_dt.predict(X_stm_test)"
   ]
  },
  {
   "cell_type": "code",
   "execution_count": 49,
   "metadata": {},
   "outputs": [
    {
     "name": "stdout",
     "output_type": "stream",
     "text": [
      "CHW Tuned Decision Tree Accuracy Score: 0.9910755571996671 \n",
      " STM Tuned Decision Tree Accuracy Score: 0.9706221075305509 \n",
      "\n"
     ]
    }
   ],
   "source": [
    "chw_dt_acc = accuracy_score(Y_chw_test, chw_dt_pred)\n",
    "stm_dt_acc = accuracy_score(Y_stm_test, stm_dt_pred)\n",
    "\n",
    "print('CHW Tuned Decision Tree Accuracy Score:', chw_dt_acc, '\\n',\n",
    "     'STM Tuned Decision Tree Accuracy Score:', stm_dt_acc, '\\n')"
   ]
  },
  {
   "cell_type": "code",
   "execution_count": 50,
   "metadata": {},
   "outputs": [
    {
     "name": "stdout",
     "output_type": "stream",
     "text": [
      "[[ 8320    46]\n",
      " [  147 13113]] \n",
      " [[40492  1191]\n",
      " [ 1564 50531]]\n"
     ]
    }
   ],
   "source": [
    "print(confusion_matrix(Y_chw_test, chw_dt_pred),'\\n',\n",
    "confusion_matrix(Y_stm_test, stm_dt_pred))"
   ]
  },
  {
   "cell_type": "code",
   "execution_count": 51,
   "metadata": {},
   "outputs": [],
   "source": [
    "chw_dt_cv = cross_validate(chw_dt, X_chw, Y_chw, scoring = 'precision_macro', cv = 5)\n",
    "stm_dt_cv = cross_validate(stm_dt, X_stm, Y_stm, scoring = 'precision_macro', cv = 5)"
   ]
  },
  {
   "cell_type": "code",
   "execution_count": 52,
   "metadata": {},
   "outputs": [
    {
     "name": "stdout",
     "output_type": "stream",
     "text": [
      "CHW Tuned Decision Tree Cross Validation Mean Test Score: 0.9509725157013511 \n",
      " STM Tuned Decision Tree Cross Validation Mean Test Score: 0.9509725157013511 \n",
      "\n"
     ]
    }
   ],
   "source": [
    "chw_dt_cv_ts = np.mean(chw_dt_cv['test_score'])\n",
    "stm_dt_cv_ts = np.mean(chw_dt_cv['test_score'])\n",
    "\n",
    "print('CHW Tuned Decision Tree Cross Validation Mean Test Score:', chw_dt_cv_ts, '\\n',\n",
    "     'STM Tuned Decision Tree Cross Validation Mean Test Score:', stm_dt_cv_ts, '\\n')"
   ]
  },
  {
   "cell_type": "markdown",
   "metadata": {},
   "source": [
    "__MLP__"
   ]
  },
  {
   "cell_type": "code",
   "execution_count": 54,
   "metadata": {},
   "outputs": [],
   "source": [
    "chw_mlp = neural_network.MLPClassifier(activation='logistic', alpha=0.0001, batch_size='auto',\n",
    "       beta_1=0.9, beta_2=0.999, early_stopping=False, epsilon=1e-08,\n",
    "       hidden_layer_sizes=51, learning_rate='constant',\n",
    "       learning_rate_init=0.001, max_iter=200, momentum=0.9,\n",
    "       nesterovs_momentum=True, power_t=0.5, random_state=None,\n",
    "       shuffle=True, solver='adam', tol=0.0001, validation_fraction=0.1,\n",
    "       verbose=False, warm_start=False)\n",
    "\n",
    "stm_mlp = neural_network.MLPClassifier(activation='tanh', alpha=0.0001, batch_size='auto', beta_1=0.9,\n",
    "       beta_2=0.999, early_stopping=False, epsilon=1e-08,\n",
    "       hidden_layer_sizes=51, learning_rate='constant',\n",
    "       learning_rate_init=0.001, max_iter=200, momentum=0.9,\n",
    "       nesterovs_momentum=True, power_t=0.5, random_state=None,\n",
    "       shuffle=True, solver='adam', tol=0.0001, validation_fraction=0.1,\n",
    "       verbose=False, warm_start=False) "
   ]
  },
  {
   "cell_type": "code",
   "execution_count": 55,
   "metadata": {},
   "outputs": [
    {
     "data": {
      "text/plain": [
       "MLPClassifier(activation='tanh', alpha=0.0001, batch_size='auto', beta_1=0.9,\n",
       "       beta_2=0.999, early_stopping=False, epsilon=1e-08,\n",
       "       hidden_layer_sizes=51, learning_rate='constant',\n",
       "       learning_rate_init=0.001, max_iter=200, momentum=0.9,\n",
       "       nesterovs_momentum=True, power_t=0.5, random_state=None,\n",
       "       shuffle=True, solver='adam', tol=0.0001, validation_fraction=0.1,\n",
       "       verbose=False, warm_start=False)"
      ]
     },
     "execution_count": 55,
     "metadata": {},
     "output_type": "execute_result"
    }
   ],
   "source": [
    "chw_mlp.fit(X_chw_train, Y_chw_train)\n",
    "stm_mlp.fit(X_stm_train, Y_stm_train)"
   ]
  },
  {
   "cell_type": "code",
   "execution_count": 56,
   "metadata": {},
   "outputs": [],
   "source": [
    "chw_mlp_pred = chw_mlp.predict(X_chw_test)\n",
    "stm_mlp_pred = stm_mlp.predict(X_stm_test)"
   ]
  },
  {
   "cell_type": "code",
   "execution_count": 57,
   "metadata": {},
   "outputs": [
    {
     "name": "stdout",
     "output_type": "stream",
     "text": [
      "CHW Tuned MLP Neural Network Accuracy Score: 0.9895958568389901 \n",
      " STM Tuned MLP Neural Network Accuracy Score: 0.9315511100684596 \n",
      "\n"
     ]
    }
   ],
   "source": [
    "chw_mlp_acc = accuracy_score(Y_chw_test, chw_mlp_pred)\n",
    "stm_mlp_acc = accuracy_score(Y_stm_test, stm_mlp_pred)\n",
    "\n",
    "print('CHW Tuned MLP Neural Network Accuracy Score:', chw_mlp_acc, '\\n',\n",
    "     'STM Tuned MLP Neural Network Accuracy Score:', stm_mlp_acc, '\\n')"
   ]
  },
  {
   "cell_type": "code",
   "execution_count": 58,
   "metadata": {},
   "outputs": [
    {
     "name": "stdout",
     "output_type": "stream",
     "text": [
      "[[ 8236   130]\n",
      " [   95 13165]] \n",
      " [[37155  4528]\n",
      " [ 1891 50204]]\n"
     ]
    }
   ],
   "source": [
    "print(confusion_matrix(Y_chw_test, chw_mlp_pred),'\\n',\n",
    "confusion_matrix(Y_stm_test, stm_mlp_pred))"
   ]
  },
  {
   "cell_type": "code",
   "execution_count": 59,
   "metadata": {},
   "outputs": [],
   "source": [
    "chw_mlp_cv = cross_validate(chw_mlp, X_chw, Y_chw, scoring = 'precision_macro', cv = 5)\n",
    "stm_mlp_cv = cross_validate(stm_mlp, X_stm, Y_stm, scoring = 'precision_macro', cv = 5)"
   ]
  },
  {
   "cell_type": "code",
   "execution_count": 60,
   "metadata": {},
   "outputs": [
    {
     "name": "stdout",
     "output_type": "stream",
     "text": [
      "CHW Tuned MLP Neural Network Cross Validation Mean Test Score: 0.9645480085640272 \n",
      " STM Tuned MLP Neural Network Cross Validation Mean Test Score: 0.9645480085640272 \n",
      "\n"
     ]
    }
   ],
   "source": [
    "chw_mlp_cv_ts = np.mean(chw_mlp_cv['test_score'])\n",
    "stm_mlp_cv_ts = np.mean(chw_mlp_cv['test_score'])\n",
    "\n",
    "print('CHW Tuned MLP Neural Network Cross Validation Mean Test Score:', chw_mlp_cv_ts, '\\n',\n",
    "     'STM Tuned MLP Neural Network Cross Validation Mean Test Score:', stm_mlp_cv_ts, '\\n')"
   ]
  },
  {
   "cell_type": "markdown",
   "metadata": {},
   "source": [
    "__Bagging__"
   ]
  },
  {
   "cell_type": "code",
   "execution_count": null,
   "metadata": {},
   "outputs": [],
   "source": [
    "chw_bag = ensemble.BaggingClassifier(base_estimator=tree.DecisionTreeClassifier(class_weight=None, criterion='gini', max_depth=5,\n",
    "            max_features=None, max_leaf_nodes=None,\n",
    "            min_impurity_decrease=0.0, min_impurity_split=None,\n",
    "            min_samples_leaf=1, min_samples_split=2,\n",
    "            min_weight_fraction_leaf=0.0, presort=False, random_state=None,\n",
    "            splitter='best'),\n",
    "         bootstrap=True, bootstrap_features=False, max_features=0.5,\n",
    "         max_samples=0.05, n_estimators=100, n_jobs=1, oob_score=False,\n",
    "         random_state=None, verbose=0, warm_start=False)\n",
    "\n",
    "stm_bag = ensemble.BaggingClassifier(base_estimator=tree.DecisionTreeClassifier(class_weight=None, criterion='gini', max_depth=5,\n",
    "            max_features=None, max_leaf_nodes=None,\n",
    "            min_impurity_decrease=0.0, min_impurity_split=None,\n",
    "            min_samples_leaf=1, min_samples_split=2,\n",
    "            min_weight_fraction_leaf=0.0, presort=False, random_state=None,\n",
    "            splitter='best'),\n",
    "         bootstrap=True, bootstrap_features=False, max_features=0.5,\n",
    "         max_samples=0.1, n_estimators=100, n_jobs=1, oob_score=False,\n",
    "         random_state=None, verbose=0, warm_start=False) "
   ]
  },
  {
   "cell_type": "code",
   "execution_count": null,
   "metadata": {},
   "outputs": [],
   "source": [
    "chw_bag.fit(X_chw_train, Y_chw_train)\n",
    "stm_bag.fit(X_stm_train, Y_stm_train)"
   ]
  },
  {
   "cell_type": "code",
   "execution_count": null,
   "metadata": {},
   "outputs": [],
   "source": [
    "chw_bag_pred = chw_bag.predict(X_chw_test)\n",
    "stm_bag_pred = stm_bag.predict(X_stm_test)"
   ]
  },
  {
   "cell_type": "code",
   "execution_count": null,
   "metadata": {},
   "outputs": [],
   "source": [
    "chw_bag_acc = accuracy_score(Y_chw_test, chw_bag_pred)\n",
    "stm_bag_acc = accuracy_score(Y_stm_test, stm_bag_pred)\n",
    "\n",
    "print('CHW Tuned Bagged Trees Accuracy Score:', chw_bag_acc, '\\n',\n",
    "     'STM Tuned Bagged Trees Accuracy Score:', stm_bag_acc, '\\n')"
   ]
  },
  {
   "cell_type": "code",
   "execution_count": null,
   "metadata": {},
   "outputs": [],
   "source": [
    "print(confusion_matrix(Y_chw_test, chw_bag_pred),'\\n',\n",
    "confusion_matrix(Y_stm_test, stm_bag_pred))"
   ]
  },
  {
   "cell_type": "code",
   "execution_count": null,
   "metadata": {},
   "outputs": [],
   "source": [
    "chw_bag_cv = cross_validate(chw_bag, X_chw, Y_chw, scoring = 'precision_macro', cv = 5)\n",
    "stm_bag_cv = cross_validate(stm_bag, X_stm, Y_stm, scoring = 'precision_macro', cv = 5)"
   ]
  },
  {
   "cell_type": "code",
   "execution_count": null,
   "metadata": {},
   "outputs": [],
   "source": [
    "chw_bag_cv_ts = np.mean(chw_bag_cv['test_score'])\n",
    "stm_bag_cv_ts = np.mean(chw_bag_cv['test_score'])\n",
    "\n",
    "print('CHW Tuned Bagged Trees Cross Validation Mean Test Score:', chw_bag_cv_ts, '\\n',\n",
    "     'STM Tuned Bagged Trees Cross Validation Mean Test Score:', stm_bag_cv_ts, '\\n')"
   ]
  },
  {
   "cell_type": "markdown",
   "metadata": {},
   "source": [
    "__Random Forest__"
   ]
  },
  {
   "cell_type": "code",
   "execution_count": 69,
   "metadata": {},
   "outputs": [],
   "source": [
    "chw_rf = ensemble.RandomForestClassifier(bootstrap=True, class_weight=None, criterion='entropy',\n",
    "            max_depth=None, max_features='auto', max_leaf_nodes=None,\n",
    "            min_impurity_decrease=0.0, min_impurity_split=None,\n",
    "            min_samples_leaf=1, min_samples_split=2,\n",
    "            min_weight_fraction_leaf=0.0, n_estimators=77, n_jobs=1,\n",
    "            oob_score=False, random_state=None, verbose=0,\n",
    "            warm_start=False)\n",
    "\n",
    "stm_rf = ensemble.RandomForestClassifier(bootstrap=True, class_weight=None, criterion='entropy',\n",
    "            max_depth=None, max_features='auto', max_leaf_nodes=None,\n",
    "            min_impurity_decrease=0.0, min_impurity_split=None,\n",
    "            min_samples_leaf=1, min_samples_split=2,\n",
    "            min_weight_fraction_leaf=0.0, n_estimators=77, n_jobs=1,\n",
    "            oob_score=False, random_state=None, verbose=0,\n",
    "            warm_start=False)"
   ]
  },
  {
   "cell_type": "code",
   "execution_count": 70,
   "metadata": {},
   "outputs": [
    {
     "data": {
      "text/plain": [
       "RandomForestClassifier(bootstrap=True, class_weight=None, criterion='entropy',\n",
       "            max_depth=None, max_features='auto', max_leaf_nodes=None,\n",
       "            min_impurity_decrease=0.0, min_impurity_split=None,\n",
       "            min_samples_leaf=1, min_samples_split=2,\n",
       "            min_weight_fraction_leaf=0.0, n_estimators=77, n_jobs=1,\n",
       "            oob_score=False, random_state=None, verbose=0,\n",
       "            warm_start=False)"
      ]
     },
     "execution_count": 70,
     "metadata": {},
     "output_type": "execute_result"
    }
   ],
   "source": [
    "chw_rf.fit(X_chw_train, Y_chw_train)\n",
    "stm_rf.fit(X_stm_train, Y_stm_train)"
   ]
  },
  {
   "cell_type": "code",
   "execution_count": 71,
   "metadata": {},
   "outputs": [],
   "source": [
    "chw_rf_pred = chw_rf.predict(X_chw_test)\n",
    "stm_rf_pred = stm_rf.predict(X_stm_test)"
   ]
  },
  {
   "cell_type": "code",
   "execution_count": 72,
   "metadata": {},
   "outputs": [
    {
     "name": "stdout",
     "output_type": "stream",
     "text": [
      "CHW Tuned Random Forest Accuracy Score: 0.9910755571996671 \n",
      " STM Tuned Random Forest Accuracy Score: 0.9765829938791615 \n",
      "\n"
     ]
    }
   ],
   "source": [
    "chw_rf_acc = accuracy_score(Y_chw_test, chw_rf_pred)\n",
    "stm_rf_acc = accuracy_score(Y_stm_test, stm_rf_pred)\n",
    "\n",
    "print('CHW Tuned Random Forest Accuracy Score:', chw_rf_acc, '\\n',\n",
    "     'STM Tuned Random Forest Accuracy Score:', stm_rf_acc, '\\n')"
   ]
  },
  {
   "cell_type": "code",
   "execution_count": 73,
   "metadata": {},
   "outputs": [
    {
     "name": "stdout",
     "output_type": "stream",
     "text": [
      "[[ 8290    76]\n",
      " [  117 13143]] \n",
      " [[40638  1045]\n",
      " [ 1151 50944]]\n"
     ]
    }
   ],
   "source": [
    "print(confusion_matrix(Y_chw_test, chw_rf_pred),'\\n',\n",
    "confusion_matrix(Y_stm_test, stm_rf_pred))"
   ]
  },
  {
   "cell_type": "code",
   "execution_count": 74,
   "metadata": {},
   "outputs": [],
   "source": [
    "chw_rf_cv = cross_validate(chw_rf, X_chw, Y_chw, scoring = 'precision_macro', cv = 5)\n",
    "stm_rf_cv = cross_validate(stm_rf, X_stm, Y_stm, scoring = 'precision_macro', cv = 5)"
   ]
  },
  {
   "cell_type": "code",
   "execution_count": 75,
   "metadata": {},
   "outputs": [
    {
     "name": "stdout",
     "output_type": "stream",
     "text": [
      "CHW Tuned Random Forest Cross Validation Mean Test Score: 0.9454986402748486 \n",
      " STM Tuned Random Forest Cross Validation Mean Test Score: 0.9454986402748486 \n",
      "\n"
     ]
    }
   ],
   "source": [
    "chw_rf_cv_ts = np.mean(chw_rf_cv['test_score'])\n",
    "stm_rf_cv_ts = np.mean(chw_rf_cv['test_score'])\n",
    "\n",
    "print('CHW Tuned Random Forest Cross Validation Mean Test Score:', chw_rf_cv_ts, '\\n',\n",
    "     'STM Tuned Random Forest Cross Validation Mean Test Score:', stm_rf_cv_ts, '\\n')"
   ]
  },
  {
   "cell_type": "markdown",
   "metadata": {},
   "source": [
    "__AdaBoost__"
   ]
  },
  {
   "cell_type": "code",
   "execution_count": 76,
   "metadata": {},
   "outputs": [],
   "source": [
    "chw_ada = ensemble.AdaBoostClassifier(algorithm='SAMME.R',\n",
    "          base_estimator=tree.DecisionTreeClassifier(class_weight=None, criterion='gini', max_depth=4,\n",
    "            max_features=None, max_leaf_nodes=None,\n",
    "            min_impurity_decrease=0.0, min_impurity_split=None,\n",
    "            min_samples_leaf=8, min_samples_split=8,\n",
    "            min_weight_fraction_leaf=0.0, presort=False, random_state=None,\n",
    "            splitter='best'),\n",
    "          learning_rate=0.1, n_estimators=200, random_state=None)\n",
    "\n",
    "stm_ada = ensemble.AdaBoostClassifier(algorithm='SAMME.R',\n",
    "          base_estimator=tree.DecisionTreeClassifier(class_weight=None, criterion='gini', max_depth=4,\n",
    "            max_features=None, max_leaf_nodes=None,\n",
    "            min_impurity_decrease=0.0, min_impurity_split=None,\n",
    "            min_samples_leaf=12, min_samples_split=2,\n",
    "            min_weight_fraction_leaf=0.0, presort=False, random_state=None,\n",
    "            splitter='best'),\n",
    "          learning_rate=1, n_estimators=200, random_state=None)"
   ]
  },
  {
   "cell_type": "code",
   "execution_count": 77,
   "metadata": {},
   "outputs": [
    {
     "data": {
      "text/plain": [
       "AdaBoostClassifier(algorithm='SAMME.R',\n",
       "          base_estimator=DecisionTreeClassifier(class_weight=None, criterion='gini', max_depth=4,\n",
       "            max_features=None, max_leaf_nodes=None,\n",
       "            min_impurity_decrease=0.0, min_impurity_split=None,\n",
       "            min_samples_leaf=12, min_samples_split=2,\n",
       "            min_weight_fraction_leaf=0.0, presort=False, random_state=None,\n",
       "            splitter='best'),\n",
       "          learning_rate=1, n_estimators=200, random_state=None)"
      ]
     },
     "execution_count": 77,
     "metadata": {},
     "output_type": "execute_result"
    }
   ],
   "source": [
    "chw_ada.fit(X_chw_train, Y_chw_train)\n",
    "stm_ada.fit(X_stm_train, Y_stm_train)"
   ]
  },
  {
   "cell_type": "code",
   "execution_count": 78,
   "metadata": {},
   "outputs": [],
   "source": [
    "chw_ada_pred = chw_ada.predict(X_chw_test)\n",
    "stm_ada_pred = stm_ada.predict(X_stm_test)"
   ]
  },
  {
   "cell_type": "code",
   "execution_count": 79,
   "metadata": {},
   "outputs": [
    {
     "name": "stdout",
     "output_type": "stream",
     "text": [
      "CHW Tuned AdaBoost Accuracy Score: 0.9910755571996671 \n",
      " STM Tuned AdaBoost Accuracy Score: 0.9685000746443729 \n",
      "\n"
     ]
    }
   ],
   "source": [
    "chw_ada_acc = accuracy_score(Y_chw_test, chw_ada_pred)\n",
    "stm_ada_acc = accuracy_score(Y_stm_test, stm_ada_pred)\n",
    "\n",
    "print('CHW Tuned AdaBoost Accuracy Score:', chw_ada_acc, '\\n',\n",
    "     'STM Tuned AdaBoost Accuracy Score:', stm_ada_acc, '\\n')"
   ]
  },
  {
   "cell_type": "code",
   "execution_count": 80,
   "metadata": {},
   "outputs": [
    {
     "name": "stdout",
     "output_type": "stream",
     "text": [
      "[[ 8308    58]\n",
      " [  135 13125]] \n",
      " [[40412  1271]\n",
      " [ 1683 50412]]\n"
     ]
    }
   ],
   "source": [
    "print(confusion_matrix(Y_chw_test, chw_ada_pred),'\\n',\n",
    "confusion_matrix(Y_stm_test, stm_ada_pred))"
   ]
  },
  {
   "cell_type": "code",
   "execution_count": 81,
   "metadata": {},
   "outputs": [],
   "source": [
    "chw_ada_cv = cross_validate(chw_ada, X_chw_train, Y_chw_train, scoring = 'precision_macro', cv = 5)\n",
    "stm_ada_cv = cross_validate(stm_ada, X_stm_train, Y_stm_train, scoring = 'precision_macro', cv = 5)"
   ]
  },
  {
   "cell_type": "code",
   "execution_count": 82,
   "metadata": {},
   "outputs": [
    {
     "name": "stdout",
     "output_type": "stream",
     "text": [
      "CHW Tuned AdaBoost Cross Validation Mean Test Score: 0.9495214105596675 \n",
      " STM Tuned AdaBoost Cross Validation Mean Test Score: 0.9495214105596675 \n",
      "\n"
     ]
    }
   ],
   "source": [
    "chw_ada_cv_ts = np.mean(chw_ada_cv['test_score'])\n",
    "stm_ada_cv_ts = np.mean(chw_ada_cv['test_score'])\n",
    "\n",
    "print('CHW Tuned AdaBoost Cross Validation Mean Test Score:', chw_ada_cv_ts, '\\n',\n",
    "     'STM Tuned AdaBoost Cross Validation Mean Test Score:', stm_ada_cv_ts, '\\n')"
   ]
  },
  {
   "cell_type": "markdown",
   "metadata": {},
   "source": [
    "__Gradient Boosting__"
   ]
  },
  {
   "cell_type": "code",
   "execution_count": 83,
   "metadata": {},
   "outputs": [],
   "source": [
    "chw_gb = ensemble.GradientBoostingClassifier(criterion='mae', init=None, learning_rate=0.075,\n",
    "              loss='deviance', max_depth=3, max_features='sqrt',\n",
    "              max_leaf_nodes=None, min_impurity_decrease=0.0,\n",
    "              min_impurity_split=None, min_samples_leaf=0.1,\n",
    "              min_samples_split=0.24545454545454548,\n",
    "              min_weight_fraction_leaf=0.0, n_estimators=10,\n",
    "              presort='auto', random_state=None, subsample=0.9, verbose=0,\n",
    "              warm_start=False)"
   ]
  },
  {
   "cell_type": "code",
   "execution_count": 84,
   "metadata": {},
   "outputs": [
    {
     "data": {
      "text/plain": [
       "GradientBoostingClassifier(criterion='mae', init=None, learning_rate=0.075,\n",
       "              loss='deviance', max_depth=3, max_features='sqrt',\n",
       "              max_leaf_nodes=None, min_impurity_decrease=0.0,\n",
       "              min_impurity_split=None, min_samples_leaf=0.1,\n",
       "              min_samples_split=0.24545454545454548,\n",
       "              min_weight_fraction_leaf=0.0, n_estimators=10,\n",
       "              presort='auto', random_state=None, subsample=0.9, verbose=0,\n",
       "              warm_start=False)"
      ]
     },
     "execution_count": 84,
     "metadata": {},
     "output_type": "execute_result"
    }
   ],
   "source": [
    "chw_gb.fit(X_chw_train, Y_chw_train)"
   ]
  },
  {
   "cell_type": "code",
   "execution_count": 85,
   "metadata": {},
   "outputs": [],
   "source": [
    "chw_gb_pred = chw_gb.predict(X_chw_test)"
   ]
  },
  {
   "cell_type": "code",
   "execution_count": 86,
   "metadata": {},
   "outputs": [
    {
     "name": "stdout",
     "output_type": "stream",
     "text": [
      "CHW Tuned Gradient Boosting Accuracy Score: 0.9381762693054656\n"
     ]
    }
   ],
   "source": [
    "chw_gb_acc = accuracy_score(Y_chw_test, chw_gb_pred)\n",
    "\n",
    "print('CHW Tuned Gradient Boosting Accuracy Score:', chw_gb_acc)"
   ]
  },
  {
   "cell_type": "code",
   "execution_count": 87,
   "metadata": {},
   "outputs": [
    {
     "name": "stdout",
     "output_type": "stream",
     "text": [
      "[[ 7347  1019]\n",
      " [  318 12942]]\n"
     ]
    }
   ],
   "source": [
    "print(confusion_matrix(Y_chw_test, chw_gb_pred))"
   ]
  },
  {
   "cell_type": "code",
   "execution_count": 89,
   "metadata": {},
   "outputs": [
    {
     "ename": "KeyboardInterrupt",
     "evalue": "",
     "output_type": "error",
     "traceback": [
      "\u001b[0;31m---------------------------------------------------------------------------\u001b[0m",
      "\u001b[0;31mKeyboardInterrupt\u001b[0m                         Traceback (most recent call last)",
      "\u001b[0;32m<ipython-input-89-da7349edbc06>\u001b[0m in \u001b[0;36m<module>\u001b[0;34m()\u001b[0m\n\u001b[0;32m----> 1\u001b[0;31m \u001b[0mchw_gb_cv\u001b[0m \u001b[0;34m=\u001b[0m \u001b[0mcross_validate\u001b[0m\u001b[0;34m(\u001b[0m\u001b[0mchw_gb\u001b[0m\u001b[0;34m,\u001b[0m \u001b[0mX_chw\u001b[0m\u001b[0;34m,\u001b[0m \u001b[0mY_chw\u001b[0m\u001b[0;34m,\u001b[0m \u001b[0mscoring\u001b[0m \u001b[0;34m=\u001b[0m \u001b[0;34m'precision_macro'\u001b[0m\u001b[0;34m,\u001b[0m \u001b[0mcv\u001b[0m \u001b[0;34m=\u001b[0m \u001b[0;36m5\u001b[0m\u001b[0;34m)\u001b[0m\u001b[0;34m\u001b[0m\u001b[0m\n\u001b[0m",
      "\u001b[0;32m/anaconda3/lib/python3.6/site-packages/sklearn/model_selection/_validation.py\u001b[0m in \u001b[0;36mcross_validate\u001b[0;34m(estimator, X, y, groups, scoring, cv, n_jobs, verbose, fit_params, pre_dispatch, return_train_score)\u001b[0m\n\u001b[1;32m    204\u001b[0m             \u001b[0mfit_params\u001b[0m\u001b[0;34m,\u001b[0m \u001b[0mreturn_train_score\u001b[0m\u001b[0;34m=\u001b[0m\u001b[0mreturn_train_score\u001b[0m\u001b[0;34m,\u001b[0m\u001b[0;34m\u001b[0m\u001b[0m\n\u001b[1;32m    205\u001b[0m             return_times=True)\n\u001b[0;32m--> 206\u001b[0;31m         for train, test in cv.split(X, y, groups))\n\u001b[0m\u001b[1;32m    207\u001b[0m \u001b[0;34m\u001b[0m\u001b[0m\n\u001b[1;32m    208\u001b[0m     \u001b[0;32mif\u001b[0m \u001b[0mreturn_train_score\u001b[0m\u001b[0;34m:\u001b[0m\u001b[0;34m\u001b[0m\u001b[0m\n",
      "\u001b[0;32m/anaconda3/lib/python3.6/site-packages/sklearn/externals/joblib/parallel.py\u001b[0m in \u001b[0;36m__call__\u001b[0;34m(self, iterable)\u001b[0m\n\u001b[1;32m    777\u001b[0m             \u001b[0;31m# was dispatched. In particular this covers the edge\u001b[0m\u001b[0;34m\u001b[0m\u001b[0;34m\u001b[0m\u001b[0m\n\u001b[1;32m    778\u001b[0m             \u001b[0;31m# case of Parallel used with an exhausted iterator.\u001b[0m\u001b[0;34m\u001b[0m\u001b[0;34m\u001b[0m\u001b[0m\n\u001b[0;32m--> 779\u001b[0;31m             \u001b[0;32mwhile\u001b[0m \u001b[0mself\u001b[0m\u001b[0;34m.\u001b[0m\u001b[0mdispatch_one_batch\u001b[0m\u001b[0;34m(\u001b[0m\u001b[0miterator\u001b[0m\u001b[0;34m)\u001b[0m\u001b[0;34m:\u001b[0m\u001b[0;34m\u001b[0m\u001b[0m\n\u001b[0m\u001b[1;32m    780\u001b[0m                 \u001b[0mself\u001b[0m\u001b[0;34m.\u001b[0m\u001b[0m_iterating\u001b[0m \u001b[0;34m=\u001b[0m \u001b[0;32mTrue\u001b[0m\u001b[0;34m\u001b[0m\u001b[0m\n\u001b[1;32m    781\u001b[0m             \u001b[0;32melse\u001b[0m\u001b[0;34m:\u001b[0m\u001b[0;34m\u001b[0m\u001b[0m\n",
      "\u001b[0;32m/anaconda3/lib/python3.6/site-packages/sklearn/externals/joblib/parallel.py\u001b[0m in \u001b[0;36mdispatch_one_batch\u001b[0;34m(self, iterator)\u001b[0m\n\u001b[1;32m    623\u001b[0m                 \u001b[0;32mreturn\u001b[0m \u001b[0;32mFalse\u001b[0m\u001b[0;34m\u001b[0m\u001b[0m\n\u001b[1;32m    624\u001b[0m             \u001b[0;32melse\u001b[0m\u001b[0;34m:\u001b[0m\u001b[0;34m\u001b[0m\u001b[0m\n\u001b[0;32m--> 625\u001b[0;31m                 \u001b[0mself\u001b[0m\u001b[0;34m.\u001b[0m\u001b[0m_dispatch\u001b[0m\u001b[0;34m(\u001b[0m\u001b[0mtasks\u001b[0m\u001b[0;34m)\u001b[0m\u001b[0;34m\u001b[0m\u001b[0m\n\u001b[0m\u001b[1;32m    626\u001b[0m                 \u001b[0;32mreturn\u001b[0m \u001b[0;32mTrue\u001b[0m\u001b[0;34m\u001b[0m\u001b[0m\n\u001b[1;32m    627\u001b[0m \u001b[0;34m\u001b[0m\u001b[0m\n",
      "\u001b[0;32m/anaconda3/lib/python3.6/site-packages/sklearn/externals/joblib/parallel.py\u001b[0m in \u001b[0;36m_dispatch\u001b[0;34m(self, batch)\u001b[0m\n\u001b[1;32m    586\u001b[0m         \u001b[0mdispatch_timestamp\u001b[0m \u001b[0;34m=\u001b[0m \u001b[0mtime\u001b[0m\u001b[0;34m.\u001b[0m\u001b[0mtime\u001b[0m\u001b[0;34m(\u001b[0m\u001b[0;34m)\u001b[0m\u001b[0;34m\u001b[0m\u001b[0m\n\u001b[1;32m    587\u001b[0m         \u001b[0mcb\u001b[0m \u001b[0;34m=\u001b[0m \u001b[0mBatchCompletionCallBack\u001b[0m\u001b[0;34m(\u001b[0m\u001b[0mdispatch_timestamp\u001b[0m\u001b[0;34m,\u001b[0m \u001b[0mlen\u001b[0m\u001b[0;34m(\u001b[0m\u001b[0mbatch\u001b[0m\u001b[0;34m)\u001b[0m\u001b[0;34m,\u001b[0m \u001b[0mself\u001b[0m\u001b[0;34m)\u001b[0m\u001b[0;34m\u001b[0m\u001b[0m\n\u001b[0;32m--> 588\u001b[0;31m         \u001b[0mjob\u001b[0m \u001b[0;34m=\u001b[0m \u001b[0mself\u001b[0m\u001b[0;34m.\u001b[0m\u001b[0m_backend\u001b[0m\u001b[0;34m.\u001b[0m\u001b[0mapply_async\u001b[0m\u001b[0;34m(\u001b[0m\u001b[0mbatch\u001b[0m\u001b[0;34m,\u001b[0m \u001b[0mcallback\u001b[0m\u001b[0;34m=\u001b[0m\u001b[0mcb\u001b[0m\u001b[0;34m)\u001b[0m\u001b[0;34m\u001b[0m\u001b[0m\n\u001b[0m\u001b[1;32m    589\u001b[0m         \u001b[0mself\u001b[0m\u001b[0;34m.\u001b[0m\u001b[0m_jobs\u001b[0m\u001b[0;34m.\u001b[0m\u001b[0mappend\u001b[0m\u001b[0;34m(\u001b[0m\u001b[0mjob\u001b[0m\u001b[0;34m)\u001b[0m\u001b[0;34m\u001b[0m\u001b[0m\n\u001b[1;32m    590\u001b[0m \u001b[0;34m\u001b[0m\u001b[0m\n",
      "\u001b[0;32m/anaconda3/lib/python3.6/site-packages/sklearn/externals/joblib/_parallel_backends.py\u001b[0m in \u001b[0;36mapply_async\u001b[0;34m(self, func, callback)\u001b[0m\n\u001b[1;32m    109\u001b[0m     \u001b[0;32mdef\u001b[0m \u001b[0mapply_async\u001b[0m\u001b[0;34m(\u001b[0m\u001b[0mself\u001b[0m\u001b[0;34m,\u001b[0m \u001b[0mfunc\u001b[0m\u001b[0;34m,\u001b[0m \u001b[0mcallback\u001b[0m\u001b[0;34m=\u001b[0m\u001b[0;32mNone\u001b[0m\u001b[0;34m)\u001b[0m\u001b[0;34m:\u001b[0m\u001b[0;34m\u001b[0m\u001b[0m\n\u001b[1;32m    110\u001b[0m         \u001b[0;34m\"\"\"Schedule a func to be run\"\"\"\u001b[0m\u001b[0;34m\u001b[0m\u001b[0m\n\u001b[0;32m--> 111\u001b[0;31m         \u001b[0mresult\u001b[0m \u001b[0;34m=\u001b[0m \u001b[0mImmediateResult\u001b[0m\u001b[0;34m(\u001b[0m\u001b[0mfunc\u001b[0m\u001b[0;34m)\u001b[0m\u001b[0;34m\u001b[0m\u001b[0m\n\u001b[0m\u001b[1;32m    112\u001b[0m         \u001b[0;32mif\u001b[0m \u001b[0mcallback\u001b[0m\u001b[0;34m:\u001b[0m\u001b[0;34m\u001b[0m\u001b[0m\n\u001b[1;32m    113\u001b[0m             \u001b[0mcallback\u001b[0m\u001b[0;34m(\u001b[0m\u001b[0mresult\u001b[0m\u001b[0;34m)\u001b[0m\u001b[0;34m\u001b[0m\u001b[0m\n",
      "\u001b[0;32m/anaconda3/lib/python3.6/site-packages/sklearn/externals/joblib/_parallel_backends.py\u001b[0m in \u001b[0;36m__init__\u001b[0;34m(self, batch)\u001b[0m\n\u001b[1;32m    330\u001b[0m         \u001b[0;31m# Don't delay the application, to avoid keeping the input\u001b[0m\u001b[0;34m\u001b[0m\u001b[0;34m\u001b[0m\u001b[0m\n\u001b[1;32m    331\u001b[0m         \u001b[0;31m# arguments in memory\u001b[0m\u001b[0;34m\u001b[0m\u001b[0;34m\u001b[0m\u001b[0m\n\u001b[0;32m--> 332\u001b[0;31m         \u001b[0mself\u001b[0m\u001b[0;34m.\u001b[0m\u001b[0mresults\u001b[0m \u001b[0;34m=\u001b[0m \u001b[0mbatch\u001b[0m\u001b[0;34m(\u001b[0m\u001b[0;34m)\u001b[0m\u001b[0;34m\u001b[0m\u001b[0m\n\u001b[0m\u001b[1;32m    333\u001b[0m \u001b[0;34m\u001b[0m\u001b[0m\n\u001b[1;32m    334\u001b[0m     \u001b[0;32mdef\u001b[0m \u001b[0mget\u001b[0m\u001b[0;34m(\u001b[0m\u001b[0mself\u001b[0m\u001b[0;34m)\u001b[0m\u001b[0;34m:\u001b[0m\u001b[0;34m\u001b[0m\u001b[0m\n",
      "\u001b[0;32m/anaconda3/lib/python3.6/site-packages/sklearn/externals/joblib/parallel.py\u001b[0m in \u001b[0;36m__call__\u001b[0;34m(self)\u001b[0m\n\u001b[1;32m    129\u001b[0m \u001b[0;34m\u001b[0m\u001b[0m\n\u001b[1;32m    130\u001b[0m     \u001b[0;32mdef\u001b[0m \u001b[0m__call__\u001b[0m\u001b[0;34m(\u001b[0m\u001b[0mself\u001b[0m\u001b[0;34m)\u001b[0m\u001b[0;34m:\u001b[0m\u001b[0;34m\u001b[0m\u001b[0m\n\u001b[0;32m--> 131\u001b[0;31m         \u001b[0;32mreturn\u001b[0m \u001b[0;34m[\u001b[0m\u001b[0mfunc\u001b[0m\u001b[0;34m(\u001b[0m\u001b[0;34m*\u001b[0m\u001b[0margs\u001b[0m\u001b[0;34m,\u001b[0m \u001b[0;34m**\u001b[0m\u001b[0mkwargs\u001b[0m\u001b[0;34m)\u001b[0m \u001b[0;32mfor\u001b[0m \u001b[0mfunc\u001b[0m\u001b[0;34m,\u001b[0m \u001b[0margs\u001b[0m\u001b[0;34m,\u001b[0m \u001b[0mkwargs\u001b[0m \u001b[0;32min\u001b[0m \u001b[0mself\u001b[0m\u001b[0;34m.\u001b[0m\u001b[0mitems\u001b[0m\u001b[0;34m]\u001b[0m\u001b[0;34m\u001b[0m\u001b[0m\n\u001b[0m\u001b[1;32m    132\u001b[0m \u001b[0;34m\u001b[0m\u001b[0m\n\u001b[1;32m    133\u001b[0m     \u001b[0;32mdef\u001b[0m \u001b[0m__len__\u001b[0m\u001b[0;34m(\u001b[0m\u001b[0mself\u001b[0m\u001b[0;34m)\u001b[0m\u001b[0;34m:\u001b[0m\u001b[0;34m\u001b[0m\u001b[0m\n",
      "\u001b[0;32m/anaconda3/lib/python3.6/site-packages/sklearn/externals/joblib/parallel.py\u001b[0m in \u001b[0;36m<listcomp>\u001b[0;34m(.0)\u001b[0m\n\u001b[1;32m    129\u001b[0m \u001b[0;34m\u001b[0m\u001b[0m\n\u001b[1;32m    130\u001b[0m     \u001b[0;32mdef\u001b[0m \u001b[0m__call__\u001b[0m\u001b[0;34m(\u001b[0m\u001b[0mself\u001b[0m\u001b[0;34m)\u001b[0m\u001b[0;34m:\u001b[0m\u001b[0;34m\u001b[0m\u001b[0m\n\u001b[0;32m--> 131\u001b[0;31m         \u001b[0;32mreturn\u001b[0m \u001b[0;34m[\u001b[0m\u001b[0mfunc\u001b[0m\u001b[0;34m(\u001b[0m\u001b[0;34m*\u001b[0m\u001b[0margs\u001b[0m\u001b[0;34m,\u001b[0m \u001b[0;34m**\u001b[0m\u001b[0mkwargs\u001b[0m\u001b[0;34m)\u001b[0m \u001b[0;32mfor\u001b[0m \u001b[0mfunc\u001b[0m\u001b[0;34m,\u001b[0m \u001b[0margs\u001b[0m\u001b[0;34m,\u001b[0m \u001b[0mkwargs\u001b[0m \u001b[0;32min\u001b[0m \u001b[0mself\u001b[0m\u001b[0;34m.\u001b[0m\u001b[0mitems\u001b[0m\u001b[0;34m]\u001b[0m\u001b[0;34m\u001b[0m\u001b[0m\n\u001b[0m\u001b[1;32m    132\u001b[0m \u001b[0;34m\u001b[0m\u001b[0m\n\u001b[1;32m    133\u001b[0m     \u001b[0;32mdef\u001b[0m \u001b[0m__len__\u001b[0m\u001b[0;34m(\u001b[0m\u001b[0mself\u001b[0m\u001b[0;34m)\u001b[0m\u001b[0;34m:\u001b[0m\u001b[0;34m\u001b[0m\u001b[0m\n",
      "\u001b[0;32m/anaconda3/lib/python3.6/site-packages/sklearn/model_selection/_validation.py\u001b[0m in \u001b[0;36m_fit_and_score\u001b[0;34m(estimator, X, y, scorer, train, test, verbose, parameters, fit_params, return_train_score, return_parameters, return_n_test_samples, return_times, error_score)\u001b[0m\n\u001b[1;32m    456\u001b[0m             \u001b[0mestimator\u001b[0m\u001b[0;34m.\u001b[0m\u001b[0mfit\u001b[0m\u001b[0;34m(\u001b[0m\u001b[0mX_train\u001b[0m\u001b[0;34m,\u001b[0m \u001b[0;34m**\u001b[0m\u001b[0mfit_params\u001b[0m\u001b[0;34m)\u001b[0m\u001b[0;34m\u001b[0m\u001b[0m\n\u001b[1;32m    457\u001b[0m         \u001b[0;32melse\u001b[0m\u001b[0;34m:\u001b[0m\u001b[0;34m\u001b[0m\u001b[0m\n\u001b[0;32m--> 458\u001b[0;31m             \u001b[0mestimator\u001b[0m\u001b[0;34m.\u001b[0m\u001b[0mfit\u001b[0m\u001b[0;34m(\u001b[0m\u001b[0mX_train\u001b[0m\u001b[0;34m,\u001b[0m \u001b[0my_train\u001b[0m\u001b[0;34m,\u001b[0m \u001b[0;34m**\u001b[0m\u001b[0mfit_params\u001b[0m\u001b[0;34m)\u001b[0m\u001b[0;34m\u001b[0m\u001b[0m\n\u001b[0m\u001b[1;32m    459\u001b[0m \u001b[0;34m\u001b[0m\u001b[0m\n\u001b[1;32m    460\u001b[0m     \u001b[0;32mexcept\u001b[0m \u001b[0mException\u001b[0m \u001b[0;32mas\u001b[0m \u001b[0me\u001b[0m\u001b[0;34m:\u001b[0m\u001b[0;34m\u001b[0m\u001b[0m\n",
      "\u001b[0;32m/anaconda3/lib/python3.6/site-packages/sklearn/ensemble/gradient_boosting.py\u001b[0m in \u001b[0;36mfit\u001b[0;34m(self, X, y, sample_weight, monitor)\u001b[0m\n\u001b[1;32m   1032\u001b[0m         \u001b[0;31m# fit the boosting stages\u001b[0m\u001b[0;34m\u001b[0m\u001b[0;34m\u001b[0m\u001b[0m\n\u001b[1;32m   1033\u001b[0m         n_stages = self._fit_stages(X, y, y_pred, sample_weight, random_state,\n\u001b[0;32m-> 1034\u001b[0;31m                                     begin_at_stage, monitor, X_idx_sorted)\n\u001b[0m\u001b[1;32m   1035\u001b[0m         \u001b[0;31m# change shape of arrays after fit (early-stopping or additional ests)\u001b[0m\u001b[0;34m\u001b[0m\u001b[0;34m\u001b[0m\u001b[0m\n\u001b[1;32m   1036\u001b[0m         \u001b[0;32mif\u001b[0m \u001b[0mn_stages\u001b[0m \u001b[0;34m!=\u001b[0m \u001b[0mself\u001b[0m\u001b[0;34m.\u001b[0m\u001b[0mestimators_\u001b[0m\u001b[0;34m.\u001b[0m\u001b[0mshape\u001b[0m\u001b[0;34m[\u001b[0m\u001b[0;36m0\u001b[0m\u001b[0;34m]\u001b[0m\u001b[0;34m:\u001b[0m\u001b[0;34m\u001b[0m\u001b[0m\n",
      "\u001b[0;32m/anaconda3/lib/python3.6/site-packages/sklearn/ensemble/gradient_boosting.py\u001b[0m in \u001b[0;36m_fit_stages\u001b[0;34m(self, X, y, y_pred, sample_weight, random_state, begin_at_stage, monitor, X_idx_sorted)\u001b[0m\n\u001b[1;32m   1087\u001b[0m             y_pred = self._fit_stage(i, X, y, y_pred, sample_weight,\n\u001b[1;32m   1088\u001b[0m                                      \u001b[0msample_mask\u001b[0m\u001b[0;34m,\u001b[0m \u001b[0mrandom_state\u001b[0m\u001b[0;34m,\u001b[0m \u001b[0mX_idx_sorted\u001b[0m\u001b[0;34m,\u001b[0m\u001b[0;34m\u001b[0m\u001b[0m\n\u001b[0;32m-> 1089\u001b[0;31m                                      X_csc, X_csr)\n\u001b[0m\u001b[1;32m   1090\u001b[0m \u001b[0;34m\u001b[0m\u001b[0m\n\u001b[1;32m   1091\u001b[0m             \u001b[0;31m# track deviance (= loss)\u001b[0m\u001b[0;34m\u001b[0m\u001b[0;34m\u001b[0m\u001b[0m\n",
      "\u001b[0;32m/anaconda3/lib/python3.6/site-packages/sklearn/ensemble/gradient_boosting.py\u001b[0m in \u001b[0;36m_fit_stage\u001b[0;34m(self, i, X, y, y_pred, sample_weight, sample_mask, random_state, X_idx_sorted, X_csc, X_csr)\u001b[0m\n\u001b[1;32m    786\u001b[0m             \u001b[0;32melse\u001b[0m\u001b[0;34m:\u001b[0m\u001b[0;34m\u001b[0m\u001b[0m\n\u001b[1;32m    787\u001b[0m                 tree.fit(X, residual, sample_weight=sample_weight,\n\u001b[0;32m--> 788\u001b[0;31m                          check_input=False, X_idx_sorted=X_idx_sorted)\n\u001b[0m\u001b[1;32m    789\u001b[0m \u001b[0;34m\u001b[0m\u001b[0m\n\u001b[1;32m    790\u001b[0m             \u001b[0;31m# update tree leaves\u001b[0m\u001b[0;34m\u001b[0m\u001b[0;34m\u001b[0m\u001b[0m\n",
      "\u001b[0;32m/anaconda3/lib/python3.6/site-packages/sklearn/tree/tree.py\u001b[0m in \u001b[0;36mfit\u001b[0;34m(self, X, y, sample_weight, check_input, X_idx_sorted)\u001b[0m\n\u001b[1;32m   1122\u001b[0m             \u001b[0msample_weight\u001b[0m\u001b[0;34m=\u001b[0m\u001b[0msample_weight\u001b[0m\u001b[0;34m,\u001b[0m\u001b[0;34m\u001b[0m\u001b[0m\n\u001b[1;32m   1123\u001b[0m             \u001b[0mcheck_input\u001b[0m\u001b[0;34m=\u001b[0m\u001b[0mcheck_input\u001b[0m\u001b[0;34m,\u001b[0m\u001b[0;34m\u001b[0m\u001b[0m\n\u001b[0;32m-> 1124\u001b[0;31m             X_idx_sorted=X_idx_sorted)\n\u001b[0m\u001b[1;32m   1125\u001b[0m         \u001b[0;32mreturn\u001b[0m \u001b[0mself\u001b[0m\u001b[0;34m\u001b[0m\u001b[0m\n\u001b[1;32m   1126\u001b[0m \u001b[0;34m\u001b[0m\u001b[0m\n",
      "\u001b[0;32m/anaconda3/lib/python3.6/site-packages/sklearn/tree/tree.py\u001b[0m in \u001b[0;36mfit\u001b[0;34m(self, X, y, sample_weight, check_input, X_idx_sorted)\u001b[0m\n\u001b[1;32m    360\u001b[0m                                            min_impurity_split)\n\u001b[1;32m    361\u001b[0m \u001b[0;34m\u001b[0m\u001b[0m\n\u001b[0;32m--> 362\u001b[0;31m         \u001b[0mbuilder\u001b[0m\u001b[0;34m.\u001b[0m\u001b[0mbuild\u001b[0m\u001b[0;34m(\u001b[0m\u001b[0mself\u001b[0m\u001b[0;34m.\u001b[0m\u001b[0mtree_\u001b[0m\u001b[0;34m,\u001b[0m \u001b[0mX\u001b[0m\u001b[0;34m,\u001b[0m \u001b[0my\u001b[0m\u001b[0;34m,\u001b[0m \u001b[0msample_weight\u001b[0m\u001b[0;34m,\u001b[0m \u001b[0mX_idx_sorted\u001b[0m\u001b[0;34m)\u001b[0m\u001b[0;34m\u001b[0m\u001b[0m\n\u001b[0m\u001b[1;32m    363\u001b[0m \u001b[0;34m\u001b[0m\u001b[0m\n\u001b[1;32m    364\u001b[0m         \u001b[0;32mif\u001b[0m \u001b[0mself\u001b[0m\u001b[0;34m.\u001b[0m\u001b[0mn_outputs_\u001b[0m \u001b[0;34m==\u001b[0m \u001b[0;36m1\u001b[0m\u001b[0;34m:\u001b[0m\u001b[0;34m\u001b[0m\u001b[0m\n",
      "\u001b[0;31mKeyboardInterrupt\u001b[0m: "
     ]
    }
   ],
   "source": [
    "chw_gb_cv = cross_validate(chw_gb, X_chw, Y_chw, scoring = 'precision_macro', cv = 5)"
   ]
  },
  {
   "cell_type": "code",
   "execution_count": null,
   "metadata": {},
   "outputs": [],
   "source": [
    "chw_gb_cv_ts = np.mean(chw_gb_cv['test_score'])\n",
    "\n",
    "print('CHW Tuned Gradient Boosting Cross Validation Mean Test Score:', chw_gb_cv_ts)"
   ]
  },
  {
   "cell_type": "markdown",
   "metadata": {},
   "source": [
    "### Evaluate Tuned Models"
   ]
  },
  {
   "cell_type": "code",
   "execution_count": 108,
   "metadata": {},
   "outputs": [
    {
     "name": "stdout",
     "output_type": "stream",
     "text": [
      "[0.9726031429745859, 0.9136111364649946, 0.9627142271777303, 0.9498646647926143, 0.9509725157013511, 0.9645480085640272, 0.966302107414968, 0.9454986402748486, 0.9495214105596675, 0.9604698209268914]\n",
      "[0.9726031429745859, 0.6705600364679121, 0.547736113191947, 0.7597105812022661, 0.9509725157013511, 0.9645480085640272, 0.966302107414968, 0.9454986402748486, 0.9495214105596675, 0.8528123522971004]\n"
     ]
    }
   ],
   "source": [
    "chw_tuned_scores = [chw_lr_cv_ts,chw_test_scores[1],chw_test_scores[2],chw_test_scores[3],chw_dt_cv_ts,chw_mlp_cv_ts,\n",
    "                    chw_bag_cv_ts,chw_rf_cv_ts,chw_ada_cv_ts,chw_test_scores[9]]\n",
    "stm_tuned_scores = [stm_lr_cv_ts,stm_test_scores[1],stm_test_scores[2],stm_test_scores[3],stm_dt_cv_ts,stm_mlp_cv_ts,\n",
    "                    stm_bag_cv_ts,stm_rf_cv_ts,stm_ada_cv_ts,stm_test_scores[9]]\n",
    "\n",
    "print(chw_tuned_scores)\n",
    "print(stm_tuned_scores)"
   ]
  },
  {
   "cell_type": "code",
   "execution_count": null,
   "metadata": {},
   "outputs": [],
   "source": []
  },
  {
   "cell_type": "code",
   "execution_count": 113,
   "metadata": {},
   "outputs": [
    {
     "data": {
      "image/png": "[encoded data removed]",
      "text/plain": [
       "<Figure size 648x432 with 1 Axes>"
      ]
     },
     "metadata": {},
     "output_type": "display_data"
    }
   ],
   "source": [
    "N = 10\n",
    "\n",
    "fig1, ax1 = plt.subplots(figsize=(9,6))\n",
    "\n",
    "ind = np.arange(N)    # the x locations for the groups\n",
    "p1 = ax1.scatter(ind+0.05, chw_tuned_scores, color='blue')\n",
    "p2 = ax1.scatter(ind-0.05, stm_tuned_scores, color='red')\n",
    "\n",
    "ax1.set_title('Tuned Leakage Model Cross Validation Test Scores by Classifier')\n",
    "ax1.set_xticks(ind)\n",
    "ax1.set_yticks(np.arange(0.5, 1, 0.025))\n",
    "ax1.set_xticklabels(('Logistic \\nRegression', 'kNN', 'Linear \\nSVC', 'Gaussian \\nNB', 'Decision \\nTree','MLP', \n",
    "                     'Bagging', 'Random \\nForest', 'AdaBoost', 'Gradient \\nBoosting'))\n",
    "\n",
    "ax1.legend((p1, p2), ('Chilled Water Model Fits', 'Steam Model Fits'), loc='upper center', \n",
    "           bbox_to_anchor=(0.5, -0.08), fancybox=True, ncol=2)\n",
    "ax1.autoscale_view()\n",
    "\n",
    "plt.grid(True)\n",
    "plt.show()"
   ]
  },
  {
   "cell_type": "code",
   "execution_count": 4,
   "metadata": {},
   "outputs": [
    {
     "name": "stdout",
     "output_type": "stream",
     "text": [
      "[0.9726031429745859, 0.9509725157013511, 0.9645480085640272, 0.966302107414968, 0.9454986402748486, 0.9495214105596675]\n",
      "[0.9726031429745859, 0.9509725157013511, 0.9645480085640272, 0.966302107414968, 0.9454986402748486, 0.9495214105596675]\n"
     ]
    }
   ],
   "source": [
    "chw_tuned_scores_good = [0.9726031429745859, 0.9509725157013511, 0.9645480085640272, 0.966302107414968, 0.9454986402748486, 0.9495214105596675]\n",
    "stm_tuned_scores_good = [0.9726031429745859, 0.9509725157013511, 0.9645480085640272, 0.966302107414968, 0.9454986402748486, 0.9495214105596675]\n",
    "\n",
    "print(chw_tuned_scores_good)\n",
    "print(stm_tuned_scores_good)"
   ]
  },
  {
   "cell_type": "code",
   "execution_count": 7,
   "metadata": {},
   "outputs": [
    {
     "data": {
      "image/png": "[encoded data removed]",
      "text/plain": [
       "<Figure size 648x432 with 1 Axes>"
      ]
     },
     "metadata": {},
     "output_type": "display_data"
    }
   ],
   "source": [
    "N = 6\n",
    "\n",
    "fig1, ax1 = plt.subplots(figsize=(9,6))\n",
    "\n",
    "ind = np.arange(N)    # the x locations for the groups\n",
    "p1 = ax1.scatter(ind+0.05, chw_tuned_scores_good, color='blue')\n",
    "p2 = ax1.scatter(ind-0.05, stm_tuned_scores_good, color='red')\n",
    "\n",
    "ax1.set_title('Tuned Leakage Model Cross Validation Test Scores by Classifier')\n",
    "ax1.set_xticks(ind)\n",
    "ax1.set_yticks(np.arange(0.925, 1, 0.0025))\n",
    "ax1.set_xticklabels(('Logistic \\nRegression', 'Decision \\nTree', 'MLP', \n",
    "                     'Bagging', 'Random \\nForest', 'AdaBoost'))\n",
    "\n",
    "ax1.legend((p1, p2), ('Chilled Water Model Fits', 'Steam Model Fits'), loc='upper center', \n",
    "           bbox_to_anchor=(0.5, -0.08), fancybox=True, ncol=2)\n",
    "ax1.autoscale_view()\n",
    "\n",
    "plt.grid(True)\n",
    "plt.show()"
   ]
  },
  {
   "cell_type": "code",
   "execution_count": 119,
   "metadata": {
    "scrolled": true
   },
   "outputs": [
    {
     "data": {
      "image/png": "[encoded data removed]",
      "text/plain": [
       "<Figure size 720x504 with 1 Axes>"
      ]
     },
     "metadata": {},
     "output_type": "display_data"
    }
   ],
   "source": [
    "# Plot differences in accuracy between chw and stm models\n",
    "tune_model_diff_chw = []\n",
    "tune_model_diff_stm = []\n",
    "\n",
    "for i in [1,2,3,9]:\n",
    "    tune_model_diff_chw.append((chw_tuned_scores[i]-stm_tuned_scores[i])/chw_tuned_scores[i])\n",
    "    tune_model_diff_stm.append((stm_tuned_scores[i]-chw_tuned_scores[i])/stm_tuned_scores[i])\n",
    "\n",
    "N = 4\n",
    "\n",
    "fig, ax = plt.subplots(figsize=(10,7))\n",
    "\n",
    "ind = np.arange(N)    # the x locations for the groups\n",
    "width = 0.2         # the width of the bars\n",
    "p1 = ax.bar(ind, tune_model_diff_chw, width, color='#3779b9', bottom=0)\n",
    "p2 = ax.bar(ind + width/2, tune_model_diff_stm, width, color='#ba2d3e', bottom=0)\n",
    "\n",
    "ax.set_title('Accuracy Score Percent Difference between Chilled Water and Steam Classifier')\n",
    "ax.set_xticks(ind + width / 2)\n",
    "ax.set_xticklabels(('kNN', 'Linear \\nSVC', 'Gaussian \\nNB', 'Decision \\nTree',\n",
    "                    'MLP', 'Bagging', 'Random \\nForest', 'AdaBoost', 'Gradient \\nBoosting'))\n",
    "\n",
    "ax.autoscale_view()\n",
    "\n",
    "plt.show()"
   ]
  },
  {
   "cell_type": "code",
   "execution_count": 13,
   "metadata": {},
   "outputs": [
    {
     "data": {
      "image/png": "[encoded data removed]",
      "text/plain": [
       "<Figure size 648x432 with 1 Axes>"
      ]
     },
     "metadata": {},
     "output_type": "display_data"
    }
   ],
   "source": [
    "chw_gs_acc_scores = [0.9819199112179784,0.9910755571996671,0.9895958568389901,\n",
    "0.9726255433274762,0.9910755571996671,0.9910755571996671]\n",
    "\n",
    "stm_gs_acc_scores = [0.7417411333148499,0.9706221075305509,0.9315511100684596,\n",
    "0.8829256328776472,0.9765829938791615,0.9685000746443729]\n",
    "\n",
    "N = 6\n",
    "\n",
    "fig1, ax1 = plt.subplots(figsize=(9,6))\n",
    "\n",
    "ind = np.arange(N)    # the x locations for the groups\n",
    "p1 = ax1.scatter(ind, chw_gs_acc_scores, color='blue')\n",
    "p2 = ax1.scatter(ind, stm_gs_acc_scores, color='red')\n",
    "\n",
    "ax1.set_title('Tuned Leakage Model Accuracy Scores by Classifier')\n",
    "ax1.set_xticks(ind)\n",
    "ax1.set_yticks(np.arange(0.5, 1, 0.025))\n",
    "ax1.set_xticklabels(('Logistic \\nRegression', 'Decision \\nTree', 'MLP', \n",
    "                     'Bagging', 'Random \\nForest', 'AdaBoost'))\n",
    "\n",
    "ax1.legend((p1, p2), ('Chilled Water Model Fits', 'Steam Model Fits'), loc='upper center', \n",
    "           bbox_to_anchor=(0.5, -0.08), fancybox=True, ncol=2)\n",
    "ax1.autoscale_view()\n",
    "\n",
    "plt.grid(True)\n",
    "plt.show()\n"
   ]
  },
  {
   "cell_type": "code",
   "execution_count": null,
   "metadata": {},
   "outputs": [],
   "source": [
    "final_predict_chw = chw_bag_cv.predict(X_chw_test)\n",
    "final_predict_stm = stm_bag_cv.predict(X_stm_test)"
   ]
  },
  {
   "cell_type": "code",
   "execution_count": null,
   "metadata": {},
   "outputs": [],
   "source": [
    "print(final_predict_chw)\n",
    "print(final_predict_stm)"
   ]
  },
  {
   "cell_type": "code",
   "execution_count": null,
   "metadata": {},
   "outputs": [],
   "source": [
    "print(Y_chw_test)\n",
    "print(Y_stm_test)"
   ]
  },
  {
   "cell_type": "markdown",
   "metadata": {},
   "source": [
    "## Final Model\n",
    "### Random Forest"
   ]
  },
  {
   "cell_type": "code",
   "execution_count": null,
   "metadata": {},
   "outputs": [],
   "source": [
    "# chw_model = stm_model = ensemble.BaggingClassifier()\n",
    "# chw_model.fit(X_chw_train, Y_chw_train)\n",
    "# stm_model.fit(X_stm_train, Y_stm_train)\n",
    "\n",
    "# chw_pred = chw_model.predict(X_chw_test)\n",
    "# stm_pred = stm_model.predict(X_stm_test)\n",
    "\n",
    "# chw_acc_score = accuracy_score(Y_chw_test, chw_pred)\n",
    "# stm_acc_score = accuracy_score(Y_stm_test, stm_pred)\n",
    "\n",
    "# np.random.seed(1004)\n",
    "# cmap_data = plt.cm.Paired\n",
    "# cmap_cv = plt.cm.coolwarm\n",
    "# n_splits = 5\n",
    "\n",
    "# chw_cv = cross_validate(chw_model, X_chw_train, Y_chw_train, scoring = 'precision_macro', cv = 5)\n",
    "# stm_cv = cross_validate(stm_model, X_stm_train, Y_stm_train, scoring = 'precision_macro', cv = 5)\n",
    "\n",
    "# chw_test_score = np.mean(chw_cv['test_score'])\n",
    "# stm_test_score = np.mean(stm_cvs[i]['test_score'])"
   ]
  },
  {
   "cell_type": "code",
   "execution_count": 12,
   "metadata": {
    "scrolled": true
   },
   "outputs": [
    {
     "name": "stdout",
     "output_type": "stream",
     "text": [
      "CHW Tuned Decision Trees Accuracy Score: 0.9887635253861093 \n",
      " STM Tuned Decision Trees Accuracy Score: 0.9705581266395104 \n",
      "\n",
      "[[13061   162]\n",
      " [   81  8322]] \n",
      " [[50745  1356]\n",
      " [ 1405 40272]]\n"
     ]
    }
   ],
   "source": [
    "chw_dt = tree.DecisionTreeClassifier(class_weight=None, criterion='gini', max_depth=13,\n",
    "            max_features=None, max_leaf_nodes=None,\n",
    "            min_impurity_decrease=0.0, min_impurity_split=None,\n",
    "            min_samples_leaf=1, min_samples_split=30,\n",
    "            min_weight_fraction_leaf=0.0, presort=False, random_state=None,\n",
    "            splitter='best')\n",
    "\n",
    "stm_dt = tree.DecisionTreeClassifier(class_weight=None, criterion='gini', max_depth=19,\n",
    "            max_features=None, max_leaf_nodes=None,\n",
    "            min_impurity_decrease=0.0, min_impurity_split=None,\n",
    "            min_samples_leaf=1, min_samples_split=10,\n",
    "            min_weight_fraction_leaf=0.0, presort=False, random_state=None,\n",
    "            splitter='best')\n",
    "\n",
    "chw_dt.fit(X_chw_train, Y_chw_train)\n",
    "stm_dt.fit(X_stm_train, Y_stm_train)\n",
    "\n",
    "chw_dt_pred = chw_dt.predict(X_chw_test)\n",
    "stm_dt_pred = stm_dt.predict(X_stm_test)\n",
    "\n",
    "chw_dt_acc = accuracy_score(Y_chw_test, chw_dt_pred)\n",
    "stm_dt_acc = accuracy_score(Y_stm_test, stm_dt_pred)\n",
    "\n",
    "print('CHW Tuned Decision Trees Accuracy Score:', chw_dt_acc, '\\n',\n",
    "     'STM Tuned Decision Trees Accuracy Score:', stm_dt_acc, '\\n')\n",
    "\n",
    "print(confusion_matrix(Y_chw_test, chw_dt_pred),'\\n',\n",
    "confusion_matrix(Y_stm_test, stm_dt_pred))"
   ]
  },
  {
   "cell_type": "code",
   "execution_count": 13,
   "metadata": {},
   "outputs": [],
   "source": [
    "from sklearn.metrics import roc_auc_score, roc_curve\n",
    "from sklearn.model_selection import cross_val_predict"
   ]
  },
  {
   "cell_type": "code",
   "execution_count": 14,
   "metadata": {},
   "outputs": [],
   "source": [
    "chw_y_probs_dt = cross_val_predict(chw_dt, X_chw_train, Y_chw_train, cv=5, method='predict_proba')\n",
    "stm_y_probs_dt = cross_val_predict(stm_dt, X_stm_train, Y_stm_train, cv=5, method='predict_proba')"
   ]
  },
  {
   "cell_type": "code",
   "execution_count": 15,
   "metadata": {},
   "outputs": [],
   "source": [
    "chw_y_scores_dt = chw_y_probs_dt[:,1]\n",
    "stm_y_scores_dt = stm_y_probs_dt[:,1]\n",
    "\n",
    "chw_fpr_dt, chw_tpr_dt, chw_thresholds_dt = roc_curve(Y_chw_train, chw_y_scores_dt)\n",
    "stm_fpr_dt, stm_tpr_dt, stm_thresholds_dt = roc_curve(Y_stm_train, stm_y_scores_dt)"
   ]
  },
  {
   "cell_type": "code",
   "execution_count": 16,
   "metadata": {},
   "outputs": [],
   "source": [
    "def plot_roc_curve(fpr,tpr,label=None):\n",
    "    plt.plot(fpr,tpr,linewidth=2,label=label)\n",
    "    plt.plot([0,1],[0,1],'k--')\n",
    "    plt.axis([0,1,0,1])\n",
    "    plt.xlabel('False Positive Rate')\n",
    "    plt.ylabel('False Negative Rate')"
   ]
  },
  {
   "cell_type": "code",
   "execution_count": 17,
   "metadata": {
    "scrolled": true
   },
   "outputs": [
    {
     "data": {
      "image/png": "[encoded data removed]",
      "text/plain": [
       "<Figure size 432x288 with 1 Axes>"
      ]
     },
     "metadata": {},
     "output_type": "display_data"
    }
   ],
   "source": [
    "plot_roc_curve(chw_fpr_dt, chw_tpr_dt, \"CHW Random Forest\")\n",
    "plot_roc_curve(stm_fpr_dt, stm_tpr_dt, \"STM Random Forest\")\n",
    "plt.legend(loc=\"lower right\")\n",
    "plt.show()"
   ]
  },
  {
   "cell_type": "code",
   "execution_count": 35,
   "metadata": {},
   "outputs": [
    {
     "data": {
      "text/plain": [
       "0.9994149990886152"
      ]
     },
     "execution_count": 35,
     "metadata": {},
     "output_type": "execute_result"
    }
   ],
   "source": [
    "roc_auc_score(Y_chw_train, chw_y_scores_rf)"
   ]
  },
  {
   "cell_type": "code",
   "execution_count": 36,
   "metadata": {},
   "outputs": [
    {
     "data": {
      "text/plain": [
       "0.9971822055823157"
      ]
     },
     "execution_count": 36,
     "metadata": {},
     "output_type": "execute_result"
    }
   ],
   "source": [
    "roc_auc_score(Y_stm_train, stm_y_scores_rf)"
   ]
  },
  {
   "cell_type": "code",
   "execution_count": 21,
   "metadata": {
    "scrolled": true
   },
   "outputs": [
    {
     "name": "stdout",
     "output_type": "stream",
     "text": [
      "Confusion matrix, without normalization\n",
      "[[13061   162]\n",
      " [   81  8322]]\n"
     ]
    },
    {
     "data": {
      "image/png": "[encoded data removed]",
      "text/plain": [
       "<Figure size 432x288 with 2 Axes>"
      ]
     },
     "metadata": {},
     "output_type": "display_data"
    }
   ],
   "source": [
    "chw_dt_cm = confusion_matrix(Y_chw_test, chw_dt_pred)\n",
    "\n",
    "# Compute confusion matrix\n",
    "np.set_printoptions(precision=2)\n",
    "\n",
    "# Plot non-normalized confusion matrix\n",
    "plt.figure()\n",
    "plot_confusion_matrix(chw_dt_cm, classes=['Normal','Leakage'],normalize=False,\n",
    "                      title='Chilled Water Decision Tree Confusion Matrix')\n",
    "\n",
    "plt.show()"
   ]
  },
  {
   "cell_type": "code",
   "execution_count": 23,
   "metadata": {},
   "outputs": [
    {
     "name": "stdout",
     "output_type": "stream",
     "text": [
      "Confusion matrix, without normalization\n",
      "[[50745  1356]\n",
      " [ 1405 40272]]\n"
     ]
    },
    {
     "data": {
      "image/png": "[encoded data removed]",
      "text/plain": [
       "<Figure size 432x288 with 2 Axes>"
      ]
     },
     "metadata": {},
     "output_type": "display_data"
    }
   ],
   "source": [
    "stm_dt_cm = confusion_matrix(Y_stm_test, stm_dt_pred)\n",
    "np.set_printoptions(precision=2)\n",
    "\n",
    "plt.figure()\n",
    "plot_confusion_matrix(stm_dt_cm, classes=['Normal','Leakage'],normalize=False,\n",
    "                      title='Steam Decision Tree Confusion Matrix',cmap=plt.cm.Reds)\n",
    "\n",
    "plt.show()"
   ]
  },
  {
   "cell_type": "code",
   "execution_count": 16,
   "metadata": {},
   "outputs": [
    {
     "name": "stdout",
     "output_type": "stream",
     "text": [
      "0.9888560066586516\n",
      "0.9770948410074858\n",
      "33414     Leakage\n",
      "3475      Leakage\n",
      "10945     Leakage\n",
      "85248     Leakage\n",
      "6113      Leakage\n",
      "76323      Normal\n",
      "32720     Leakage\n",
      "75600      Normal\n",
      "13650     Leakage\n",
      "32741     Leakage\n",
      "21633     Leakage\n",
      "82168      Normal\n",
      "22293     Leakage\n",
      "24959      Normal\n",
      "39695     Leakage\n",
      "16348     Leakage\n",
      "7858      Leakage\n",
      "29718      Normal\n",
      "20757     Leakage\n",
      "79678     Leakage\n",
      "54289      Normal\n",
      "37241     Leakage\n",
      "94099      Normal\n",
      "1567      Leakage\n",
      "58815      Normal\n",
      "53668      Normal\n",
      "60559      Normal\n",
      "8291      Leakage\n",
      "106143    Leakage\n",
      "18579     Leakage\n",
      "           ...   \n",
      "26979     Leakage\n",
      "27814     Leakage\n",
      "65383      Normal\n",
      "4548      Leakage\n",
      "2832      Leakage\n",
      "79685      Normal\n",
      "106246    Leakage\n",
      "104434    Leakage\n",
      "81259      Normal\n",
      "78582      Normal\n",
      "107137     Normal\n",
      "102025    Leakage\n",
      "84797      Normal\n",
      "52130      Normal\n",
      "64203      Normal\n",
      "58351      Normal\n",
      "35743     Leakage\n",
      "74431      Normal\n",
      "22449     Leakage\n",
      "80803      Normal\n",
      "40381     Leakage\n",
      "101613    Leakage\n",
      "54135      Normal\n",
      "93272      Normal\n",
      "51641      Normal\n",
      "2157      Leakage\n",
      "54589      Normal\n",
      "51669      Normal\n",
      "22486     Leakage\n",
      "100560     Normal\n",
      "Name: Leakage, Length: 21626, dtype: object\n",
      "24662     Leakage\n",
      "375807    Leakage\n",
      "144447    Leakage\n",
      "443013     Normal\n",
      "62391     Leakage\n",
      "244457    Leakage\n",
      "286987     Normal\n",
      "207593     Normal\n",
      "236034     Normal\n",
      "427870     Normal\n",
      "425082     Normal\n",
      "215461    Leakage\n",
      "295812     Normal\n",
      "187256    Leakage\n",
      "310598    Leakage\n",
      "299246    Leakage\n",
      "176677    Leakage\n",
      "21873     Leakage\n",
      "147212     Normal\n",
      "11686      Normal\n",
      "100851    Leakage\n",
      "126536     Normal\n",
      "410128     Normal\n",
      "364531     Normal\n",
      "127903     Normal\n",
      "184480    Leakage\n",
      "264656    Leakage\n",
      "292729     Normal\n",
      "318688    Leakage\n",
      "158290     Normal\n",
      "           ...   \n",
      "171965     Normal\n",
      "435674     Normal\n",
      "145705    Leakage\n",
      "150960     Normal\n",
      "288157     Normal\n",
      "229333    Leakage\n",
      "72582     Leakage\n",
      "128244     Normal\n",
      "272208    Leakage\n",
      "109878     Normal\n",
      "25420     Leakage\n",
      "463248     Normal\n",
      "332549    Leakage\n",
      "99820     Leakage\n",
      "357136     Normal\n",
      "78110     Leakage\n",
      "313352    Leakage\n",
      "191033    Leakage\n",
      "369703    Leakage\n",
      "113238     Normal\n",
      "468432    Leakage\n",
      "73373     Leakage\n",
      "451828     Normal\n",
      "78393     Leakage\n",
      "41191     Leakage\n",
      "217197    Leakage\n",
      "10162      Normal\n",
      "112349     Normal\n",
      "219945    Leakage\n",
      "396871    Leakage\n",
      "Name: Leakage, Length: 93778, dtype: object\n"
     ]
    }
   ],
   "source": [
    "print(chw_rf_pred)\n",
    "print(stm_rf_pred)\n",
    "\n",
    "print(Y_chw_test)\n",
    "print(Y_stm_test)"
   ]
  },
  {
   "cell_type": "code",
   "execution_count": null,
   "metadata": {},
   "outputs": [],
   "source": []
  }
 ],
 "metadata": {
  "kernelspec": {
   "display_name": "Python 3",
   "language": "python",
   "name": "python3"
  },
  "language_info": {
   "codemirror_mode": {
    "name": "ipython",
    "version": 3
   },
   "file_extension": ".py",
   "mimetype": "text/x-python",
   "name": "python",
   "nbconvert_exporter": "python",
   "pygments_lexer": "ipython3",
   "version": "3.6.5"
  }
 },
 "nbformat": 4,
 "nbformat_minor": 2
}
